{
  "cells": [
    {
      "cell_type": "markdown",
      "metadata": {
        "id": "view-in-github",
        "colab_type": "text"
      },
      "source": [
        "<a href=\"https://colab.research.google.com/github/someshkr/Geo-Copula/blob/main/CONV_LSTM.ipynb\" target=\"_parent\"><img src=\"https://colab.research.google.com/assets/colab-badge.svg\" alt=\"Open In Colab\"/></a>"
      ]
    },
    {
      "cell_type": "code",
      "execution_count": null,
      "id": "3bdb9fcf",
      "metadata": {
        "id": "3bdb9fcf"
      },
      "outputs": [],
      "source": [
        "import numpy as np\n",
        "import matplotlib.pyplot as plt\n",
        "\n",
        "import tensorflow as tf\n",
        "from tensorflow import keras\n",
        "from tensorflow.keras import layers\n",
        "\n",
        "import io\n",
        "# import imageio\n",
        "from IPython.display import Image, display\n",
        "from ipywidgets import widgets, Layout, HBox\n",
        "\n",
        "import pandas as pd\n",
        "from tensorflow.python.keras.models import Sequential,Model\n",
        "from tensorflow.python.keras.layers import Dense, Dropout, BatchNormalization,Input, LSTM\n",
        "from tensorflow.python.keras.wrappers.scikit_learn import KerasRegressor\n",
        "from tensorflow.python.keras.callbacks import EarlyStopping, ModelCheckpoint\n",
        "from tensorflow.python.keras import regularizers,initializers\n",
        "import keras.backend as Kr\n",
        "\n",
        "\n",
        "from sklearn.model_selection import cross_val_score\n",
        "from sklearn.model_selection import KFold\n",
        "from sklearn.preprocessing import StandardScaler\n",
        "from sklearn.pipeline import Pipeline\n",
        "import numpy as np\n",
        "# Library for Gaussian process\n",
        "# import GPy\n",
        "##Library for visualization\n",
        "import matplotlib.pyplot as plt\n",
        "%matplotlib inline\n",
        "%config InlineBackend.figure_format = 'svg'\n",
        "import matplotlib;matplotlib.rcParams['figure.figsize'] = (10,10)\n",
        "import pylab\n",
        "import time\n",
        "from sklearn.model_selection import train_test_split\n",
        "from sklearn.metrics import mean_squared_error\n",
        "\n",
        "from tqdm import tqdm"
      ]
    },
    {
      "cell_type": "code",
      "execution_count": null,
      "id": "f71ef9da",
      "metadata": {
        "id": "f71ef9da"
      },
      "outputs": [],
      "source": [
        "df = pd.read_csv(\"training_data.csv\")\n",
        "model_interpolation = keras.models.load_model('model_real.h5')"
      ]
    },
    {
      "cell_type": "code",
      "execution_count": null,
      "id": "4edb0691",
      "metadata": {
        "id": "4edb0691"
      },
      "outputs": [],
      "source": [
        "### generate locations\n",
        "s_loc =np.empty((0,3))\n",
        "for i in range(len(np.unique(df[\"t\"]))):\n",
        "\n",
        "    loc1 = 0.7095714\n",
        "    loc2 = 0.22975\n",
        "    n = 8\n",
        "    N = int(n**2) ## sample size\n",
        "    M = 1 ## Number of replicate\n",
        "    coord1 = np.linspace((loc1-0.2),(loc1+0.2),n)\n",
        "    coord2 = np.linspace((loc2-0.2),(loc2+0.2),n)\n",
        "    s1,s2 = np.meshgrid(coord1,coord2)\n",
        "    s_a = np.vstack((s1.flatten(),s2.flatten())).T\n",
        "\n",
        "    ## temporal embedding\n",
        "\n",
        "    t = np.array([i+1]*N)\n",
        "\n",
        "    s_b = t/len(np.unique(df[\"t\"]))\n",
        "    s_b = s_b.reshape(N,1)\n",
        "    s_a = np.hstack((s_a,s_b))\n",
        "    s_loc = np.append(s_loc,s_a,axis=0)\n"
      ]
    },
    {
      "cell_type": "code",
      "execution_count": null,
      "id": "926b52eb",
      "metadata": {
        "id": "926b52eb"
      },
      "outputs": [],
      "source": [
        "## Spatial co-ordinate embedding\n",
        "## interpolation in the neighbourhood of a certain location\n",
        "N = len(s_loc)\n",
        "s = s_loc[:,:2]\n",
        "\n",
        "num_basis = [5**2,9**2,11**2]\n",
        "knots_1d = [np.linspace(0,1,int(np.sqrt(i))) for i in num_basis]\n",
        "##Wendland kernel\n",
        "K = 0\n",
        "phi = np.zeros((N, sum(num_basis)))\n",
        "for res in range(len(num_basis)):\n",
        "    theta = 1/np.sqrt(num_basis[res])*2.5\n",
        "    knots_s1, knots_s2 = np.meshgrid(knots_1d[res],knots_1d[res])\n",
        "    knots = np.column_stack((knots_s1.flatten(),knots_s2.flatten()))\n",
        "    for i in range(num_basis[res]):\n",
        "        d = np.linalg.norm(s-knots[i,:],axis=1)/theta\n",
        "        for j in range(len(d)):\n",
        "            if d[j] >= 0 and d[j] <= 1:\n",
        "                phi[j,i + K] = (1-d[j])**6 * (35 * d[j]**2 + 18 * d[j] + 3)/3\n",
        "            else:\n",
        "                phi[j,i + K] = 0\n",
        "    K = K + num_basis[res]\n",
        "\n",
        "\n",
        "## temporal embedding\n",
        "\n",
        "s = s_loc[:,2]\n",
        "\n",
        "## time basis\n",
        "num_basis = [10,15,45]\n",
        "std_arr = [0.4,0.2,0.1]\n",
        "#std_arr = [0.3,0.15,0.05]\n",
        "mu_knots = [np.linspace(0,1,int(i)) for i in num_basis]\n",
        "\n",
        "phi_t = np.zeros((N, sum(num_basis)))\n",
        "K = 0\n",
        "for res in range(len(num_basis)):\n",
        "    std = std_arr[res]\n",
        "    for i in range(num_basis[res]):\n",
        "        d = np.square(np.absolute(s-mu_knots[res][i]))\n",
        "        for j in range(len(d)):\n",
        "            if d[j] >= 0 and d[j] <= 1:\n",
        "                phi_t[j,i + K] = np.exp(-0.5 * d[j]/(std**2))\n",
        "            else:\n",
        "                phi_t[j,i + K] = 0\n",
        "    K = K + num_basis[res]"
      ]
    },
    {
      "cell_type": "code",
      "execution_count": null,
      "id": "6f44d8d9",
      "metadata": {
        "id": "6f44d8d9"
      },
      "outputs": [],
      "source": [
        "phi2 = np.hstack((phi_t,phi))\n",
        "phi2.shape"
      ]
    },
    {
      "cell_type": "code",
      "execution_count": null,
      "id": "72fe97db",
      "metadata": {
        "id": "72fe97db"
      },
      "outputs": [],
      "source": [
        "pred_z = model_interpolation.predict(phi2)"
      ]
    },
    {
      "cell_type": "code",
      "execution_count": null,
      "id": "b0dfb49d",
      "metadata": {
        "id": "b0dfb49d"
      },
      "outputs": [],
      "source": [
        "s_loc = np.append(s_loc,pred_z.reshape((N,1)),axis = 1)"
      ]
    },
    {
      "cell_type": "code",
      "execution_count": null,
      "id": "57fe54b5",
      "metadata": {
        "id": "57fe54b5"
      },
      "outputs": [],
      "source": [
        "t_arr = np.array(range(1,1097,1))\n",
        "t_arr = t_arr/1096"
      ]
    },
    {
      "cell_type": "code",
      "execution_count": null,
      "id": "d1a69db7",
      "metadata": {
        "id": "d1a69db7"
      },
      "outputs": [],
      "source": [
        "## change the i accordingly\n",
        "## run from here\n",
        "\n",
        "dim = n\n",
        "data = np.empty((0,20,dim,dim))\n",
        "for i in tqdm(range(1096)):\n",
        "    if i == 1046:\n",
        "        break\n",
        "    else:\n",
        "        data_i = np.empty((0,dim,dim))\n",
        "#         z`print(data_i.shape)\n",
        "        for j in range(20):\n",
        "            b = s_loc[s_loc[:, 2] == t_arr[i+j]]\n",
        "#             b[:,3] = (b[:,3] - min(b[:,3]))/(max(b[:,3]) - min(b[:,3]))\n",
        "            val = b[:,3].reshape((dim,dim)).T\n",
        "            val = val.reshape((1,dim,dim))\n",
        "            data_i = np.append(data_i,val,axis = 0)\n",
        "#         print(data_i.shape)\n",
        "        data_i = data_i.reshape((1,20,dim,dim))\n",
        "        data = np.append(data,data_i,axis = 0)\n",
        ""
      ]
    },
    {
      "cell_type": "code",
      "execution_count": null,
      "id": "ca8b21d7",
      "metadata": {
        "id": "ca8b21d7"
      },
      "outputs": [],
      "source": [
        "### reshape the prediction in this format\n",
        "data.shape"
      ]
    },
    {
      "cell_type": "code",
      "execution_count": null,
      "id": "e9773b01",
      "metadata": {
        "id": "e9773b01"
      },
      "outputs": [],
      "source": [
        "### create variable y\n",
        "loc1 = 0.75\n",
        "loc2 = 0.65\n",
        "\n",
        "N1 = len(np.unique(df[\"t\"]))\n",
        "s = np.stack((np.array([loc1]*len(np.unique(df[\"t\"]))),np.array([loc2]*len(np.unique(df[\"t\"]))))).T\n",
        "num_basis = [5**2,9**2,11**2]\n",
        "knots_1d = [np.linspace(0,1,int(np.sqrt(i))) for i in num_basis]\n",
        "##Wendland kernel\n",
        "K = 0\n",
        "phi = np.zeros((N1, sum(num_basis)))\n",
        "for res in range(len(num_basis)):\n",
        "    theta = 1/np.sqrt(num_basis[res])*2.5\n",
        "    knots_s1, knots_s2 = np.meshgrid(knots_1d[res],knots_1d[res])\n",
        "    knots = np.column_stack((knots_s1.flatten(),knots_s2.flatten()))\n",
        "    for i in range(num_basis[res]):\n",
        "        d = np.linalg.norm(s-knots[i,:],axis=1)/theta\n",
        "        for j in range(len(d)):\n",
        "            if d[j] >= 0 and d[j] <= 1:\n",
        "                phi[j,i + K] = (1-d[j])**6 * (35 * d[j]**2 + 18 * d[j] + 3)/3\n",
        "            else:\n",
        "                phi[j,i + K] = 0\n",
        "    K = K + num_basis[res]\n",
        "\n",
        "## temporal embedding\n",
        "\n",
        "s = np.unique(s_loc[:,2])\n",
        "\n",
        "## time basis\n",
        "num_basis = [10,15,45]\n",
        "std_arr = [0.4,0.2,0.1]\n",
        "#std_arr = [0.3,0.15,0.05]\n",
        "mu_knots = [np.linspace(0,1,int(i)) for i in num_basis]\n",
        "\n",
        "phi_t = np.zeros((N1, sum(num_basis)))\n",
        "K = 0\n",
        "for res in range(len(num_basis)):\n",
        "    std = std_arr[res]\n",
        "    for i in range(num_basis[res]):\n",
        "        d = np.square(np.absolute(s-mu_knots[res][i]))\n",
        "        for j in range(len(d)):\n",
        "            if d[j] >= 0 and d[j] <= 1:\n",
        "                phi_t[j,i + K] = np.exp(-0.5 * d[j]/(std**2))\n",
        "            else:\n",
        "                phi_t[j,i + K] = 0\n",
        "    K = K + num_basis[res]\n",
        "\n",
        "phi2 = np.hstack((phi_t,phi))\n",
        "phi2.shape"
      ]
    },
    {
      "cell_type": "code",
      "execution_count": null,
      "id": "266d46ca",
      "metadata": {
        "id": "266d46ca"
      },
      "outputs": [],
      "source": [
        "y = model_interpolation.predict(phi2)"
      ]
    },
    {
      "cell_type": "code",
      "execution_count": null,
      "id": "930d0030",
      "metadata": {
        "id": "930d0030"
      },
      "outputs": [],
      "source": [
        "plt.plot(range(1096),y)"
      ]
    },
    {
      "cell_type": "code",
      "execution_count": null,
      "id": "858f806e",
      "metadata": {
        "id": "858f806e"
      },
      "outputs": [],
      "source": [
        "y_arr = np.empty((0,30))\n",
        "\n",
        "for i in tqdm(range(20,1066,1)):\n",
        "    arr_i = y[i:i+30].T\n",
        "#     print(arr_i.shape)\n",
        "    y_arr = np.append(y_arr,arr_i,axis = 0)\n",
        "y_arr.shape"
      ]
    },
    {
      "cell_type": "code",
      "execution_count": null,
      "id": "f7d2cf65",
      "metadata": {
        "id": "f7d2cf65"
      },
      "outputs": [],
      "source": [
        "# # Download and load the dataset.\n",
        "# fpath = keras.utils.get_file(\n",
        "#     \"moving_mnist.npy\",\n",
        "#     \"http://www.cs.toronto.edu/~nitish/unsupervised_video/mnist_test_seq.npy\",\n",
        "# )\n",
        "# dataset = np.load(fpath)"
      ]
    },
    {
      "cell_type": "code",
      "execution_count": null,
      "id": "0b9fe9bf",
      "metadata": {
        "id": "0b9fe9bf"
      },
      "outputs": [],
      "source": [
        "# Swap the axes representing the number of frames and number of data samples.\n",
        "# dataset = np.swapaxes(dataset, 0, 1)\n",
        "# # We'll pick out 1000 of the 10000 total examples and use those.\n",
        "# dataset = dataset[:1000, ...]\n",
        "# # Add a channel dimension since the images are grayscale.\n",
        "# dataset = np.expand_dims(dataset, axis=-1)"
      ]
    },
    {
      "cell_type": "code",
      "execution_count": null,
      "id": "e43cedf5",
      "metadata": {
        "id": "e43cedf5"
      },
      "outputs": [],
      "source": [
        "dataset = data\n",
        "dataset = dataset.reshape((data.shape[0],data.shape[1],data.shape[2],data.shape[3],1))\n",
        "dataset.shape"
      ]
    },
    {
      "cell_type": "code",
      "execution_count": null,
      "id": "256b8cda",
      "metadata": {
        "id": "256b8cda"
      },
      "outputs": [],
      "source": [
        "# Split into train and validation sets using indexing to optimize memory.\n",
        "indexes = np.arange(dataset.shape[0])\n",
        "np.random.shuffle(indexes)\n",
        "train_index = indexes[: int(0.95 * dataset.shape[0])]\n",
        "val_index = indexes[int(0.95 * dataset.shape[0]) :]\n",
        "train_dataset = dataset[train_index]\n",
        "val_dataset = dataset[val_index]\n",
        "\n",
        "# Normalize the data to the 0-1 range.\n",
        "train_dataset = train_dataset\n",
        "val_dataset = val_dataset\n",
        "\n",
        "# We'll define a helper function to shift the frames, where\n",
        "# `x` is frames 0 to n - 1, and `y` is frames 1 to n.\n",
        "# def create_shifted_frames(data):\n",
        "#     x = data[:, 0 : data.shape[1] - 1, :, :]\n",
        "#     y = data[:, 1 : data.shape[1], :, :]\n",
        "#     return x, y\n",
        "\n",
        "\n",
        "# Apply the processing function to the datasets.\n",
        "x_train, y_train = dataset[train_index],y_arr[train_index]\n",
        "x_val, y_val = dataset[val_index],y_arr[val_index]\n",
        "\n",
        "# Inspect the dataset.\n",
        "print(\"Training Dataset Shapes: \" + str(x_train.shape) + \", \" + str(y_train.shape))\n",
        "print(\"Validation Dataset Shapes: \" + str(x_val.shape) + \", \" + str(y_val.shape))"
      ]
    },
    {
      "cell_type": "code",
      "execution_count": null,
      "id": "92e2dd8b",
      "metadata": {
        "id": "92e2dd8b"
      },
      "outputs": [],
      "source": [
        "# Construct a figure on which we will visualize the images.\n",
        "fig, axes = plt.subplots(5, 4, figsize=(10, 8))\n",
        "\n",
        "# Plot each of the sequential images for one random data example.\n",
        "data_choice = np.random.choice(range(len(x_train)), size=1)[0]\n",
        "# data_choice = 5\n",
        "for idx, ax in enumerate(axes.flat):\n",
        "    ax.imshow(np.squeeze(train_dataset[data_choice][idx]), cmap=\"gray\")\n",
        "    ax.set_title(f\"Frame {idx + 1}\")\n",
        "    ax.axis(\"off\")\n",
        "\n",
        "# Print information and display the figure.\n",
        "print(f\"Displaying frames for example {data_choice}.\")\n",
        "plt.show()"
      ]
    },
    {
      "cell_type": "code",
      "execution_count": null,
      "id": "60ed5d75",
      "metadata": {
        "id": "60ed5d75"
      },
      "outputs": [],
      "source": [
        "# Construct the input layer with no definite frame size.\n",
        "inp = layers.Input(shape=(20,8,8,1))\n",
        "\n",
        "# We will construct 3 `ConvLSTM2D` layers with batch normalization,\n",
        "# followed by a `Conv3D` layer for the spatiotemporal outputs.\n",
        "x = layers.ConvLSTM2D(\n",
        "    filters=64,\n",
        "    kernel_size=(5, 5),\n",
        "    padding=\"same\",\n",
        "    return_sequences=True,\n",
        "    activation=\"relu\",\n",
        ")(inp)\n",
        "x = layers.BatchNormalization()(x)\n",
        "x = layers.ConvLSTM2D(\n",
        "    filters=64,\n",
        "    kernel_size=(3, 3),\n",
        "    padding=\"same\",\n",
        "    return_sequences=True,\n",
        "    activation=\"relu\",\n",
        ")(x)\n",
        "x = layers.BatchNormalization()(x)\n",
        "x = layers.ConvLSTM2D(\n",
        "    filters=64,\n",
        "    kernel_size=(1, 1),\n",
        "    padding=\"same\",\n",
        "    return_sequences=True,\n",
        "    activation=\"relu\",\n",
        ")(x)\n",
        "# x = layers.Conv3D(\n",
        "#     filters=1, kernel_size=(3, 3, 3), activation=\"sigmoid\", padding=\"same\"\n",
        "# )(x)\n",
        "\n",
        "x = layers.Flatten()(x)\n",
        "x = layers.Dense(30, activation = \"linear\")(x)\n",
        "\n",
        "# Next, we will build the complete model and compile it.\n",
        "model = keras.models.Model(inp, x)\n",
        "model.compile(\n",
        "    loss=keras.losses.mae, optimizer=keras.optimizers.Adam(),\n",
        ")"
      ]
    },
    {
      "cell_type": "code",
      "execution_count": null,
      "id": "e414b999",
      "metadata": {
        "id": "e414b999"
      },
      "outputs": [],
      "source": [
        "# Define some callbacks to improve training.\n",
        "early_stopping = keras.callbacks.EarlyStopping(monitor=\"val_loss\", patience=5)\n",
        "reduce_lr = keras.callbacks.ReduceLROnPlateau(monitor=\"val_loss\", patience=5)\n",
        "\n",
        "# Define modifiable training hyperparameters.\n",
        "epochs = 25\n",
        "batch_size = 5\n",
        "\n",
        "# Fit the model to the training data.\n",
        "model.fit(\n",
        "    x_train,\n",
        "    y_train,\n",
        "    batch_size=batch_size,\n",
        "    epochs=epochs,\n",
        "    validation_data=(x_val, y_val),\n",
        "    callbacks=[early_stopping, reduce_lr])"
      ]
    },
    {
      "cell_type": "code",
      "execution_count": null,
      "id": "05f1e7e2",
      "metadata": {
        "id": "05f1e7e2"
      },
      "outputs": [],
      "source": [
        "## change the i accordingly\n",
        "## run from here\n",
        "\n",
        "dim = n\n",
        "data_test = np.empty((0,20,dim,dim))\n",
        "for i in tqdm(range(1096)):\n",
        "    if i == 1076:\n",
        "        break\n",
        "    else:\n",
        "        data_i = np.empty((0,dim,dim))\n",
        "#         z`print(data_i.shape)\n",
        "        for j in range(20):\n",
        "            b = s_loc[s_loc[:, 2] == t_arr[i+j]]\n",
        "#             b[:,3] = (b[:,3] - min(b[:,3]))/(max(b[:,3]) - min(b[:,3]))\n",
        "            val = b[:,3].reshape((dim,dim)).T\n",
        "            val = val.reshape((1,dim,dim))\n",
        "            data_i = np.append(data_i,val,axis = 0)\n",
        "#         print(data_i.shape)\n",
        "        data_i = data_i.reshape((1,20,dim,dim))\n",
        "        data_test = np.append(data_test,data_i,axis = 0)"
      ]
    },
    {
      "cell_type": "code",
      "execution_count": null,
      "id": "0a2ffe2b",
      "metadata": {
        "id": "0a2ffe2b"
      },
      "outputs": [],
      "source": [
        "data_test = data_test.reshape((data_test.shape[0],data_test.shape[1],data_test.shape[2],data_test.shape[3],1))"
      ]
    },
    {
      "cell_type": "code",
      "execution_count": null,
      "id": "ac2efb12",
      "metadata": {
        "id": "ac2efb12"
      },
      "outputs": [],
      "source": [
        "pred_y = model.predict(data_test)"
      ]
    },
    {
      "cell_type": "code",
      "execution_count": null,
      "id": "04260351",
      "metadata": {
        "id": "04260351"
      },
      "outputs": [],
      "source": [
        "pred_y.shape\n",
        "pred_y_arr = np.zeros((1105))\n",
        "\n",
        "for i in range(len(pred_y)-1):\n",
        "    pred_y_arr[i] = pred_y[i,0]\n",
        "pred_y_arr[1075:1105] = pred_y[1075]"
      ]
    },
    {
      "cell_type": "code",
      "execution_count": null,
      "id": "6cefa806",
      "metadata": {
        "id": "6cefa806"
      },
      "outputs": [],
      "source": [
        "orig_y = np.array([0.03]*30)"
      ]
    },
    {
      "cell_type": "code",
      "execution_count": null,
      "id": "75f6e4c0",
      "metadata": {
        "id": "75f6e4c0"
      },
      "outputs": [],
      "source": [
        "## save this data for plotting\n",
        "plt.plot(range(1000,1096,1),y[1000:])\n",
        "plt.plot(range(1000,1125,1),pred_y_arr[980:])"
      ]
    },
    {
      "cell_type": "code",
      "execution_count": null,
      "id": "076a1d91",
      "metadata": {
        "id": "076a1d91"
      },
      "outputs": [],
      "source": [
        "# Select a random example from the validation dataset.\n",
        "example = val_dataset[np.random.choice(range(len(val_dataset)), size=1)[0]]\n",
        "\n",
        "# Pick the first/last ten frames from the example.\n",
        "frames = example[:10, ...]\n",
        "original_frames = example[10:, ...]\n",
        "\n",
        "# Predict a new set of 10 frames.\n",
        "for _ in range(10):\n",
        "    # Extract the model's prediction and post-process it.\n",
        "    new_prediction = model.predict(np.expand_dims(frames, axis=0))\n",
        "    new_prediction = np.squeeze(new_prediction, axis=0)\n",
        "    predicted_frame = np.expand_dims(new_prediction[-1, ...], axis=0)\n",
        "\n",
        "    # Extend the set of prediction frames.\n",
        "    frames = np.concatenate((frames, predicted_frame), axis=0)\n",
        "\n",
        "# Construct a figure for the original and new frames.\n",
        "fig, axes = plt.subplots(2, 10, figsize=(20, 4))\n",
        "\n",
        "# Plot the original frames.\n",
        "for idx, ax in enumerate(axes[0]):\n",
        "    print(idx)\n",
        "    ax.imshow(np.squeeze(original_frames[idx]), cmap=\"gray\")\n",
        "    ax.set_title(f\"Frame {idx + 11}\")\n",
        "    ax.axis(\"off\")\n",
        "\n",
        "# Plot the new frames.\n",
        "new_frames = frames[10:, ...]\n",
        "for idx, ax in enumerate(axes[1]):\n",
        "    ax.imshow(np.squeeze(new_frames[idx]), cmap=\"gray\")\n",
        "    ax.set_title(f\"Frame {idx + 11}\")\n",
        "    ax.axis(\"off\")\n",
        "\n",
        "# Display the figure.\n",
        "plt.show()"
      ]
    },
    {
      "cell_type": "code",
      "execution_count": null,
      "id": "b35c4c29",
      "metadata": {
        "id": "b35c4c29"
      },
      "outputs": [],
      "source": []
    },
    {
      "cell_type": "code",
      "execution_count": null,
      "id": "1f857875",
      "metadata": {
        "id": "1f857875"
      },
      "outputs": [],
      "source": []
    }
  ],
  "metadata": {
    "kernelspec": {
      "display_name": "Python 3",
      "language": "python",
      "name": "python3"
    },
    "language_info": {
      "codemirror_mode": {
        "name": "ipython",
        "version": 3
      },
      "file_extension": ".py",
      "mimetype": "text/x-python",
      "name": "python",
      "nbconvert_exporter": "python",
      "pygments_lexer": "ipython3",
      "version": "3.6.10"
    },
    "colab": {
      "provenance": [],
      "include_colab_link": true
    }
  },
  "nbformat": 4,
  "nbformat_minor": 5
}