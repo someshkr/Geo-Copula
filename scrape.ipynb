{
 "cells": [
  {
   "cell_type": "code",
   "execution_count": 13,
   "metadata": {},
   "outputs": [],
   "source": [
    "import numpy as np\n",
    "import pandas as pd\n",
    "import time \n",
    "import os"
   ]
  },
  {
   "cell_type": "code",
   "execution_count": 18,
   "metadata": {},
   "outputs": [
    {
     "name": "stdout",
     "output_type": "stream",
     "text": [
      "('CO', 'Alabama', 2000)\n"
     ]
    }
   ],
   "source": [
    "from selenium import webdriver\n",
    "from selenium.webdriver.common.by import By\n",
    "from selenium.webdriver.support.select import Select\n",
    "from selenium.webdriver import ActionChains\n",
    "\n",
    "options = webdriver.ChromeOptions()\n",
    "prefs = {\"download.default_directory\" : \"/home/somesh/Downloads/data\"}\n",
    "options.add_experimental_option(\"prefs\",prefs)\n",
    "\n",
    "# options = webdriver.ChromeOptions()\n",
    "# options.add_argument('--headless')\n",
    "driver=webdriver.Chrome(options=options)\n",
    "driver.maximize_window()\n",
    "time.sleep(2)\n",
    "driver.get(\"https://www.epa.gov/outdoor-air-quality-data/download-daily-data\") \n",
    "ele = driver.find_element(By.XPATH , '//*[@id=\"poll\"]')\n",
    "\n",
    "pollutant = [\"CO\",\"Pb\",\"NO2\",\"Ozone\",\"PM10\",\"PM2.5\",\"SO2\"]\n",
    "state_list = [\"Alabama\",\"Alaska\",\"Arizona\",\"Arkansas\",\"California\",\"Colorado\",\"Connecticut\",\"District of Columbia\",\"Florida\",\"Georgia\",\"Hawaii\",\"Idaho\",\"Illinois\",\"Indiana\",\"Iowa\",\"Kansas\",\"Kentucky\",\"Louisiana\",\"Maine\",\"Maryland\",\"Massachusetts\",\"Michigan\",\"Minnesota\",\"Mississippi\",\"Missouri\",\"Montana\",\"Nebraska\",\"Nevada\",\"New Hampshire\",\"New Jersey\",\"New Mexico\",\"New York\",\"North Carolina\",\"North Dakota\",\"Ohio\",\"Oklahoma\",\"Oregon\",\"Pennsylvania\",\"Rhode Island\",\"South Carolina\",\"Tennessee\",\"Texas\",\"Utah\",\"Vermont\",\"Virginia\",\"Washington\",\"West Virginia\",\"Wisconsin\",\"Wyoming\",\"Puerto Rico\"]\n",
    "year_list = np.arange(2000, 2024, 1)\n",
    "\n",
    "test_list = [(i,j,k) for i in pollutant for j in state_list for k in year_list ]\n",
    "for val in test_list:\n",
    "\n",
    "    print(val)\n",
    "    pol = Select(driver.find_element(By.XPATH ,'//*[@id=\"poll\"]'))\n",
    "    time.sleep(2)\n",
    "    pol.select_by_visible_text(val[0])\n",
    "    time.sleep(3)\n",
    "    \n",
    "    yr = Select(driver.find_element(By.XPATH ,'//*[@id=\"year\"]'))\n",
    "    yr.select_by_visible_text(str(val[2]))\n",
    "    time.sleep(2)\n",
    "\n",
    "    st = Select(driver.find_element(By.XPATH ,'//*[@id=\"state\"]'))\n",
    "    st.select_by_visible_text(val[1])\n",
    "    time.sleep(3)\n",
    "    try:\n",
    "        site = Select(driver.find_element(By.XPATH ,'//*[@id=\"site\"]'))\n",
    "        time.sleep(2)\n",
    "        site.select_by_visible_text(\"All Sites\")\n",
    "    except:\n",
    "        continue    \n",
    "\n",
    "    # driver.find_element_by_xpath('//*[@id=\"launch\"]/input').click()\n",
    "    driver.find_element(By.XPATH,'//*[@id=\"launch\"]/input').click()\n",
    "    time.sleep(2)\n",
    "    driver.find_element(By.XPATH,'//*[@id=\"results\"]/p/a').click()\n",
    "    time.sleep(10)\n",
    "    os.rename(\"/home/somesh/Downloads/data/ad_viz_plotval_data.csv\",\n",
    "    f\"/home/somesh/Downloads/data/{val[0]}_{val[1]}_{str(val[2])}.csv\")\n",
    "    \n",
    "    \n",
    "# driver.close()"
   ]
  },
  {
   "cell_type": "code",
   "execution_count": null,
   "metadata": {},
   "outputs": [],
   "source": []
  }
 ],
 "metadata": {
  "kernelspec": {
   "display_name": "base",
   "language": "python",
   "name": "python3"
  },
  "language_info": {
   "codemirror_mode": {
    "name": "ipython",
    "version": 3
   },
   "file_extension": ".py",
   "mimetype": "text/x-python",
   "name": "python",
   "nbconvert_exporter": "python",
   "pygments_lexer": "ipython3",
   "version": "3.11.4"
  },
  "orig_nbformat": 4
 },
 "nbformat": 4,
 "nbformat_minor": 2
}
