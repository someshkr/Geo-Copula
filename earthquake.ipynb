{
  "cells": [
    {
      "cell_type": "markdown",
      "metadata": {
        "id": "view-in-github",
        "colab_type": "text"
      },
      "source": [
        "<a href=\"https://colab.research.google.com/github/someshkr/Geo-Copula/blob/main/earthquake.ipynb\" target=\"_parent\"><img src=\"https://colab.research.google.com/assets/colab-badge.svg\" alt=\"Open In Colab\"/></a>"
      ]
    },
    {
      "cell_type": "code",
      "source": [
        "!pip install geopy\n",
        "!pip install geopandas\n",
        "!pip install shapely\n",
        "!pip install fiona\n",
        "!pip install pyproj \n",
        "!pip install rtree"
      ],
      "metadata": {
        "application/vnd.databricks.v1+cell": {
          "title": "",
          "showTitle": false,
          "inputWidgets": {},
          "nuid": "645d555f-c809-478a-8a4d-aa09bdde835e"
        },
        "colab": {
          "base_uri": "https://localhost:8080/"
        },
        "id": "_BIY_g4CQhfm",
        "outputId": "5ef704e9-d64a-41b2-9cd9-e42daa20b591"
      },
      "outputs": [
        {
          "output_type": "stream",
          "name": "stdout",
          "text": [
            "Looking in indexes: https://pypi.org/simple, https://us-python.pkg.dev/colab-wheels/public/simple/\n",
            "Requirement already satisfied: geopy in /usr/local/lib/python3.7/dist-packages (1.17.0)\n",
            "Requirement already satisfied: geographiclib<2,>=1.49 in /usr/local/lib/python3.7/dist-packages (from geopy) (1.52)\n",
            "Looking in indexes: https://pypi.org/simple, https://us-python.pkg.dev/colab-wheels/public/simple/\n",
            "Requirement already satisfied: geopandas in /usr/local/lib/python3.7/dist-packages (0.10.2)\n",
            "Requirement already satisfied: pandas>=0.25.0 in /usr/local/lib/python3.7/dist-packages (from geopandas) (1.3.5)\n",
            "Requirement already satisfied: shapely>=1.6 in /usr/local/lib/python3.7/dist-packages (from geopandas) (1.8.4)\n",
            "Requirement already satisfied: pyproj>=2.2.0 in /usr/local/lib/python3.7/dist-packages (from geopandas) (3.2.1)\n",
            "Requirement already satisfied: fiona>=1.8 in /usr/local/lib/python3.7/dist-packages (from geopandas) (1.8.21)\n",
            "Requirement already satisfied: click-plugins>=1.0 in /usr/local/lib/python3.7/dist-packages (from fiona>=1.8->geopandas) (1.1.1)\n",
            "Requirement already satisfied: six>=1.7 in /usr/local/lib/python3.7/dist-packages (from fiona>=1.8->geopandas) (1.15.0)\n",
            "Requirement already satisfied: certifi in /usr/local/lib/python3.7/dist-packages (from fiona>=1.8->geopandas) (2022.9.24)\n",
            "Requirement already satisfied: cligj>=0.5 in /usr/local/lib/python3.7/dist-packages (from fiona>=1.8->geopandas) (0.7.2)\n",
            "Requirement already satisfied: setuptools in /usr/local/lib/python3.7/dist-packages (from fiona>=1.8->geopandas) (57.4.0)\n",
            "Requirement already satisfied: click>=4.0 in /usr/local/lib/python3.7/dist-packages (from fiona>=1.8->geopandas) (7.1.2)\n",
            "Requirement already satisfied: munch in /usr/local/lib/python3.7/dist-packages (from fiona>=1.8->geopandas) (2.5.0)\n",
            "Requirement already satisfied: attrs>=17 in /usr/local/lib/python3.7/dist-packages (from fiona>=1.8->geopandas) (22.1.0)\n",
            "Requirement already satisfied: python-dateutil>=2.7.3 in /usr/local/lib/python3.7/dist-packages (from pandas>=0.25.0->geopandas) (2.8.2)\n",
            "Requirement already satisfied: numpy>=1.17.3 in /usr/local/lib/python3.7/dist-packages (from pandas>=0.25.0->geopandas) (1.21.6)\n",
            "Requirement already satisfied: pytz>=2017.3 in /usr/local/lib/python3.7/dist-packages (from pandas>=0.25.0->geopandas) (2022.4)\n",
            "Looking in indexes: https://pypi.org/simple, https://us-python.pkg.dev/colab-wheels/public/simple/\n",
            "Requirement already satisfied: shapely in /usr/local/lib/python3.7/dist-packages (1.8.4)\n",
            "Looking in indexes: https://pypi.org/simple, https://us-python.pkg.dev/colab-wheels/public/simple/\n",
            "Requirement already satisfied: fiona in /usr/local/lib/python3.7/dist-packages (1.8.21)\n",
            "Requirement already satisfied: click>=4.0 in /usr/local/lib/python3.7/dist-packages (from fiona) (7.1.2)\n",
            "Requirement already satisfied: attrs>=17 in /usr/local/lib/python3.7/dist-packages (from fiona) (22.1.0)\n",
            "Requirement already satisfied: certifi in /usr/local/lib/python3.7/dist-packages (from fiona) (2022.9.24)\n",
            "Requirement already satisfied: setuptools in /usr/local/lib/python3.7/dist-packages (from fiona) (57.4.0)\n",
            "Requirement already satisfied: six>=1.7 in /usr/local/lib/python3.7/dist-packages (from fiona) (1.15.0)\n",
            "Requirement already satisfied: click-plugins>=1.0 in /usr/local/lib/python3.7/dist-packages (from fiona) (1.1.1)\n",
            "Requirement already satisfied: cligj>=0.5 in /usr/local/lib/python3.7/dist-packages (from fiona) (0.7.2)\n",
            "Requirement already satisfied: munch in /usr/local/lib/python3.7/dist-packages (from fiona) (2.5.0)\n",
            "Looking in indexes: https://pypi.org/simple, https://us-python.pkg.dev/colab-wheels/public/simple/\n",
            "Requirement already satisfied: pyproj in /usr/local/lib/python3.7/dist-packages (3.2.1)\n",
            "Requirement already satisfied: certifi in /usr/local/lib/python3.7/dist-packages (from pyproj) (2022.9.24)\n",
            "Looking in indexes: https://pypi.org/simple, https://us-python.pkg.dev/colab-wheels/public/simple/\n",
            "Requirement already satisfied: rtree in /usr/local/lib/python3.7/dist-packages (1.0.1)\n",
            "Requirement already satisfied: typing-extensions>=3.7 in /usr/local/lib/python3.7/dist-packages (from rtree) (4.1.1)\n"
          ]
        }
      ],
      "execution_count": 36
    },
    {
      "cell_type": "code",
      "source": [
        "from google.colab import drive\n",
        "drive.mount('/content/drive')"
      ],
      "metadata": {
        "colab": {
          "base_uri": "https://localhost:8080/"
        },
        "id": "dZ8ieBCoFams",
        "outputId": "e6ff894b-d748-4163-cbb6-097a3c00195f"
      },
      "execution_count": 37,
      "outputs": [
        {
          "output_type": "stream",
          "name": "stdout",
          "text": [
            "Drive already mounted at /content/drive; to attempt to forcibly remount, call drive.mount(\"/content/drive\", force_remount=True).\n"
          ]
        }
      ]
    },
    {
      "cell_type": "code",
      "source": [
        "import tensorflow as tf\n",
        "import numpy as np\n",
        "np.set_printoptions(threshold=np.inf)\n",
        "import matplotlib.pyplot as plt\n",
        "import pandas as pd\n",
        "pd.set_option('display.max_columns', None)\n",
        "pd.set_option('display.max_rows', None)\n",
        "import math\n",
        "from keras.models import Sequential\n",
        "from keras.layers import LSTM, Bidirectional, Dense\n",
        "\n",
        "from keras.layers import Flatten\n",
        "from keras.layers import TimeDistributed\n",
        "from keras.layers.convolutional import Conv1D\n",
        "from keras.layers.convolutional import MaxPooling1D\n",
        "from keras.layers import ConvLSTM2D\n",
        "\n",
        "from shapely.geometry import Point\n",
        "import geopandas as gpd\n",
        "from geopandas import GeoDataFrame\n",
        "import rtree\n",
        "import shapely\n",
        "import fiona\n",
        "import pyproj\n"
      ],
      "metadata": {
        "application/vnd.databricks.v1+cell": {
          "title": "",
          "showTitle": false,
          "inputWidgets": {},
          "nuid": "db233d17-92ad-4c2a-b508-2a6c376e2f63"
        },
        "id": "eiHpLnk2QhgD"
      },
      "outputs": [],
      "execution_count": 60
    },
    {
      "cell_type": "code",
      "source": [
        "# df = pd.read_excel(\"/content/query.xlsx\")\n",
        "\n",
        "df = pd.read_excel(\"/content/drive/MyDrive/geocopula/query.xlsx\")\n",
        "# df = pd.read_csv(\"/dbfs/FileStore/data/Indian_earthquake_data.csv\")\n",
        "df['time'] = pd.to_datetime(df['time'],utc=True)\n",
        "df = df[['time','latitude','longitude','depth','mag']]\n",
        "df = df.sort_values(by='time',ascending=True)\n",
        "df.head()"
      ],
      "metadata": {
        "application/vnd.databricks.v1+cell": {
          "title": "",
          "showTitle": false,
          "inputWidgets": {},
          "nuid": "6ae1ef6c-6f4a-44b0-8b5f-bd1001405bbf"
        },
        "colab": {
          "base_uri": "https://localhost:8080/",
          "height": 206
        },
        "id": "U57FrCEBQhgF",
        "outputId": "d12cd6aa-3f37-42f4-c7b0-0ee1ef59a0e8"
      },
      "outputs": [
        {
          "output_type": "execute_result",
          "data": {
            "text/plain": [
              "                                  time  latitude  longitude  depth  mag\n",
              "17836 2000-09-17 05:18:04.270000+00:00    38.006    140.670  105.1  4.5\n",
              "17835 2000-09-17 21:04:24.900000+00:00    30.257    138.392  445.6  4.3\n",
              "17834 2000-09-21 22:43:24.770000+00:00    35.811    140.837   45.2  4.8\n",
              "17833 2000-09-23 17:42:10.600000+00:00    41.444    142.217   63.9  4.3\n",
              "17832 2000-09-25 16:22:01.020000+00:00    32.167    142.461   33.0  4.1"
            ],
            "text/html": [
              "\n",
              "  <div id=\"df-04a41761-4f3f-4b55-97b4-2d6d4fd74254\">\n",
              "    <div class=\"colab-df-container\">\n",
              "      <div>\n",
              "<style scoped>\n",
              "    .dataframe tbody tr th:only-of-type {\n",
              "        vertical-align: middle;\n",
              "    }\n",
              "\n",
              "    .dataframe tbody tr th {\n",
              "        vertical-align: top;\n",
              "    }\n",
              "\n",
              "    .dataframe thead th {\n",
              "        text-align: right;\n",
              "    }\n",
              "</style>\n",
              "<table border=\"1\" class=\"dataframe\">\n",
              "  <thead>\n",
              "    <tr style=\"text-align: right;\">\n",
              "      <th></th>\n",
              "      <th>time</th>\n",
              "      <th>latitude</th>\n",
              "      <th>longitude</th>\n",
              "      <th>depth</th>\n",
              "      <th>mag</th>\n",
              "    </tr>\n",
              "  </thead>\n",
              "  <tbody>\n",
              "    <tr>\n",
              "      <th>17836</th>\n",
              "      <td>2000-09-17 05:18:04.270000+00:00</td>\n",
              "      <td>38.006</td>\n",
              "      <td>140.670</td>\n",
              "      <td>105.1</td>\n",
              "      <td>4.5</td>\n",
              "    </tr>\n",
              "    <tr>\n",
              "      <th>17835</th>\n",
              "      <td>2000-09-17 21:04:24.900000+00:00</td>\n",
              "      <td>30.257</td>\n",
              "      <td>138.392</td>\n",
              "      <td>445.6</td>\n",
              "      <td>4.3</td>\n",
              "    </tr>\n",
              "    <tr>\n",
              "      <th>17834</th>\n",
              "      <td>2000-09-21 22:43:24.770000+00:00</td>\n",
              "      <td>35.811</td>\n",
              "      <td>140.837</td>\n",
              "      <td>45.2</td>\n",
              "      <td>4.8</td>\n",
              "    </tr>\n",
              "    <tr>\n",
              "      <th>17833</th>\n",
              "      <td>2000-09-23 17:42:10.600000+00:00</td>\n",
              "      <td>41.444</td>\n",
              "      <td>142.217</td>\n",
              "      <td>63.9</td>\n",
              "      <td>4.3</td>\n",
              "    </tr>\n",
              "    <tr>\n",
              "      <th>17832</th>\n",
              "      <td>2000-09-25 16:22:01.020000+00:00</td>\n",
              "      <td>32.167</td>\n",
              "      <td>142.461</td>\n",
              "      <td>33.0</td>\n",
              "      <td>4.1</td>\n",
              "    </tr>\n",
              "  </tbody>\n",
              "</table>\n",
              "</div>\n",
              "      <button class=\"colab-df-convert\" onclick=\"convertToInteractive('df-04a41761-4f3f-4b55-97b4-2d6d4fd74254')\"\n",
              "              title=\"Convert this dataframe to an interactive table.\"\n",
              "              style=\"display:none;\">\n",
              "        \n",
              "  <svg xmlns=\"http://www.w3.org/2000/svg\" height=\"24px\"viewBox=\"0 0 24 24\"\n",
              "       width=\"24px\">\n",
              "    <path d=\"M0 0h24v24H0V0z\" fill=\"none\"/>\n",
              "    <path d=\"M18.56 5.44l.94 2.06.94-2.06 2.06-.94-2.06-.94-.94-2.06-.94 2.06-2.06.94zm-11 1L8.5 8.5l.94-2.06 2.06-.94-2.06-.94L8.5 2.5l-.94 2.06-2.06.94zm10 10l.94 2.06.94-2.06 2.06-.94-2.06-.94-.94-2.06-.94 2.06-2.06.94z\"/><path d=\"M17.41 7.96l-1.37-1.37c-.4-.4-.92-.59-1.43-.59-.52 0-1.04.2-1.43.59L10.3 9.45l-7.72 7.72c-.78.78-.78 2.05 0 2.83L4 21.41c.39.39.9.59 1.41.59.51 0 1.02-.2 1.41-.59l7.78-7.78 2.81-2.81c.8-.78.8-2.07 0-2.86zM5.41 20L4 18.59l7.72-7.72 1.47 1.35L5.41 20z\"/>\n",
              "  </svg>\n",
              "      </button>\n",
              "      \n",
              "  <style>\n",
              "    .colab-df-container {\n",
              "      display:flex;\n",
              "      flex-wrap:wrap;\n",
              "      gap: 12px;\n",
              "    }\n",
              "\n",
              "    .colab-df-convert {\n",
              "      background-color: #E8F0FE;\n",
              "      border: none;\n",
              "      border-radius: 50%;\n",
              "      cursor: pointer;\n",
              "      display: none;\n",
              "      fill: #1967D2;\n",
              "      height: 32px;\n",
              "      padding: 0 0 0 0;\n",
              "      width: 32px;\n",
              "    }\n",
              "\n",
              "    .colab-df-convert:hover {\n",
              "      background-color: #E2EBFA;\n",
              "      box-shadow: 0px 1px 2px rgba(60, 64, 67, 0.3), 0px 1px 3px 1px rgba(60, 64, 67, 0.15);\n",
              "      fill: #174EA6;\n",
              "    }\n",
              "\n",
              "    [theme=dark] .colab-df-convert {\n",
              "      background-color: #3B4455;\n",
              "      fill: #D2E3FC;\n",
              "    }\n",
              "\n",
              "    [theme=dark] .colab-df-convert:hover {\n",
              "      background-color: #434B5C;\n",
              "      box-shadow: 0px 1px 3px 1px rgba(0, 0, 0, 0.15);\n",
              "      filter: drop-shadow(0px 1px 2px rgba(0, 0, 0, 0.3));\n",
              "      fill: #FFFFFF;\n",
              "    }\n",
              "  </style>\n",
              "\n",
              "      <script>\n",
              "        const buttonEl =\n",
              "          document.querySelector('#df-04a41761-4f3f-4b55-97b4-2d6d4fd74254 button.colab-df-convert');\n",
              "        buttonEl.style.display =\n",
              "          google.colab.kernel.accessAllowed ? 'block' : 'none';\n",
              "\n",
              "        async function convertToInteractive(key) {\n",
              "          const element = document.querySelector('#df-04a41761-4f3f-4b55-97b4-2d6d4fd74254');\n",
              "          const dataTable =\n",
              "            await google.colab.kernel.invokeFunction('convertToInteractive',\n",
              "                                                     [key], {});\n",
              "          if (!dataTable) return;\n",
              "\n",
              "          const docLinkHtml = 'Like what you see? Visit the ' +\n",
              "            '<a target=\"_blank\" href=https://colab.research.google.com/notebooks/data_table.ipynb>data table notebook</a>'\n",
              "            + ' to learn more about interactive tables.';\n",
              "          element.innerHTML = '';\n",
              "          dataTable['output_type'] = 'display_data';\n",
              "          await google.colab.output.renderOutput(dataTable, element);\n",
              "          const docLink = document.createElement('div');\n",
              "          docLink.innerHTML = docLinkHtml;\n",
              "          element.appendChild(docLink);\n",
              "        }\n",
              "      </script>\n",
              "    </div>\n",
              "  </div>\n",
              "  "
            ]
          },
          "metadata": {},
          "execution_count": 39
        }
      ],
      "execution_count": 39
    },
    {
      "cell_type": "code",
      "source": [
        "df_train = df.iloc[:12512]\n",
        "df_val = df.iloc[12512:14271]\n",
        "df_test = df.iloc[14271:]\n",
        "df_train = df_train.set_index('time')\n",
        "df_val = df_val.set_index('time')\n",
        "df_test = df_test.set_index('time')"
      ],
      "metadata": {
        "application/vnd.databricks.v1+cell": {
          "title": "",
          "showTitle": false,
          "inputWidgets": {},
          "nuid": "3d490be5-c60b-4662-9b8d-bb13c3c65cb2"
        },
        "id": "en5fvKsjQhgH"
      },
      "outputs": [],
      "execution_count": 40
    },
    {
      "cell_type": "code",
      "source": [
        "x_train,y_train= df_train[['latitude','longitude','depth']],df_train[['mag']]\n",
        "x_test,y_test= df_test[['latitude','longitude','depth']],df_test[['mag']]\n",
        "x_val,y_val  = df_val[['latitude','longitude','depth']],df_val[['mag']]"
      ],
      "metadata": {
        "application/vnd.databricks.v1+cell": {
          "title": "",
          "showTitle": false,
          "inputWidgets": {},
          "nuid": "fa903ca8-3c7b-45c6-8ec1-197b8525ce11"
        },
        "id": "6HamPXFKQhgJ"
      },
      "outputs": [],
      "execution_count": 41
    },
    {
      "cell_type": "code",
      "source": [
        "x_train.shape"
      ],
      "metadata": {
        "colab": {
          "base_uri": "https://localhost:8080/"
        },
        "id": "gf513-gbWBI4",
        "outputId": "b8eb2942-c840-49df-fab6-e91af70a263e"
      },
      "execution_count": 42,
      "outputs": [
        {
          "output_type": "execute_result",
          "data": {
            "text/plain": [
              "(12512, 3)"
            ]
          },
          "metadata": {},
          "execution_count": 42
        }
      ]
    },
    {
      "cell_type": "code",
      "source": [
        "batch_size = 32\n",
        "buffer_size = x_train.shape[0]\n",
        "# Provide an infinite dataset\n",
        "x_train = np.array(x_train)\n",
        "x_test = np.array(x_test)\n",
        "x_val = np.array(x_val)\n",
        "\n",
        "x_train = x_train.reshape((x_train.shape[0], x_train.shape[1], 1))\n",
        "x_test = x_test.reshape((x_test.shape[0], x_test.shape[1], 1))\n",
        "x_val = x_val.reshape((x_val.shape[0], x_val.shape[1], 1))\n",
        "train_iterator = tf.data.Dataset.from_tensor_slices((np.array(x_train), np.array(y_train))).shuffle(buffer_size).batch(batch_size).repeat()\n",
        "# Provide an infinite dataset\n",
        "val_iterator = tf.data.Dataset.from_tensor_slices((np.array(x_val), np.array(y_val))).batch(batch_size).repeat()\n",
        "test_iterator = tf.data.Dataset.from_tensor_slices((np.array(x_test), np.array(y_test))).batch(batch_size).repeat()"
      ],
      "metadata": {
        "application/vnd.databricks.v1+cell": {
          "title": "",
          "showTitle": false,
          "inputWidgets": {},
          "nuid": "f3882135-3008-42f5-b0d0-bb6cc021405a"
        },
        "id": "FvzaC2cLQhgL"
      },
      "outputs": [],
      "execution_count": 43
    },
    {
      "cell_type": "code",
      "source": [
        "print(\"x_train shape \",x_train.shape)\n",
        "print(\"x_test shape \",x_test.shape)\n",
        "print(\"x_val shape \",x_val.shape)\n",
        "print(\"y_train shape \",y_train.shape)\n",
        "print(\"y_test shape \",y_test.shape)\n",
        "print(\"y_val shape \",y_val.shape)\n",
        "print(val_iterator)\n",
        "print(test_iterator)"
      ],
      "metadata": {
        "colab": {
          "base_uri": "https://localhost:8080/"
        },
        "id": "l3wO8otiUODE",
        "outputId": "a5803b1f-bf20-430f-a5af-5624639ff1cc"
      },
      "execution_count": 44,
      "outputs": [
        {
          "output_type": "stream",
          "name": "stdout",
          "text": [
            "x_train shape  (12512, 3, 1)\n",
            "x_test shape  (3566, 3, 1)\n",
            "x_val shape  (1759, 3, 1)\n",
            "y_train shape  (12512, 1)\n",
            "y_test shape  (3566, 1)\n",
            "y_val shape  (1759, 1)\n",
            "<RepeatDataset element_spec=(TensorSpec(shape=(None, 3, 1), dtype=tf.float64, name=None), TensorSpec(shape=(None, 1), dtype=tf.float64, name=None))>\n",
            "<RepeatDataset element_spec=(TensorSpec(shape=(None, 3, 1), dtype=tf.float64, name=None), TensorSpec(shape=(None, 1), dtype=tf.float64, name=None))>\n"
          ]
        }
      ]
    },
    {
      "cell_type": "markdown",
      "source": [
        "# **Bi-directional LSTM**"
      ],
      "metadata": {
        "id": "5aXPzsseOFu-"
      }
    },
    {
      "cell_type": "code",
      "source": [
        "n_steps = x_train.shape[-2]\n",
        "n_features = x_train.shape[-1]\n",
        "# Define the model\n",
        "model = Sequential()\n",
        "model.add(tf.keras.layers.Bidirectional(tf.keras.layers.LSTM(64)))\n",
        "#model.add(tf.keras.layers.Reshape((128, 1), input_shape = (128, )))\n",
        "model.add(tf.keras.layers.Dense(64, activation='relu'))\n",
        "model.add(Dense(1))\n",
        "# Compile the model\n",
        "model.compile(optimizer='adam', loss='mse')"
      ],
      "metadata": {
        "application/vnd.databricks.v1+cell": {
          "title": "",
          "showTitle": false,
          "inputWidgets": {},
          "nuid": "a4675db9-ff50-4d68-b61f-7c4a6b3d844e"
        },
        "id": "-S-2FOXaQhgQ"
      },
      "outputs": [],
      "execution_count": 45
    },
    {
      "cell_type": "code",
      "source": [
        "n_steps,n_features"
      ],
      "metadata": {
        "application/vnd.databricks.v1+cell": {
          "title": "",
          "showTitle": false,
          "inputWidgets": {},
          "nuid": "a1b4b186-5566-4c47-8a87-d7a4f573c52e"
        },
        "colab": {
          "base_uri": "https://localhost:8080/"
        },
        "id": "cfrBatycQhgN",
        "outputId": "1c01be84-a1f6-43e3-f4b4-9844f28e53ae"
      },
      "outputs": [
        {
          "output_type": "execute_result",
          "data": {
            "text/plain": [
              "(3, 1)"
            ]
          },
          "metadata": {},
          "execution_count": 46
        }
      ],
      "execution_count": 46
    },
    {
      "cell_type": "code",
      "source": [
        "# train_iterator\n",
        "# X = X.reshape((X.shape[0], X.shape[1], n_features))"
      ],
      "metadata": {
        "application/vnd.databricks.v1+cell": {
          "title": "",
          "showTitle": false,
          "inputWidgets": {},
          "nuid": "8980569c-d574-4d26-876c-d48dc36923e6"
        },
        "id": "74owTneAQhgU"
      },
      "outputs": [],
      "execution_count": 47
    },
    {
      "cell_type": "code",
      "source": [
        "epochs = 10\n",
        "steps_per_epoch = 800\n",
        "validation_steps = 80\n",
        "# Train with an infinite dataset\n",
        "history = model.fit(train_iterator, epochs=epochs,\n",
        "                    steps_per_epoch=steps_per_epoch,\n",
        "                    validation_data=val_iterator,\n",
        "                    validation_steps=validation_steps)\n",
        "print('=======================')\n",
        "model.summary()"
      ],
      "metadata": {
        "colab": {
          "base_uri": "https://localhost:8080/"
        },
        "id": "JBtl9RtZa_yE",
        "outputId": "6cd8bc7e-2a0a-4a2a-d99c-a8d9199bcb28"
      },
      "execution_count": 48,
      "outputs": [
        {
          "output_type": "stream",
          "name": "stdout",
          "text": [
            "Epoch 1/10\n",
            "800/800 [==============================] - 11s 8ms/step - loss: 0.5236 - val_loss: 0.1350\n",
            "Epoch 2/10\n",
            "800/800 [==============================] - 5s 6ms/step - loss: 0.2319 - val_loss: 0.1382\n",
            "Epoch 3/10\n",
            "800/800 [==============================] - 5s 7ms/step - loss: 0.2324 - val_loss: 0.1387\n",
            "Epoch 4/10\n",
            "800/800 [==============================] - 5s 6ms/step - loss: 0.2329 - val_loss: 0.1579\n",
            "Epoch 5/10\n",
            "800/800 [==============================] - 5s 6ms/step - loss: 0.2332 - val_loss: 0.1368\n",
            "Epoch 6/10\n",
            "800/800 [==============================] - 5s 6ms/step - loss: 0.2320 - val_loss: 0.1372\n",
            "Epoch 7/10\n",
            "800/800 [==============================] - 5s 6ms/step - loss: 0.2335 - val_loss: 0.1341\n",
            "Epoch 8/10\n",
            "800/800 [==============================] - 5s 7ms/step - loss: 0.2329 - val_loss: 0.1742\n",
            "Epoch 9/10\n",
            "800/800 [==============================] - 5s 6ms/step - loss: 0.2326 - val_loss: 0.1400\n",
            "Epoch 10/10\n",
            "800/800 [==============================] - 5s 6ms/step - loss: 0.2309 - val_loss: 0.1414\n",
            "=======================\n",
            "Model: \"sequential_4\"\n",
            "_________________________________________________________________\n",
            " Layer (type)                Output Shape              Param #   \n",
            "=================================================================\n",
            " bidirectional_2 (Bidirectio  (None, 128)              33792     \n",
            " nal)                                                            \n",
            "                                                                 \n",
            " dense_6 (Dense)             (None, 64)                8256      \n",
            "                                                                 \n",
            " dense_7 (Dense)             (None, 1)                 65        \n",
            "                                                                 \n",
            "=================================================================\n",
            "Total params: 42,113\n",
            "Trainable params: 42,113\n",
            "Non-trainable params: 0\n",
            "_________________________________________________________________\n"
          ]
        }
      ]
    },
    {
      "cell_type": "code",
      "source": [
        "len(model.predict(np.array(x_test)).reshape(-1))"
      ],
      "metadata": {
        "colab": {
          "base_uri": "https://localhost:8080/"
        },
        "id": "OVlSPY8wHMUg",
        "outputId": "80504fc5-a059-4687-f765-7e87eec3e998"
      },
      "execution_count": 49,
      "outputs": [
        {
          "output_type": "stream",
          "name": "stdout",
          "text": [
            "112/112 [==============================] - 1s 2ms/step\n"
          ]
        },
        {
          "output_type": "execute_result",
          "data": {
            "text/plain": [
              "3566"
            ]
          },
          "metadata": {},
          "execution_count": 49
        }
      ]
    },
    {
      "cell_type": "code",
      "source": [
        "x_test.shape"
      ],
      "metadata": {
        "colab": {
          "base_uri": "https://localhost:8080/"
        },
        "id": "1oGGTlhmHMRm",
        "outputId": "da28ffe4-5f88-46d5-b281-c6ede26c3cf5"
      },
      "execution_count": 50,
      "outputs": [
        {
          "output_type": "execute_result",
          "data": {
            "text/plain": [
              "(3566, 3, 1)"
            ]
          },
          "metadata": {},
          "execution_count": 50
        }
      ]
    },
    {
      "cell_type": "code",
      "source": [
        "df_final = df_test.copy()\n",
        "df_final['yhat']=model.predict(np.array(x_test)).reshape(-1)"
      ],
      "metadata": {
        "colab": {
          "base_uri": "https://localhost:8080/"
        },
        "id": "fD2JPsr4HL_5",
        "outputId": "d78b40ba-53e4-434d-d974-e67c4bce610d"
      },
      "execution_count": 51,
      "outputs": [
        {
          "output_type": "stream",
          "name": "stdout",
          "text": [
            "112/112 [==============================] - 1s 5ms/step\n"
          ]
        }
      ]
    },
    {
      "cell_type": "code",
      "source": [],
      "metadata": {
        "id": "iOx5aAfnIhWT"
      },
      "execution_count": null,
      "outputs": []
    },
    {
      "cell_type": "code",
      "source": [],
      "metadata": {
        "id": "yw9bFACqIhSs"
      },
      "execution_count": null,
      "outputs": []
    },
    {
      "cell_type": "code",
      "source": [],
      "metadata": {
        "id": "eyVaH9y3IhJb"
      },
      "execution_count": null,
      "outputs": []
    },
    {
      "cell_type": "markdown",
      "source": [
        "# **CNN LSTM**"
      ],
      "metadata": {
        "id": "l2KQW8p6OQfI"
      }
    },
    {
      "cell_type": "code",
      "source": [
        "x_train,y_train= df_train[['latitude','longitude','depth']],df_train[['mag']]\n",
        "x_test,y_test= df_test[['latitude','longitude','depth']],df_test[['mag']]\n",
        "x_val,y_val  = df_val[['latitude','longitude','depth']],df_val[['mag']]\n",
        "\n",
        "print(x_train.shape)\n",
        "\n",
        "batch_size = 32\n",
        "buffer_size = x_train.shape[0]\n",
        "# Provide an infinite dataset\n",
        "x_train = np.array(x_train)\n",
        "x_test = np.array(x_test)\n",
        "x_val = np.array(x_val)\n",
        "\n",
        "x_train = x_train.reshape((x_train.shape[0],1, x_train.shape[1], 1))\n",
        "x_test = x_test.reshape((x_test.shape[0],1, x_test.shape[1], 1))\n",
        "x_val = x_val.reshape((x_val.shape[0],1, x_val.shape[1], 1))\n",
        "train_iterator = tf.data.Dataset.from_tensor_slices((np.array(x_train), np.array(y_train))).shuffle(buffer_size).batch(batch_size).repeat()\n",
        "# Provide an infinite dataset\n",
        "val_iterator = tf.data.Dataset.from_tensor_slices((np.array(x_val), np.array(y_val))).batch(batch_size).repeat()\n",
        "test_iterator = tf.data.Dataset.from_tensor_slices((np.array(x_test), np.array(y_test))).batch(batch_size).repeat()\n",
        "\n",
        "print(train_iterator)\n",
        "\n"
      ],
      "metadata": {
        "colab": {
          "base_uri": "https://localhost:8080/"
        },
        "id": "ERaZjHv_bxrp",
        "outputId": "c9c5c882-395d-47d5-b4b4-b7c4e4f8d2f3"
      },
      "execution_count": 15,
      "outputs": [
        {
          "output_type": "stream",
          "name": "stdout",
          "text": [
            "(12512, 3)\n",
            "<RepeatDataset element_spec=(TensorSpec(shape=(None, 1, 3, 1), dtype=tf.float64, name=None), TensorSpec(shape=(None, 1), dtype=tf.float64, name=None))>\n"
          ]
        }
      ]
    },
    {
      "cell_type": "code",
      "source": [
        "n_steps = x_train.shape[-2]\n",
        "n_features = x_train.shape[-1]\n",
        "# Define the model\n",
        "model = Sequential()\n",
        "\n",
        "model.add(TimeDistributed(Conv1D(filters=64, kernel_size=1, activation='relu',input_shape=(None,64,1))))\n",
        "model.add(TimeDistributed(MaxPooling1D(pool_size=2)))\n",
        "model.add(TimeDistributed(Flatten()))\n",
        "model.add(LSTM(50, activation='relu'))\n",
        "model.add(Dense(1))\n",
        "model.compile(optimizer='adam', loss='mse')\n",
        "\n",
        "# model.fit(X, y, epochs=500, verbose=0)"
      ],
      "metadata": {
        "id": "0hisT2KrOqfS"
      },
      "execution_count": 16,
      "outputs": []
    },
    {
      "cell_type": "code",
      "source": [
        "print(n_steps,n_features)"
      ],
      "metadata": {
        "colab": {
          "base_uri": "https://localhost:8080/"
        },
        "id": "lL44vHF2T_QF",
        "outputId": "7a072409-20bd-4210-8d15-81f0a89030f6"
      },
      "execution_count": 17,
      "outputs": [
        {
          "output_type": "stream",
          "name": "stdout",
          "text": [
            "3 1\n"
          ]
        }
      ]
    },
    {
      "cell_type": "code",
      "source": [
        "epochs = 10\n",
        "steps_per_epoch = 800\n",
        "validation_steps = 80\n",
        "# Train with an infinite dataset\n",
        "history = model.fit(train_iterator, epochs=epochs,\n",
        "                    steps_per_epoch=steps_per_epoch,\n",
        "                    validation_data=val_iterator,\n",
        "                    validation_steps=validation_steps)\n",
        "print('=======================')\n",
        "model.summary()"
      ],
      "metadata": {
        "colab": {
          "base_uri": "https://localhost:8080/"
        },
        "id": "OeC2WuqWQN8d",
        "outputId": "1798e918-26d0-4595-fd41-92526a953a0a"
      },
      "execution_count": 18,
      "outputs": [
        {
          "output_type": "stream",
          "name": "stdout",
          "text": [
            "Epoch 1/10\n",
            "800/800 [==============================] - 5s 4ms/step - loss: 0.2683 - val_loss: 0.1867\n",
            "Epoch 2/10\n",
            "800/800 [==============================] - 3s 4ms/step - loss: 0.2523 - val_loss: 0.1890\n",
            "Epoch 3/10\n",
            "800/800 [==============================] - 3s 4ms/step - loss: 0.2474 - val_loss: 0.1597\n",
            "Epoch 4/10\n",
            "800/800 [==============================] - 3s 4ms/step - loss: 0.2485 - val_loss: 0.1510\n",
            "Epoch 5/10\n",
            "800/800 [==============================] - 3s 4ms/step - loss: 0.2443 - val_loss: 0.1512\n",
            "Epoch 6/10\n",
            "800/800 [==============================] - 3s 4ms/step - loss: 0.2493 - val_loss: 0.1613\n",
            "Epoch 7/10\n",
            "800/800 [==============================] - 3s 4ms/step - loss: 0.2483 - val_loss: 0.1487\n",
            "Epoch 8/10\n",
            "800/800 [==============================] - 3s 4ms/step - loss: 0.2432 - val_loss: 0.1645\n",
            "Epoch 9/10\n",
            "800/800 [==============================] - 3s 3ms/step - loss: 0.2475 - val_loss: 0.1540\n",
            "Epoch 10/10\n",
            "800/800 [==============================] - 2s 3ms/step - loss: 0.2436 - val_loss: 0.1508\n",
            "=======================\n",
            "Model: \"sequential_1\"\n",
            "_________________________________________________________________\n",
            " Layer (type)                Output Shape              Param #   \n",
            "=================================================================\n",
            " time_distributed (TimeDistr  (None, 1, 3, 64)         128       \n",
            " ibuted)                                                         \n",
            "                                                                 \n",
            " time_distributed_1 (TimeDis  (None, 1, 1, 64)         0         \n",
            " tributed)                                                       \n",
            "                                                                 \n",
            " time_distributed_2 (TimeDis  (None, 1, 64)            0         \n",
            " tributed)                                                       \n",
            "                                                                 \n",
            " lstm_1 (LSTM)               (None, 50)                23000     \n",
            "                                                                 \n",
            " dense_2 (Dense)             (None, 1)                 51        \n",
            "                                                                 \n",
            "=================================================================\n",
            "Total params: 23,179\n",
            "Trainable params: 23,179\n",
            "Non-trainable params: 0\n",
            "_________________________________________________________________\n"
          ]
        }
      ]
    },
    {
      "cell_type": "code",
      "source": [
        "len(model.predict(np.array(x_test)).reshape(-1))"
      ],
      "metadata": {
        "colab": {
          "base_uri": "https://localhost:8080/"
        },
        "id": "pxNvXC33Ltgt",
        "outputId": "d56af2a0-4732-4319-906e-0e1cec66079f"
      },
      "execution_count": 52,
      "outputs": [
        {
          "output_type": "stream",
          "name": "stdout",
          "text": [
            "112/112 [==============================] - 0s 3ms/step\n"
          ]
        },
        {
          "output_type": "execute_result",
          "data": {
            "text/plain": [
              "3566"
            ]
          },
          "metadata": {},
          "execution_count": 52
        }
      ]
    },
    {
      "cell_type": "code",
      "source": [
        "x_test.shape"
      ],
      "metadata": {
        "colab": {
          "base_uri": "https://localhost:8080/"
        },
        "id": "wBw0_QsyLx50",
        "outputId": "94039ab5-e967-4bf1-c6d7-36e61fa9bad8"
      },
      "execution_count": 54,
      "outputs": [
        {
          "output_type": "execute_result",
          "data": {
            "text/plain": [
              "(3566, 3, 1)"
            ]
          },
          "metadata": {},
          "execution_count": 54
        }
      ]
    },
    {
      "cell_type": "code",
      "source": [
        "df_final = df_test.copy()\n",
        "df_final['yhat']=model.predict(np.array(x_test)).reshape(-1)"
      ],
      "metadata": {
        "colab": {
          "base_uri": "https://localhost:8080/"
        },
        "id": "nzaWTCgMLx01",
        "outputId": "1b1dd891-cc31-4eeb-fb5f-2b0a6f33d06c"
      },
      "execution_count": 55,
      "outputs": [
        {
          "output_type": "stream",
          "name": "stdout",
          "text": [
            "112/112 [==============================] - 0s 2ms/step\n"
          ]
        }
      ]
    },
    {
      "cell_type": "code",
      "source": [],
      "metadata": {
        "id": "674Z0HCPLxxK"
      },
      "execution_count": null,
      "outputs": []
    },
    {
      "cell_type": "markdown",
      "source": [
        "# **ConvLSTM**"
      ],
      "metadata": {
        "id": "_PjWcSKiMcM9"
      }
    },
    {
      "cell_type": "code",
      "source": [
        "x_train,y_train= df_train[['latitude','longitude','depth']],df_train[['mag']]\n",
        "x_test,y_test= df_test[['latitude','longitude','depth']],df_test[['mag']]\n",
        "x_val,y_val  = df_val[['latitude','longitude','depth']],df_val[['mag']]\n",
        "\n",
        "print(x_train.shape)\n",
        "\n",
        "batch_size = 32\n",
        "buffer_size = x_train.shape[0]\n",
        "# Provide an infinite dataset\n",
        "x_train = np.array(x_train)\n",
        "x_test = np.array(x_test)\n",
        "x_val = np.array(x_val)\n",
        "\n",
        "x_train = x_train.reshape((x_train.shape[0],1,1, x_train.shape[1], 1))\n",
        "x_test = x_test.reshape((x_test.shape[0],1,1, x_test.shape[1], 1))\n",
        "x_val = x_val.reshape((x_val.shape[0],1,1, x_val.shape[1], 1))\n",
        "train_iterator = tf.data.Dataset.from_tensor_slices((np.array(x_train), np.array(y_train))).shuffle(buffer_size).batch(batch_size).repeat()\n",
        "# Provide an infinite dataset\n",
        "val_iterator = tf.data.Dataset.from_tensor_slices((np.array(x_val), np.array(y_val))).batch(batch_size).repeat()\n",
        "test_iterator = tf.data.Dataset.from_tensor_slices((np.array(x_test), np.array(y_test))).batch(batch_size).repeat()\n",
        "\n",
        "print(train_iterator)\n",
        "\n",
        "'''\n",
        "n_features = 1\n",
        "n_seq = 2\n",
        "n_steps = 2\n",
        "X = X.reshape((X.shape[0], n_seq, 1, n_steps, n_features))\n",
        "\n",
        "X = X.reshape((X.shape[0], 2, 1, x_train.shape[-2], x_train.shape[-1]))\n",
        "\n",
        "n_steps = x_train.shape[-2]\n",
        "n_features = x_train.shape[-1]\n",
        "print(n_steps,n_features)\n",
        "\n",
        "'''\n",
        "\n"
      ],
      "metadata": {
        "colab": {
          "base_uri": "https://localhost:8080/",
          "height": 91
        },
        "id": "ryrahDQSLtdR",
        "outputId": "d63d2291-e8cd-418b-a2de-bf37589ec8cc"
      },
      "execution_count": 59,
      "outputs": [
        {
          "output_type": "stream",
          "name": "stdout",
          "text": [
            "(12512, 3)\n",
            "<RepeatDataset element_spec=(TensorSpec(shape=(None, 1, 1, 3, 1), dtype=tf.float64, name=None), TensorSpec(shape=(None, 1), dtype=tf.float64, name=None))>\n"
          ]
        },
        {
          "output_type": "execute_result",
          "data": {
            "text/plain": [
              "'\\nn_features = 1\\nn_seq = 2\\nn_steps = 2\\nX = X.reshape((X.shape[0], n_seq, 1, n_steps, n_features))\\n\\nX = X.reshape((X.shape[0], 2, 1, x_train.shape[-2], x_train.shape[-1]))\\n\\nn_steps = x_train.shape[-2]\\nn_features = x_train.shape[-1]\\nprint(n_steps,n_features)\\n\\n'"
            ],
            "application/vnd.google.colaboratory.intrinsic+json": {
              "type": "string"
            }
          },
          "metadata": {},
          "execution_count": 59
        }
      ]
    },
    {
      "cell_type": "code",
      "source": [
        "\n",
        "# define model\n",
        "model = Sequential()\n",
        "model.add(ConvLSTM2D(filters=64, kernel_size=(1,2), activation='relu', input_shape=(1, 1,  x_train.shape[-2], x_train.shape[-1])))\n",
        "model.add(Flatten())\n",
        "model.add(Dense(1))\n",
        "model.compile(optimizer='adam', loss='mse')\n",
        "# # fit model\n",
        "# model.fit(X, y, epochs=500, verbose=0)\n",
        "# # demonstrate prediction\n",
        "# x_input = array([60, 70, 80, 90])\n",
        "# x_input = x_input.reshape((1, n_seq, 1, n_steps, n_features))\n",
        "# yhat = model.predict(x_input, verbose=0)\n",
        "# print(yhat)"
      ],
      "metadata": {
        "id": "IuhKjuhvLtKJ"
      },
      "execution_count": 61,
      "outputs": []
    },
    {
      "cell_type": "code",
      "source": [
        "n_steps = x_train.shape[-2]\n",
        "n_features = x_train.shape[-1]\n",
        "print(n_steps,n_features)"
      ],
      "metadata": {
        "colab": {
          "base_uri": "https://localhost:8080/"
        },
        "id": "GmyIE6O_MWvu",
        "outputId": "9e5d8934-92fe-48ac-e512-10666901fe49"
      },
      "execution_count": 62,
      "outputs": [
        {
          "output_type": "stream",
          "name": "stdout",
          "text": [
            "3 1\n"
          ]
        }
      ]
    },
    {
      "cell_type": "code",
      "source": [
        "epochs = 10\n",
        "steps_per_epoch = 800\n",
        "validation_steps = 80\n",
        "# Train with an infinite dataset\n",
        "history = model.fit(train_iterator, epochs=epochs,\n",
        "                    steps_per_epoch=steps_per_epoch,\n",
        "                    validation_data=val_iterator,\n",
        "                    validation_steps=validation_steps)\n",
        "print('=======================')\n",
        "model.summary()"
      ],
      "metadata": {
        "colab": {
          "base_uri": "https://localhost:8080/"
        },
        "id": "hU6hGhp5MWr1",
        "outputId": "e6959b4a-70d9-47fe-ae01-b6a046feb524"
      },
      "execution_count": 63,
      "outputs": [
        {
          "output_type": "stream",
          "name": "stdout",
          "text": [
            "Epoch 1/10\n",
            "800/800 [==============================] - 8s 7ms/step - loss: 0.4782 - val_loss: 0.1901\n",
            "Epoch 2/10\n",
            "800/800 [==============================] - 6s 7ms/step - loss: 0.2469 - val_loss: 0.1556\n",
            "Epoch 3/10\n",
            "800/800 [==============================] - 5s 6ms/step - loss: 0.2482 - val_loss: 0.1647\n",
            "Epoch 4/10\n",
            "800/800 [==============================] - 5s 6ms/step - loss: 0.2429 - val_loss: 0.1594\n",
            "Epoch 5/10\n",
            "800/800 [==============================] - 5s 6ms/step - loss: 0.2462 - val_loss: 0.1809\n",
            "Epoch 6/10\n",
            "800/800 [==============================] - 5s 6ms/step - loss: 0.2430 - val_loss: 0.1587\n",
            "Epoch 7/10\n",
            "800/800 [==============================] - 5s 6ms/step - loss: 0.2396 - val_loss: 0.1505\n",
            "Epoch 8/10\n",
            "800/800 [==============================] - 5s 6ms/step - loss: 0.2382 - val_loss: 0.1514\n",
            "Epoch 9/10\n",
            "800/800 [==============================] - 5s 6ms/step - loss: 0.2408 - val_loss: 0.1675\n",
            "Epoch 10/10\n",
            "800/800 [==============================] - 6s 7ms/step - loss: 0.2370 - val_loss: 0.1638\n",
            "=======================\n",
            "Model: \"sequential_5\"\n",
            "_________________________________________________________________\n",
            " Layer (type)                Output Shape              Param #   \n",
            "=================================================================\n",
            " conv_lstm2d (ConvLSTM2D)    (None, 1, 2, 64)          33536     \n",
            "                                                                 \n",
            " flatten_2 (Flatten)         (None, 128)               0         \n",
            "                                                                 \n",
            " dense_8 (Dense)             (None, 1)                 129       \n",
            "                                                                 \n",
            "=================================================================\n",
            "Total params: 33,665\n",
            "Trainable params: 33,665\n",
            "Non-trainable params: 0\n",
            "_________________________________________________________________\n"
          ]
        }
      ]
    },
    {
      "cell_type": "markdown",
      "source": [
        "# **LSTM**"
      ],
      "metadata": {
        "id": "NYMWramRUaRZ"
      }
    },
    {
      "cell_type": "code",
      "source": [
        "x_train,y_train= df_train[['latitude','longitude','depth']],df_train[['mag']]\n",
        "x_test,y_test= df_test[['latitude','longitude','depth']],df_test[['mag']]\n",
        "x_val,y_val  = df_val[['latitude','longitude','depth']],df_val[['mag']]\n",
        "\n",
        "print(x_train.shape)\n",
        "\n",
        "batch_size = 32\n",
        "buffer_size = x_train.shape[0]\n",
        "# Provide an infinite dataset\n",
        "x_train = np.array(x_train)\n",
        "x_test = np.array(x_test)\n",
        "x_val = np.array(x_val)\n",
        "\n",
        "x_train = x_train.reshape((x_train.shape[0],1,1, x_train.shape[1], 1))\n",
        "x_test = x_test.reshape((x_test.shape[0],1,1, x_test.shape[1], 1))\n",
        "x_val = x_val.reshape((x_val.shape[0],1,1, x_val.shape[1], 1))\n",
        "train_iterator = tf.data.Dataset.from_tensor_slices((np.array(x_train), np.array(y_train))).shuffle(buffer_size).batch(batch_size).repeat()\n",
        "# Provide an infinite dataset\n",
        "val_iterator = tf.data.Dataset.from_tensor_slices((np.array(x_val), np.array(y_val))).batch(batch_size).repeat()\n",
        "test_iterator = tf.data.Dataset.from_tensor_slices((np.array(x_test), np.array(y_test))).batch(batch_size).repeat()\n",
        "\n",
        "print(train_iterator)\n"
      ],
      "metadata": {
        "id": "iVd0iYZJMWn4"
      },
      "execution_count": null,
      "outputs": []
    },
    {
      "cell_type": "code",
      "source": [],
      "metadata": {
        "id": "a-qRaYS8MWia"
      },
      "execution_count": null,
      "outputs": []
    },
    {
      "cell_type": "code",
      "source": [],
      "metadata": {
        "id": "yNlzviBKMWeF"
      },
      "execution_count": null,
      "outputs": []
    },
    {
      "cell_type": "code",
      "source": [
        "\n",
        "# # split a univariate sequence\n",
        "# def split_sequence(sequence, n_steps):\n",
        "# \tX, y = list(), list()\n",
        "# \tfor i in range(len(sequence)):\n",
        "# \t\t# find the end of this pattern\n",
        "# \t\tend_ix = i + n_steps\n",
        "# \t\t# check if we are beyond the sequence\n",
        "# \t\tif end_ix > len(sequence)-1:\n",
        "# \t\t\tbreak\n",
        "# \t\t# gather input and output parts of the pattern\n",
        "# \t\tseq_x, seq_y = sequence[i:end_ix], sequence[end_ix]\n",
        "# \t\tX.append(seq_x)\n",
        "# \t\ty.append(seq_y)\n",
        "# \treturn array(X), array(y)\n",
        "\n",
        "# # define input sequence\n",
        "# raw_seq = [10, 20, 30, 40, 50, 60, 70, 80, 90]\n",
        "# # choose a number of time steps\n",
        "# n_steps = 3\n",
        "# # split into samples\n",
        "# X, y = split_sequence(raw_seq, n_steps)\n",
        "# # reshape from [samples, timesteps] into [samples, timesteps, features]\n",
        "# n_features = 1\n",
        "# print(X.shape)\n",
        "# X = X.reshape((X.shape[0], X.shape[1], n_features))\n",
        "# print(X.shape)"
      ],
      "metadata": {
        "id": "mGVlw0v-WpiR"
      },
      "execution_count": 20,
      "outputs": []
    },
    {
      "cell_type": "code",
      "source": [
        "# # univariate cnn lstm example\n",
        "# from numpy import array\n",
        "# from keras.models import Sequential\n",
        "# from keras.layers import LSTM\n",
        "# from keras.layers import Dense\n",
        "# from keras.layers import Flatten\n",
        "# from keras.layers import TimeDistributed\n",
        "# from keras.layers.convolutional import Conv1D\n",
        "# from keras.layers.convolutional import MaxPooling1D\n",
        "\n",
        "# # split a univariate sequence into samples\n",
        "# def split_sequence(sequence, n_steps):\n",
        "# \tX, y = list(), list()\n",
        "# \tfor i in range(len(sequence)):\n",
        "# \t\t# find the end of this pattern\n",
        "# \t\tend_ix = i + n_steps\n",
        "# \t\t# check if we are beyond the sequence\n",
        "# \t\tif end_ix > len(sequence)-1:\n",
        "# \t\t\tbreak\n",
        "# \t\t# gather input and output parts of the pattern\n",
        "# \t\tseq_x, seq_y = sequence[i:end_ix], sequence[end_ix]\n",
        "# \t\tX.append(seq_x)\n",
        "# \t\ty.append(seq_y)\n",
        "# \treturn array(X), array(y)\n",
        "\n",
        "# # define input sequence\n",
        "# raw_seq = [10, 20, 30, 40, 50, 60, 70, 80, 90]\n",
        "# # choose a number of time steps\n",
        "# n_steps = 4\n",
        "# # split into samples\n",
        "# X, y = split_sequence(raw_seq, n_steps)\n",
        "# # reshape from [samples, timesteps] into [samples, subsequences, timesteps, features]\n",
        "# n_features = 1\n",
        "# n_seq = 2\n",
        "# n_steps = 2\n",
        "# print(X.shape[0], n_seq, n_steps, n_features)\n",
        "# print(X.shape)\n",
        "# print(X)\n",
        "# X = X.reshape((X.shape[0], n_seq, n_steps, n_features))\n",
        "\n",
        "\n",
        "# # define model\n",
        "# model = Sequential()\n",
        "# model.add(TimeDistributed(Conv1D(filters=64, kernel_size=1, activation='relu'), input_shape=(None, n_steps, n_features)))\n",
        "# model.add(TimeDistributed(MaxPooling1D(pool_size=2)))\n",
        "# model.add(TimeDistributed(Flatten()))\n",
        "# model.add(LSTM(50, activation='relu'))\n",
        "# model.add(Dense(1))\n",
        "# model.compile(optimizer='adam', loss='mse')\n",
        "# # # fit model\n",
        "# # model.fit(X, y, epochs=500)\n",
        "# # # demonstrate prediction\n",
        "# # x_input = array([60, 70, 80, 90])\n",
        "# # x_input = x_input.reshape((1, n_seq, n_steps, n_features))\n",
        "# # yhat = model.predict(x_input, verbose=0)\n",
        "# # print(yhat)\n"
      ],
      "metadata": {
        "id": "5io0Iq7dVdnb"
      },
      "execution_count": 53,
      "outputs": []
    },
    {
      "cell_type": "code",
      "source": [
        "# epochs = 10\n",
        "# steps_per_epoch = 800\n",
        "# validation_steps = 80\n",
        "# # Train with an infinite dataset\n",
        "# x_train = np.array(x_train)\n",
        "# x_train = x_train.reshape((x_train.shape[0], x_train.shape[1], 1))\n",
        "# history = model.fit(x_train, y_train,epochs=epochs,\n",
        "#                     steps_per_epoch=steps_per_epoch\n",
        "#                    )\n",
        "# print('=======================')\n",
        "# model.summary()"
      ],
      "metadata": {
        "application/vnd.databricks.v1+cell": {
          "title": "",
          "showTitle": false,
          "inputWidgets": {},
          "nuid": "5fdc9bd2-4e22-48cb-ab4e-7973d931306c"
        },
        "id": "faWbtxVzQhgW"
      },
      "outputs": [],
      "execution_count": 25
    },
    {
      "cell_type": "code",
      "source": [
        "\n",
        "#for batch_num, (x, y) in enumerate(test_iterator.take(3)):\n",
        "  \n",
        "len(model.predict(np.array(x_test)).reshape(-1))"
      ],
      "metadata": {
        "id": "29j0cx5duex5"
      },
      "execution_count": 26,
      "outputs": []
    },
    {
      "cell_type": "code",
      "source": [
        "\n",
        "# yhat = model.predict(np.array(x_test), verbose=0).reshape(-1)\n"
      ],
      "metadata": {
        "id": "OvV7DyHMueha"
      },
      "execution_count": 27,
      "outputs": []
    },
    {
      "cell_type": "code",
      "source": [
        "# x_test.shape"
      ],
      "metadata": {
        "colab": {
          "base_uri": "https://localhost:8080/"
        },
        "id": "RH_hm4NH4T3C",
        "outputId": "4d922782-4f47-43dd-d2db-b235fdae060e"
      },
      "execution_count": 28,
      "outputs": [
        {
          "output_type": "execute_result",
          "data": {
            "text/plain": [
              "(3566, 1, 3, 1)"
            ]
          },
          "metadata": {},
          "execution_count": 28
        }
      ]
    },
    {
      "cell_type": "code",
      "source": [
        "# df_final = df_test.copy()\n",
        "# df_final['yhat']=model.predict(np.array(x_test)).reshape(-1)"
      ],
      "metadata": {
        "id": "7gNO8veDxH27"
      },
      "execution_count": 56,
      "outputs": []
    },
    {
      "cell_type": "code",
      "source": [
        "df_final.head()"
      ],
      "metadata": {
        "colab": {
          "base_uri": "https://localhost:8080/",
          "height": 237
        },
        "id": "fEI_x4bd4rIA",
        "outputId": "bf25bc09-7414-470d-93db-0f7c72433801"
      },
      "execution_count": null,
      "outputs": [
        {
          "output_type": "execute_result",
          "data": {
            "text/plain": [
              "                                  latitude  longitude   depth  mag      yhat\n",
              "time                                                                        \n",
              "2016-10-20 02:49:53.120000+00:00   35.8196   140.5082   18.91  5.3  4.583576\n",
              "2016-10-20 19:07:26.450000+00:00   41.9161   140.8357  154.05  4.2  4.229105\n",
              "2016-10-21 05:07:22.990000+00:00   35.3743   133.8092    5.63  6.2  4.383457\n",
              "2016-10-21 05:30:07.340000+00:00   35.5001   133.5914   10.00  4.1  4.356168\n",
              "2016-10-21 05:33:58.790000+00:00   35.3563   133.8545   10.00  4.0  4.352921"
            ],
            "text/html": [
              "\n",
              "  <div id=\"df-91288007-680b-4ee5-b76d-855c27b2fcaa\">\n",
              "    <div class=\"colab-df-container\">\n",
              "      <div>\n",
              "<style scoped>\n",
              "    .dataframe tbody tr th:only-of-type {\n",
              "        vertical-align: middle;\n",
              "    }\n",
              "\n",
              "    .dataframe tbody tr th {\n",
              "        vertical-align: top;\n",
              "    }\n",
              "\n",
              "    .dataframe thead th {\n",
              "        text-align: right;\n",
              "    }\n",
              "</style>\n",
              "<table border=\"1\" class=\"dataframe\">\n",
              "  <thead>\n",
              "    <tr style=\"text-align: right;\">\n",
              "      <th></th>\n",
              "      <th>latitude</th>\n",
              "      <th>longitude</th>\n",
              "      <th>depth</th>\n",
              "      <th>mag</th>\n",
              "      <th>yhat</th>\n",
              "    </tr>\n",
              "    <tr>\n",
              "      <th>time</th>\n",
              "      <th></th>\n",
              "      <th></th>\n",
              "      <th></th>\n",
              "      <th></th>\n",
              "      <th></th>\n",
              "    </tr>\n",
              "  </thead>\n",
              "  <tbody>\n",
              "    <tr>\n",
              "      <th>2016-10-20 02:49:53.120000+00:00</th>\n",
              "      <td>35.8196</td>\n",
              "      <td>140.5082</td>\n",
              "      <td>18.91</td>\n",
              "      <td>5.3</td>\n",
              "      <td>4.583576</td>\n",
              "    </tr>\n",
              "    <tr>\n",
              "      <th>2016-10-20 19:07:26.450000+00:00</th>\n",
              "      <td>41.9161</td>\n",
              "      <td>140.8357</td>\n",
              "      <td>154.05</td>\n",
              "      <td>4.2</td>\n",
              "      <td>4.229105</td>\n",
              "    </tr>\n",
              "    <tr>\n",
              "      <th>2016-10-21 05:07:22.990000+00:00</th>\n",
              "      <td>35.3743</td>\n",
              "      <td>133.8092</td>\n",
              "      <td>5.63</td>\n",
              "      <td>6.2</td>\n",
              "      <td>4.383457</td>\n",
              "    </tr>\n",
              "    <tr>\n",
              "      <th>2016-10-21 05:30:07.340000+00:00</th>\n",
              "      <td>35.5001</td>\n",
              "      <td>133.5914</td>\n",
              "      <td>10.00</td>\n",
              "      <td>4.1</td>\n",
              "      <td>4.356168</td>\n",
              "    </tr>\n",
              "    <tr>\n",
              "      <th>2016-10-21 05:33:58.790000+00:00</th>\n",
              "      <td>35.3563</td>\n",
              "      <td>133.8545</td>\n",
              "      <td>10.00</td>\n",
              "      <td>4.0</td>\n",
              "      <td>4.352921</td>\n",
              "    </tr>\n",
              "  </tbody>\n",
              "</table>\n",
              "</div>\n",
              "      <button class=\"colab-df-convert\" onclick=\"convertToInteractive('df-91288007-680b-4ee5-b76d-855c27b2fcaa')\"\n",
              "              title=\"Convert this dataframe to an interactive table.\"\n",
              "              style=\"display:none;\">\n",
              "        \n",
              "  <svg xmlns=\"http://www.w3.org/2000/svg\" height=\"24px\"viewBox=\"0 0 24 24\"\n",
              "       width=\"24px\">\n",
              "    <path d=\"M0 0h24v24H0V0z\" fill=\"none\"/>\n",
              "    <path d=\"M18.56 5.44l.94 2.06.94-2.06 2.06-.94-2.06-.94-.94-2.06-.94 2.06-2.06.94zm-11 1L8.5 8.5l.94-2.06 2.06-.94-2.06-.94L8.5 2.5l-.94 2.06-2.06.94zm10 10l.94 2.06.94-2.06 2.06-.94-2.06-.94-.94-2.06-.94 2.06-2.06.94z\"/><path d=\"M17.41 7.96l-1.37-1.37c-.4-.4-.92-.59-1.43-.59-.52 0-1.04.2-1.43.59L10.3 9.45l-7.72 7.72c-.78.78-.78 2.05 0 2.83L4 21.41c.39.39.9.59 1.41.59.51 0 1.02-.2 1.41-.59l7.78-7.78 2.81-2.81c.8-.78.8-2.07 0-2.86zM5.41 20L4 18.59l7.72-7.72 1.47 1.35L5.41 20z\"/>\n",
              "  </svg>\n",
              "      </button>\n",
              "      \n",
              "  <style>\n",
              "    .colab-df-container {\n",
              "      display:flex;\n",
              "      flex-wrap:wrap;\n",
              "      gap: 12px;\n",
              "    }\n",
              "\n",
              "    .colab-df-convert {\n",
              "      background-color: #E8F0FE;\n",
              "      border: none;\n",
              "      border-radius: 50%;\n",
              "      cursor: pointer;\n",
              "      display: none;\n",
              "      fill: #1967D2;\n",
              "      height: 32px;\n",
              "      padding: 0 0 0 0;\n",
              "      width: 32px;\n",
              "    }\n",
              "\n",
              "    .colab-df-convert:hover {\n",
              "      background-color: #E2EBFA;\n",
              "      box-shadow: 0px 1px 2px rgba(60, 64, 67, 0.3), 0px 1px 3px 1px rgba(60, 64, 67, 0.15);\n",
              "      fill: #174EA6;\n",
              "    }\n",
              "\n",
              "    [theme=dark] .colab-df-convert {\n",
              "      background-color: #3B4455;\n",
              "      fill: #D2E3FC;\n",
              "    }\n",
              "\n",
              "    [theme=dark] .colab-df-convert:hover {\n",
              "      background-color: #434B5C;\n",
              "      box-shadow: 0px 1px 3px 1px rgba(0, 0, 0, 0.15);\n",
              "      filter: drop-shadow(0px 1px 2px rgba(0, 0, 0, 0.3));\n",
              "      fill: #FFFFFF;\n",
              "    }\n",
              "  </style>\n",
              "\n",
              "      <script>\n",
              "        const buttonEl =\n",
              "          document.querySelector('#df-91288007-680b-4ee5-b76d-855c27b2fcaa button.colab-df-convert');\n",
              "        buttonEl.style.display =\n",
              "          google.colab.kernel.accessAllowed ? 'block' : 'none';\n",
              "\n",
              "        async function convertToInteractive(key) {\n",
              "          const element = document.querySelector('#df-91288007-680b-4ee5-b76d-855c27b2fcaa');\n",
              "          const dataTable =\n",
              "            await google.colab.kernel.invokeFunction('convertToInteractive',\n",
              "                                                     [key], {});\n",
              "          if (!dataTable) return;\n",
              "\n",
              "          const docLinkHtml = 'Like what you see? Visit the ' +\n",
              "            '<a target=\"_blank\" href=https://colab.research.google.com/notebooks/data_table.ipynb>data table notebook</a>'\n",
              "            + ' to learn more about interactive tables.';\n",
              "          element.innerHTML = '';\n",
              "          dataTable['output_type'] = 'display_data';\n",
              "          await google.colab.output.renderOutput(dataTable, element);\n",
              "          const docLink = document.createElement('div');\n",
              "          docLink.innerHTML = docLinkHtml;\n",
              "          element.appendChild(docLink);\n",
              "        }\n",
              "      </script>\n",
              "    </div>\n",
              "  </div>\n",
              "  "
            ]
          },
          "metadata": {},
          "execution_count": 16
        }
      ]
    },
    {
      "cell_type": "code",
      "source": [
        "# # univariate lstm example\n",
        "# from numpy import array\n",
        "# from keras.models import Sequential\n",
        "# from keras.layers import LSTM\n",
        "# from keras.layers import Dense\n",
        " \n",
        "# # split a univariate sequence into samples\n",
        "# def split_sequence(sequence, n_steps):\n",
        "# \tX, y = list(), list()\n",
        "# \tfor i in range(len(sequence)):\n",
        "# \t\t# find the end of this pattern\n",
        "# \t\tend_ix = i + n_steps\n",
        "# \t\t# check if we are beyond the sequence\n",
        "# \t\tif end_ix > len(sequence)-1:\n",
        "# \t\t\tbreak\n",
        "# \t\t# gather input and output parts of the pattern\n",
        "# \t\tseq_x, seq_y = sequence[i:end_ix], sequence[end_ix]\n",
        "    \n",
        "# \t\tX.append(seq_x)\n",
        "# \t\ty.append(seq_y)\n",
        "# \treturn array(X), array(y)\n",
        " \n",
        "# # define input sequence\n",
        "# raw_seq = [10, 20, 30, 40, 50, 60, 70, 80, 90]\n",
        "# # choose a number of time steps\n",
        "# n_steps = 3\n",
        "# # split into samples\n",
        "# X, y = split_sequence(raw_seq, n_steps)\n",
        "\n",
        "# # reshape from [samples, timesteps] into [samples, timesteps, features]\n",
        "# n_features = 1\n",
        "# print('++++++++++++++++++++++++++++++++++++++++++++++++')\n",
        "# print(X.shape)\n",
        "# X = X.reshape((X.shape[0], X.shape[1], n_features))\n",
        "# print(X.ndim)\n",
        "# # define model\n",
        "# model = Sequential()\n",
        "# model.add(LSTM(50, activation='relu', input_shape=(n_steps, n_features)))\n",
        "# model.add(Dense(1))\n",
        "# model.compile(optimizer='adam', loss='mse')\n",
        "# # fit model\n",
        "# model.fit(X, y, epochs=200, verbose=0)\n",
        "# # demonstrate prediction\n",
        "# x_input = array([70, 80, 90])\n",
        "# x_input = x_input.reshape((1, n_steps, n_features))\n",
        "# yhat = model.predict(x_input, verbose=0)\n",
        "# print(yhat)"
      ],
      "metadata": {
        "application/vnd.databricks.v1+cell": {
          "title": "",
          "showTitle": false,
          "inputWidgets": {},
          "nuid": "691456b4-64dd-42bd-b51e-2f2e22fefcfc"
        },
        "id": "lkt9oSILQhgZ"
      },
      "outputs": [],
      "execution_count": null
    },
    {
      "cell_type": "code",
      "source": [
        "from sklearn.cluster import AgglomerativeClustering"
      ],
      "metadata": {
        "id": "YwYqr5xuWj84"
      },
      "execution_count": null,
      "outputs": []
    },
    {
      "cell_type": "code",
      "source": [
        "import scipy.cluster.hierarchy as shc\n",
        "from matplotlib import pyplot\n",
        "pyplot.figure(figsize=(10, 7))  \n",
        "pyplot.title(\"Dendrograms\")  \n",
        "df_dend = df_final.drop(['mag'],axis=1) \n",
        "dend = shc.dendrogram(shc.linkage(df_dend, method='ward'))"
      ],
      "metadata": {
        "id": "ECs_4L7Q_8nu",
        "colab": {
          "base_uri": "https://localhost:8080/",
          "height": 447
        },
        "outputId": "f9270f2a-eb0f-4171-c1af-842970203a65"
      },
      "execution_count": null,
      "outputs": [
        {
          "output_type": "display_data",
          "data": {
            "text/plain": [
              "<Figure size 720x504 with 1 Axes>"
            ],
            "image/png": "[encoded data removed]"
          },
          "metadata": {
            "needs_background": "light"
          }
        }
      ]
    },
    {
      "cell_type": "code",
      "source": [
        "cluster = AgglomerativeClustering(n_clusters=2).fit(df_dend)\n",
        "df_dend['labels'] = cluster.labels_"
      ],
      "metadata": {
        "id": "foumK4dV-1lG"
      },
      "execution_count": null,
      "outputs": []
    },
    {
      "cell_type": "code",
      "source": [
        "df_dend.head()"
      ],
      "metadata": {
        "colab": {
          "base_uri": "https://localhost:8080/",
          "height": 237
        },
        "id": "IZ0QSQ0X-zB2",
        "outputId": "5e256d1a-76cd-458a-c837-6f38be94a1a3"
      },
      "execution_count": null,
      "outputs": [
        {
          "output_type": "execute_result",
          "data": {
            "text/plain": [
              "                                  latitude  longitude   depth      yhat  \\\n",
              "time                                                                      \n",
              "2016-10-20 02:49:53.120000+00:00   35.8196   140.5082   18.91  4.583576   \n",
              "2016-10-20 19:07:26.450000+00:00   41.9161   140.8357  154.05  4.229105   \n",
              "2016-10-21 05:07:22.990000+00:00   35.3743   133.8092    5.63  4.383457   \n",
              "2016-10-21 05:30:07.340000+00:00   35.5001   133.5914   10.00  4.356168   \n",
              "2016-10-21 05:33:58.790000+00:00   35.3563   133.8545   10.00  4.352921   \n",
              "\n",
              "                                  labels  \n",
              "time                                      \n",
              "2016-10-20 02:49:53.120000+00:00       0  \n",
              "2016-10-20 19:07:26.450000+00:00       2  \n",
              "2016-10-21 05:07:22.990000+00:00       0  \n",
              "2016-10-21 05:30:07.340000+00:00       0  \n",
              "2016-10-21 05:33:58.790000+00:00       0  "
            ],
            "text/html": [
              "\n",
              "  <div id=\"df-a7ae71af-caf3-4ba8-9915-b32ac6bb4f6e\">\n",
              "    <div class=\"colab-df-container\">\n",
              "      <div>\n",
              "<style scoped>\n",
              "    .dataframe tbody tr th:only-of-type {\n",
              "        vertical-align: middle;\n",
              "    }\n",
              "\n",
              "    .dataframe tbody tr th {\n",
              "        vertical-align: top;\n",
              "    }\n",
              "\n",
              "    .dataframe thead th {\n",
              "        text-align: right;\n",
              "    }\n",
              "</style>\n",
              "<table border=\"1\" class=\"dataframe\">\n",
              "  <thead>\n",
              "    <tr style=\"text-align: right;\">\n",
              "      <th></th>\n",
              "      <th>latitude</th>\n",
              "      <th>longitude</th>\n",
              "      <th>depth</th>\n",
              "      <th>yhat</th>\n",
              "      <th>labels</th>\n",
              "    </tr>\n",
              "    <tr>\n",
              "      <th>time</th>\n",
              "      <th></th>\n",
              "      <th></th>\n",
              "      <th></th>\n",
              "      <th></th>\n",
              "      <th></th>\n",
              "    </tr>\n",
              "  </thead>\n",
              "  <tbody>\n",
              "    <tr>\n",
              "      <th>2016-10-20 02:49:53.120000+00:00</th>\n",
              "      <td>35.8196</td>\n",
              "      <td>140.5082</td>\n",
              "      <td>18.91</td>\n",
              "      <td>4.583576</td>\n",
              "      <td>0</td>\n",
              "    </tr>\n",
              "    <tr>\n",
              "      <th>2016-10-20 19:07:26.450000+00:00</th>\n",
              "      <td>41.9161</td>\n",
              "      <td>140.8357</td>\n",
              "      <td>154.05</td>\n",
              "      <td>4.229105</td>\n",
              "      <td>2</td>\n",
              "    </tr>\n",
              "    <tr>\n",
              "      <th>2016-10-21 05:07:22.990000+00:00</th>\n",
              "      <td>35.3743</td>\n",
              "      <td>133.8092</td>\n",
              "      <td>5.63</td>\n",
              "      <td>4.383457</td>\n",
              "      <td>0</td>\n",
              "    </tr>\n",
              "    <tr>\n",
              "      <th>2016-10-21 05:30:07.340000+00:00</th>\n",
              "      <td>35.5001</td>\n",
              "      <td>133.5914</td>\n",
              "      <td>10.00</td>\n",
              "      <td>4.356168</td>\n",
              "      <td>0</td>\n",
              "    </tr>\n",
              "    <tr>\n",
              "      <th>2016-10-21 05:33:58.790000+00:00</th>\n",
              "      <td>35.3563</td>\n",
              "      <td>133.8545</td>\n",
              "      <td>10.00</td>\n",
              "      <td>4.352921</td>\n",
              "      <td>0</td>\n",
              "    </tr>\n",
              "  </tbody>\n",
              "</table>\n",
              "</div>\n",
              "      <button class=\"colab-df-convert\" onclick=\"convertToInteractive('df-a7ae71af-caf3-4ba8-9915-b32ac6bb4f6e')\"\n",
              "              title=\"Convert this dataframe to an interactive table.\"\n",
              "              style=\"display:none;\">\n",
              "        \n",
              "  <svg xmlns=\"http://www.w3.org/2000/svg\" height=\"24px\"viewBox=\"0 0 24 24\"\n",
              "       width=\"24px\">\n",
              "    <path d=\"M0 0h24v24H0V0z\" fill=\"none\"/>\n",
              "    <path d=\"M18.56 5.44l.94 2.06.94-2.06 2.06-.94-2.06-.94-.94-2.06-.94 2.06-2.06.94zm-11 1L8.5 8.5l.94-2.06 2.06-.94-2.06-.94L8.5 2.5l-.94 2.06-2.06.94zm10 10l.94 2.06.94-2.06 2.06-.94-2.06-.94-.94-2.06-.94 2.06-2.06.94z\"/><path d=\"M17.41 7.96l-1.37-1.37c-.4-.4-.92-.59-1.43-.59-.52 0-1.04.2-1.43.59L10.3 9.45l-7.72 7.72c-.78.78-.78 2.05 0 2.83L4 21.41c.39.39.9.59 1.41.59.51 0 1.02-.2 1.41-.59l7.78-7.78 2.81-2.81c.8-.78.8-2.07 0-2.86zM5.41 20L4 18.59l7.72-7.72 1.47 1.35L5.41 20z\"/>\n",
              "  </svg>\n",
              "      </button>\n",
              "      \n",
              "  <style>\n",
              "    .colab-df-container {\n",
              "      display:flex;\n",
              "      flex-wrap:wrap;\n",
              "      gap: 12px;\n",
              "    }\n",
              "\n",
              "    .colab-df-convert {\n",
              "      background-color: #E8F0FE;\n",
              "      border: none;\n",
              "      border-radius: 50%;\n",
              "      cursor: pointer;\n",
              "      display: none;\n",
              "      fill: #1967D2;\n",
              "      height: 32px;\n",
              "      padding: 0 0 0 0;\n",
              "      width: 32px;\n",
              "    }\n",
              "\n",
              "    .colab-df-convert:hover {\n",
              "      background-color: #E2EBFA;\n",
              "      box-shadow: 0px 1px 2px rgba(60, 64, 67, 0.3), 0px 1px 3px 1px rgba(60, 64, 67, 0.15);\n",
              "      fill: #174EA6;\n",
              "    }\n",
              "\n",
              "    [theme=dark] .colab-df-convert {\n",
              "      background-color: #3B4455;\n",
              "      fill: #D2E3FC;\n",
              "    }\n",
              "\n",
              "    [theme=dark] .colab-df-convert:hover {\n",
              "      background-color: #434B5C;\n",
              "      box-shadow: 0px 1px 3px 1px rgba(0, 0, 0, 0.15);\n",
              "      filter: drop-shadow(0px 1px 2px rgba(0, 0, 0, 0.3));\n",
              "      fill: #FFFFFF;\n",
              "    }\n",
              "  </style>\n",
              "\n",
              "      <script>\n",
              "        const buttonEl =\n",
              "          document.querySelector('#df-a7ae71af-caf3-4ba8-9915-b32ac6bb4f6e button.colab-df-convert');\n",
              "        buttonEl.style.display =\n",
              "          google.colab.kernel.accessAllowed ? 'block' : 'none';\n",
              "\n",
              "        async function convertToInteractive(key) {\n",
              "          const element = document.querySelector('#df-a7ae71af-caf3-4ba8-9915-b32ac6bb4f6e');\n",
              "          const dataTable =\n",
              "            await google.colab.kernel.invokeFunction('convertToInteractive',\n",
              "                                                     [key], {});\n",
              "          if (!dataTable) return;\n",
              "\n",
              "          const docLinkHtml = 'Like what you see? Visit the ' +\n",
              "            '<a target=\"_blank\" href=https://colab.research.google.com/notebooks/data_table.ipynb>data table notebook</a>'\n",
              "            + ' to learn more about interactive tables.';\n",
              "          element.innerHTML = '';\n",
              "          dataTable['output_type'] = 'display_data';\n",
              "          await google.colab.output.renderOutput(dataTable, element);\n",
              "          const docLink = document.createElement('div');\n",
              "          docLink.innerHTML = docLinkHtml;\n",
              "          element.appendChild(docLink);\n",
              "        }\n",
              "      </script>\n",
              "    </div>\n",
              "  </div>\n",
              "  "
            ]
          },
          "metadata": {},
          "execution_count": 35
        }
      ]
    },
    {
      "cell_type": "code",
      "source": [
        "df_1 = df_dend.loc[(df_dend['labels']==0)]\n",
        "df_2 = df_dend.loc[(df_dend['labels']==1)]\n",
        "df_3 = df_dend.loc[(df_dend['labels']==2)]\n",
        "# df_4 = df_dend.loc[(df_dend['labels']==3)]"
      ],
      "metadata": {
        "id": "WDOVMcikBAp-"
      },
      "execution_count": null,
      "outputs": []
    },
    {
      "cell_type": "markdown",
      "source": [
        "# *Plotting the coordinates based on the above cluster*"
      ],
      "metadata": {
        "id": "6MzZuoPgQM2H"
      }
    },
    {
      "cell_type": "code",
      "source": [
        "import fsspec\n",
        "\n",
        "\n",
        "# with fsspec.open(\"/content/data.zip\") as file:\n",
        "with fsspec.open(\"/content/drive/MyDrive/geocopula/japan_data.zip\") as file:\n",
        "    jap = gpd.read_file(file)\n",
        "\n",
        "\n",
        "# geometry = [Point(xy) for xy in zip(df_1['longitude'],df_1['latitude'])]\n",
        "# gdf = GeoDataFrame(df_1,geometry=geometry)\n",
        "# gdf.plot(ax=jap.plot(figsize=(25, 25)), marker='o', color='red', markersize=15);"
      ],
      "metadata": {
        "id": "_CqTrbu7Beat"
      },
      "execution_count": null,
      "outputs": []
    },
    {
      "cell_type": "code",
      "source": [
        "\n",
        "gdf1 = GeoDataFrame(df_1,geometry=[Point(xy) for xy in zip(df_1['longitude'],df_1['latitude'])])\n",
        "gdf2 = GeoDataFrame(df_2,geometry=[Point(xy) for xy in zip(df_2['longitude'],df_2['latitude'])])\n",
        "gdf3 = GeoDataFrame(df_3,geometry=[Point(xy) for xy in zip(df_3['longitude'],df_3['latitude'])])\n",
        "a = gdf1.plot(ax=jap.plot(figsize=(25, 25)), marker='o', color='Red', markersize=15);\n",
        "b = gdf2.plot(ax=a, marker='o', color='Green', markersize=15);\n",
        "c = gdf3.plot(ax=b, marker='o', color='Yellow', markersize=15);\n"
      ],
      "metadata": {
        "colab": {
          "base_uri": "https://localhost:8080/",
          "height": 912
        },
        "id": "60S75CnAQLyt",
        "outputId": "fbaafbad-a637-4a65-97df-af0a5ab61d20"
      },
      "execution_count": null,
      "outputs": [
        {
          "output_type": "display_data",
          "data": {
            "text/plain": [
              "<Figure size 1800x1800 with 1 Axes>"
            ],
            "image/png": "[encoded data removed]"
          },
          "metadata": {
            "needs_background": "light"
          }
        }
      ]
    },
    {
      "cell_type": "code",
      "source": [
        "# geometry = [Point(xy) for xy in zip(df_2['longitude'],df_2['latitude'])]\n",
        "# gdf = GeoDataFrame(df_2,geometry=geometry)\n",
        "# gdf.plot(ax=jap.plot(figsize=(25, 25)), marker='o', color='Green', markersize=15);"
      ],
      "metadata": {
        "id": "5CpbKrThE3zp"
      },
      "execution_count": null,
      "outputs": []
    },
    {
      "cell_type": "code",
      "source": [
        "import matplotlib.pyplot as plt\n",
        "from shapely.geometry import Polygon, Point\n",
        "\n",
        "# LON, LAT\n",
        "vertices = [(i,j) for i in df_1['longitude'].values for j in df_1['latitude'].values]\n",
        "\n",
        "p1 = Polygon(vertices)\n",
        "print(p1)\n",
        "print(p1.area)\n",
        "print(p1.bounds)\n",
        "print(p1.centroid)\n",
        "\n",
        "plt.plot( [v[0] for v in vertices], [v[1] for v in vertices] )\n",
        "plt.show()"
      ],
      "metadata": {
        "colab": {
          "base_uri": "https://localhost:8080/",
          "height": 466
        },
        "id": "zewnA3V1RaHg",
        "outputId": "9e9be2d6-616d-425d-b072-0cec24b2bc7b"
      },
      "execution_count": null,
      "outputs": [
        {
          "output_type": "stream",
          "name": "stderr",
          "text": [
            "IOPub data rate exceeded.\n",
            "The notebook server will temporarily stop sending output\n",
            "to the client in order to avoid crashing it.\n",
            "To change this limit, set the config variable\n",
            "`--NotebookApp.iopub_data_rate_limit`.\n",
            "\n",
            "Current values:\n",
            "NotebookApp.iopub_data_rate_limit=1000000.0 (bytes/sec)\n",
            "NotebookApp.rate_limit_window=3.0 (secs)\n",
            "\n"
          ]
        },
        {
          "output_type": "stream",
          "name": "stdout",
          "text": [
            "POINT (1641872809120311.5 -35.374780654049744)\n"
          ]
        },
        {
          "output_type": "display_data",
          "data": {
            "text/plain": [
              "<Figure size 432x288 with 1 Axes>"
            ],
            "image/png": "[encoded data removed]"
          },
          "metadata": {
            "needs_background": "light"
          }
        }
      ]
    },
    {
      "cell_type": "code",
      "source": [
        "#https://github.com/Soroush98/LSTM-CNN_Stock/blob/master/LSTM_CNN.py"
      ],
      "metadata": {
        "id": "ypLKCc8fdtW5"
      },
      "execution_count": null,
      "outputs": []
    }
  ],
  "metadata": {
    "application/vnd.databricks.v1+notebook": {
      "notebookName": "earthquake",
      "dashboards": [],
      "notebookMetadata": {
        "pythonIndentUnit": 2
      },
      "language": "python",
      "widgets": {},
      "notebookOrigID": 3669214884002908
    },
    "colab": {
      "provenance": [],
      "collapsed_sections": [],
      "include_colab_link": true
    },
    "language_info": {
      "name": "python"
    },
    "kernelspec": {
      "name": "python3",
      "display_name": "Python 3"
    }
  },
  "nbformat": 4,
  "nbformat_minor": 0
}