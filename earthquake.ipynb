{
  "cells": [
    {
      "cell_type": "markdown",
      "metadata": {
        "id": "view-in-github",
        "colab_type": "text"
      },
      "source": [
        "<a href=\"https://colab.research.google.com/github/someshkr/Geo-Copula/blob/main/earthquake.ipynb\" target=\"_parent\"><img src=\"https://colab.research.google.com/assets/colab-badge.svg\" alt=\"Open In Colab\"/></a>"
      ]
    },
    {
      "cell_type": "code",
      "source": [
        "!pip install geopy\n",
        "!pip install geopandas"
      ],
      "metadata": {
        "application/vnd.databricks.v1+cell": {
          "title": "",
          "showTitle": false,
          "inputWidgets": {},
          "nuid": "645d555f-c809-478a-8a4d-aa09bdde835e"
        },
        "colab": {
          "base_uri": "https://localhost:8080/"
        },
        "id": "_BIY_g4CQhfm",
        "outputId": "ccb2be25-290f-43d4-d790-9768fd819034"
      },
      "outputs": [
        {
          "output_type": "stream",
          "name": "stdout",
          "text": [
            "Looking in indexes: https://pypi.org/simple, https://us-python.pkg.dev/colab-wheels/public/simple/\n",
            "Requirement already satisfied: geopy in /usr/local/lib/python3.7/dist-packages (1.17.0)\n",
            "Requirement already satisfied: geographiclib<2,>=1.49 in /usr/local/lib/python3.7/dist-packages (from geopy) (1.52)\n",
            "Looking in indexes: https://pypi.org/simple, https://us-python.pkg.dev/colab-wheels/public/simple/\n",
            "Collecting geopandas\n",
            "  Downloading geopandas-0.10.2-py2.py3-none-any.whl (1.0 MB)\n",
            "\u001b[K     |████████████████████████████████| 1.0 MB 4.2 MB/s \n",
            "\u001b[?25hCollecting fiona>=1.8\n",
            "  Downloading Fiona-1.8.21-cp37-cp37m-manylinux2014_x86_64.whl (16.7 MB)\n",
            "\u001b[K     |████████████████████████████████| 16.7 MB 467 kB/s \n",
            "\u001b[?25hCollecting pyproj>=2.2.0\n",
            "  Downloading pyproj-3.2.1-cp37-cp37m-manylinux2010_x86_64.whl (6.3 MB)\n",
            "\u001b[K     |████████████████████████████████| 6.3 MB 33.2 MB/s \n",
            "\u001b[?25hRequirement already satisfied: shapely>=1.6 in /usr/local/lib/python3.7/dist-packages (from geopandas) (1.8.4)\n",
            "Requirement already satisfied: pandas>=0.25.0 in /usr/local/lib/python3.7/dist-packages (from geopandas) (1.3.5)\n",
            "Requirement already satisfied: setuptools in /usr/local/lib/python3.7/dist-packages (from fiona>=1.8->geopandas) (57.4.0)\n",
            "Collecting cligj>=0.5\n",
            "  Downloading cligj-0.7.2-py3-none-any.whl (7.1 kB)\n",
            "Collecting munch\n",
            "  Downloading munch-2.5.0-py2.py3-none-any.whl (10 kB)\n",
            "Requirement already satisfied: attrs>=17 in /usr/local/lib/python3.7/dist-packages (from fiona>=1.8->geopandas) (22.1.0)\n",
            "Collecting click-plugins>=1.0\n",
            "  Downloading click_plugins-1.1.1-py2.py3-none-any.whl (7.5 kB)\n",
            "Requirement already satisfied: certifi in /usr/local/lib/python3.7/dist-packages (from fiona>=1.8->geopandas) (2022.6.15)\n",
            "Requirement already satisfied: six>=1.7 in /usr/local/lib/python3.7/dist-packages (from fiona>=1.8->geopandas) (1.15.0)\n",
            "Requirement already satisfied: click>=4.0 in /usr/local/lib/python3.7/dist-packages (from fiona>=1.8->geopandas) (7.1.2)\n",
            "Requirement already satisfied: pytz>=2017.3 in /usr/local/lib/python3.7/dist-packages (from pandas>=0.25.0->geopandas) (2022.2.1)\n",
            "Requirement already satisfied: python-dateutil>=2.7.3 in /usr/local/lib/python3.7/dist-packages (from pandas>=0.25.0->geopandas) (2.8.2)\n",
            "Requirement already satisfied: numpy>=1.17.3 in /usr/local/lib/python3.7/dist-packages (from pandas>=0.25.0->geopandas) (1.21.6)\n",
            "Installing collected packages: munch, cligj, click-plugins, pyproj, fiona, geopandas\n",
            "Successfully installed click-plugins-1.1.1 cligj-0.7.2 fiona-1.8.21 geopandas-0.10.2 munch-2.5.0 pyproj-3.2.1\n"
          ]
        }
      ],
      "execution_count": 1
    },
    {
      "cell_type": "code",
      "source": [
        "import tensorflow as tf\n",
        "import numpy as np\n",
        "np.set_printoptions(threshold=np.inf)\n",
        "import matplotlib.pyplot as plt\n",
        "import pandas as pd\n",
        "pd.set_option('display.max_columns', None)\n",
        "pd.set_option('display.max_rows', None)\n",
        "import math\n",
        "from keras.models import Sequential\n",
        "from keras.layers import LSTM, Bidirectional, Dense"
      ],
      "metadata": {
        "application/vnd.databricks.v1+cell": {
          "title": "",
          "showTitle": false,
          "inputWidgets": {},
          "nuid": "db233d17-92ad-4c2a-b508-2a6c376e2f63"
        },
        "id": "eiHpLnk2QhgD"
      },
      "outputs": [],
      "execution_count": 2
    },
    {
      "cell_type": "code",
      "source": [
        "df = pd.read_excel(\"/content/query.xlsx\")\n",
        "# df = pd.read_csv(\"/dbfs/FileStore/data/Indian_earthquake_data.csv\")\n",
        "df['time'] = pd.to_datetime(df['time'],utc=True)\n",
        "df = df[['time','latitude','longitude','depth','mag']]\n",
        "df = df.sort_values(by='time',ascending=True)\n",
        "df.head()"
      ],
      "metadata": {
        "application/vnd.databricks.v1+cell": {
          "title": "",
          "showTitle": false,
          "inputWidgets": {},
          "nuid": "6ae1ef6c-6f4a-44b0-8b5f-bd1001405bbf"
        },
        "colab": {
          "base_uri": "https://localhost:8080/",
          "height": 206
        },
        "id": "U57FrCEBQhgF",
        "outputId": "2919f662-621a-41fc-802c-bb5266eb0995"
      },
      "outputs": [
        {
          "output_type": "execute_result",
          "data": {
            "text/plain": [
              "                                  time  latitude  longitude  depth  mag\n",
              "17836 2000-09-17 05:18:04.270000+00:00    38.006    140.670  105.1  4.5\n",
              "17835 2000-09-17 21:04:24.900000+00:00    30.257    138.392  445.6  4.3\n",
              "17834 2000-09-21 22:43:24.770000+00:00    35.811    140.837   45.2  4.8\n",
              "17833 2000-09-23 17:42:10.600000+00:00    41.444    142.217   63.9  4.3\n",
              "17832 2000-09-25 16:22:01.020000+00:00    32.167    142.461   33.0  4.1"
            ],
            "text/html": [
              "\n",
              "  <div id=\"df-43f14b8c-9c5f-4bb0-8dcb-ca45030d4783\">\n",
              "    <div class=\"colab-df-container\">\n",
              "      <div>\n",
              "<style scoped>\n",
              "    .dataframe tbody tr th:only-of-type {\n",
              "        vertical-align: middle;\n",
              "    }\n",
              "\n",
              "    .dataframe tbody tr th {\n",
              "        vertical-align: top;\n",
              "    }\n",
              "\n",
              "    .dataframe thead th {\n",
              "        text-align: right;\n",
              "    }\n",
              "</style>\n",
              "<table border=\"1\" class=\"dataframe\">\n",
              "  <thead>\n",
              "    <tr style=\"text-align: right;\">\n",
              "      <th></th>\n",
              "      <th>time</th>\n",
              "      <th>latitude</th>\n",
              "      <th>longitude</th>\n",
              "      <th>depth</th>\n",
              "      <th>mag</th>\n",
              "    </tr>\n",
              "  </thead>\n",
              "  <tbody>\n",
              "    <tr>\n",
              "      <th>17836</th>\n",
              "      <td>2000-09-17 05:18:04.270000+00:00</td>\n",
              "      <td>38.006</td>\n",
              "      <td>140.670</td>\n",
              "      <td>105.1</td>\n",
              "      <td>4.5</td>\n",
              "    </tr>\n",
              "    <tr>\n",
              "      <th>17835</th>\n",
              "      <td>2000-09-17 21:04:24.900000+00:00</td>\n",
              "      <td>30.257</td>\n",
              "      <td>138.392</td>\n",
              "      <td>445.6</td>\n",
              "      <td>4.3</td>\n",
              "    </tr>\n",
              "    <tr>\n",
              "      <th>17834</th>\n",
              "      <td>2000-09-21 22:43:24.770000+00:00</td>\n",
              "      <td>35.811</td>\n",
              "      <td>140.837</td>\n",
              "      <td>45.2</td>\n",
              "      <td>4.8</td>\n",
              "    </tr>\n",
              "    <tr>\n",
              "      <th>17833</th>\n",
              "      <td>2000-09-23 17:42:10.600000+00:00</td>\n",
              "      <td>41.444</td>\n",
              "      <td>142.217</td>\n",
              "      <td>63.9</td>\n",
              "      <td>4.3</td>\n",
              "    </tr>\n",
              "    <tr>\n",
              "      <th>17832</th>\n",
              "      <td>2000-09-25 16:22:01.020000+00:00</td>\n",
              "      <td>32.167</td>\n",
              "      <td>142.461</td>\n",
              "      <td>33.0</td>\n",
              "      <td>4.1</td>\n",
              "    </tr>\n",
              "  </tbody>\n",
              "</table>\n",
              "</div>\n",
              "      <button class=\"colab-df-convert\" onclick=\"convertToInteractive('df-43f14b8c-9c5f-4bb0-8dcb-ca45030d4783')\"\n",
              "              title=\"Convert this dataframe to an interactive table.\"\n",
              "              style=\"display:none;\">\n",
              "        \n",
              "  <svg xmlns=\"http://www.w3.org/2000/svg\" height=\"24px\"viewBox=\"0 0 24 24\"\n",
              "       width=\"24px\">\n",
              "    <path d=\"M0 0h24v24H0V0z\" fill=\"none\"/>\n",
              "    <path d=\"M18.56 5.44l.94 2.06.94-2.06 2.06-.94-2.06-.94-.94-2.06-.94 2.06-2.06.94zm-11 1L8.5 8.5l.94-2.06 2.06-.94-2.06-.94L8.5 2.5l-.94 2.06-2.06.94zm10 10l.94 2.06.94-2.06 2.06-.94-2.06-.94-.94-2.06-.94 2.06-2.06.94z\"/><path d=\"M17.41 7.96l-1.37-1.37c-.4-.4-.92-.59-1.43-.59-.52 0-1.04.2-1.43.59L10.3 9.45l-7.72 7.72c-.78.78-.78 2.05 0 2.83L4 21.41c.39.39.9.59 1.41.59.51 0 1.02-.2 1.41-.59l7.78-7.78 2.81-2.81c.8-.78.8-2.07 0-2.86zM5.41 20L4 18.59l7.72-7.72 1.47 1.35L5.41 20z\"/>\n",
              "  </svg>\n",
              "      </button>\n",
              "      \n",
              "  <style>\n",
              "    .colab-df-container {\n",
              "      display:flex;\n",
              "      flex-wrap:wrap;\n",
              "      gap: 12px;\n",
              "    }\n",
              "\n",
              "    .colab-df-convert {\n",
              "      background-color: #E8F0FE;\n",
              "      border: none;\n",
              "      border-radius: 50%;\n",
              "      cursor: pointer;\n",
              "      display: none;\n",
              "      fill: #1967D2;\n",
              "      height: 32px;\n",
              "      padding: 0 0 0 0;\n",
              "      width: 32px;\n",
              "    }\n",
              "\n",
              "    .colab-df-convert:hover {\n",
              "      background-color: #E2EBFA;\n",
              "      box-shadow: 0px 1px 2px rgba(60, 64, 67, 0.3), 0px 1px 3px 1px rgba(60, 64, 67, 0.15);\n",
              "      fill: #174EA6;\n",
              "    }\n",
              "\n",
              "    [theme=dark] .colab-df-convert {\n",
              "      background-color: #3B4455;\n",
              "      fill: #D2E3FC;\n",
              "    }\n",
              "\n",
              "    [theme=dark] .colab-df-convert:hover {\n",
              "      background-color: #434B5C;\n",
              "      box-shadow: 0px 1px 3px 1px rgba(0, 0, 0, 0.15);\n",
              "      filter: drop-shadow(0px 1px 2px rgba(0, 0, 0, 0.3));\n",
              "      fill: #FFFFFF;\n",
              "    }\n",
              "  </style>\n",
              "\n",
              "      <script>\n",
              "        const buttonEl =\n",
              "          document.querySelector('#df-43f14b8c-9c5f-4bb0-8dcb-ca45030d4783 button.colab-df-convert');\n",
              "        buttonEl.style.display =\n",
              "          google.colab.kernel.accessAllowed ? 'block' : 'none';\n",
              "\n",
              "        async function convertToInteractive(key) {\n",
              "          const element = document.querySelector('#df-43f14b8c-9c5f-4bb0-8dcb-ca45030d4783');\n",
              "          const dataTable =\n",
              "            await google.colab.kernel.invokeFunction('convertToInteractive',\n",
              "                                                     [key], {});\n",
              "          if (!dataTable) return;\n",
              "\n",
              "          const docLinkHtml = 'Like what you see? Visit the ' +\n",
              "            '<a target=\"_blank\" href=https://colab.research.google.com/notebooks/data_table.ipynb>data table notebook</a>'\n",
              "            + ' to learn more about interactive tables.';\n",
              "          element.innerHTML = '';\n",
              "          dataTable['output_type'] = 'display_data';\n",
              "          await google.colab.output.renderOutput(dataTable, element);\n",
              "          const docLink = document.createElement('div');\n",
              "          docLink.innerHTML = docLinkHtml;\n",
              "          element.appendChild(docLink);\n",
              "        }\n",
              "      </script>\n",
              "    </div>\n",
              "  </div>\n",
              "  "
            ]
          },
          "metadata": {},
          "execution_count": 3
        }
      ],
      "execution_count": 3
    },
    {
      "cell_type": "code",
      "source": [
        "df_train = df.iloc[:12512]\n",
        "df_val = df.iloc[12512:14271]\n",
        "df_test = df.iloc[14271:]\n",
        "df_train = df_train.set_index('time')\n",
        "df_val = df_val.set_index('time')\n",
        "df_test = df_test.set_index('time')"
      ],
      "metadata": {
        "application/vnd.databricks.v1+cell": {
          "title": "",
          "showTitle": false,
          "inputWidgets": {},
          "nuid": "3d490be5-c60b-4662-9b8d-bb13c3c65cb2"
        },
        "id": "en5fvKsjQhgH"
      },
      "outputs": [],
      "execution_count": 4
    },
    {
      "cell_type": "code",
      "source": [
        "x_train,y_train= df_train[['latitude','longitude','depth']],df_train[['mag']]\n",
        "x_test,y_test= df_test[['latitude','longitude','depth']],df_test[['mag']]\n",
        "x_val,y_val  = df_val[['latitude','longitude','depth']],df_val[['mag']]"
      ],
      "metadata": {
        "application/vnd.databricks.v1+cell": {
          "title": "",
          "showTitle": false,
          "inputWidgets": {},
          "nuid": "fa903ca8-3c7b-45c6-8ec1-197b8525ce11"
        },
        "id": "6HamPXFKQhgJ"
      },
      "outputs": [],
      "execution_count": 5
    },
    {
      "cell_type": "code",
      "source": [
        "batch_size = 32\n",
        "buffer_size = x_train.shape[0]\n",
        "# Provide an infinite dataset\n",
        "x_train = np.array(x_train)\n",
        "x_test = np.array(x_test)\n",
        "x_val = np.array(x_val)\n",
        "\n",
        "x_train = x_train.reshape((x_train.shape[0], x_train.shape[1], 1))\n",
        "x_test = x_test.reshape((x_test.shape[0], x_test.shape[1], 1))\n",
        "x_val = x_val.reshape((x_val.shape[0], x_val.shape[1], 1))\n",
        "train_iterator = tf.data.Dataset.from_tensor_slices((np.array(x_train), np.array(y_train))).shuffle(buffer_size).batch(batch_size).repeat()\n",
        "# Provide an infinite dataset\n",
        "val_iterator = tf.data.Dataset.from_tensor_slices((np.array(x_val), np.array(y_val))).batch(batch_size).repeat()\n",
        "test_iterator = tf.data.Dataset.from_tensor_slices((np.array(x_test), np.array(y_test))).batch(batch_size).repeat()"
      ],
      "metadata": {
        "application/vnd.databricks.v1+cell": {
          "title": "",
          "showTitle": false,
          "inputWidgets": {},
          "nuid": "f3882135-3008-42f5-b0d0-bb6cc021405a"
        },
        "id": "FvzaC2cLQhgL"
      },
      "outputs": [],
      "execution_count": 6
    },
    {
      "cell_type": "code",
      "source": [
        "n_steps = x_train.shape[-2]\n",
        "n_features = x_train.shape[-1]\n",
        "# Define the model\n",
        "model = Sequential()\n",
        "model.add(tf.keras.layers.Bidirectional(tf.keras.layers.LSTM(64)))\n",
        "#model.add(tf.keras.layers.Reshape((128, 1), input_shape = (128, )))\n",
        "model.add(tf.keras.layers.Dense(64, activation='relu'))\n",
        "model.add(Dense(1))\n",
        "# Compile the model\n",
        "model.compile(optimizer='adam', loss='mse')"
      ],
      "metadata": {
        "application/vnd.databricks.v1+cell": {
          "title": "",
          "showTitle": false,
          "inputWidgets": {},
          "nuid": "a4675db9-ff50-4d68-b61f-7c4a6b3d844e"
        },
        "id": "-S-2FOXaQhgQ"
      },
      "outputs": [],
      "execution_count": 7
    },
    {
      "cell_type": "code",
      "source": [
        "n_steps,n_features"
      ],
      "metadata": {
        "application/vnd.databricks.v1+cell": {
          "title": "",
          "showTitle": false,
          "inputWidgets": {},
          "nuid": "a1b4b186-5566-4c47-8a87-d7a4f573c52e"
        },
        "colab": {
          "base_uri": "https://localhost:8080/"
        },
        "id": "cfrBatycQhgN",
        "outputId": "afb24fad-c89e-4c56-b0c5-f57a2f8daf23"
      },
      "outputs": [
        {
          "output_type": "execute_result",
          "data": {
            "text/plain": [
              "(3, 1)"
            ]
          },
          "metadata": {},
          "execution_count": 8
        }
      ],
      "execution_count": 8
    },
    {
      "cell_type": "code",
      "source": [
        "# train_iterator\n",
        "# X = X.reshape((X.shape[0], X.shape[1], n_features))"
      ],
      "metadata": {
        "application/vnd.databricks.v1+cell": {
          "title": "",
          "showTitle": false,
          "inputWidgets": {},
          "nuid": "8980569c-d574-4d26-876c-d48dc36923e6"
        },
        "id": "74owTneAQhgU"
      },
      "outputs": [],
      "execution_count": 9
    },
    {
      "cell_type": "code",
      "source": [
        "epochs = 10\n",
        "steps_per_epoch = 800\n",
        "validation_steps = 80\n",
        "# Train with an infinite dataset\n",
        "history = model.fit(train_iterator, epochs=epochs,\n",
        "                    steps_per_epoch=steps_per_epoch,\n",
        "                    validation_data=val_iterator,\n",
        "                    validation_steps=validation_steps)\n",
        "print('=======================')\n",
        "model.summary()"
      ],
      "metadata": {
        "colab": {
          "base_uri": "https://localhost:8080/"
        },
        "id": "JBtl9RtZa_yE",
        "outputId": "54ad4fd6-24a5-40e9-9447-9cd7c1a6113d"
      },
      "execution_count": 10,
      "outputs": [
        {
          "output_type": "stream",
          "name": "stdout",
          "text": [
            "Epoch 1/10\n",
            "800/800 [==============================] - 21s 15ms/step - loss: 0.6174 - val_loss: 0.1436\n",
            "Epoch 2/10\n",
            "800/800 [==============================] - 6s 8ms/step - loss: 0.2314 - val_loss: 0.1428\n",
            "Epoch 3/10\n",
            "800/800 [==============================] - 4s 5ms/step - loss: 0.2328 - val_loss: 0.1509\n",
            "Epoch 4/10\n",
            "800/800 [==============================] - 4s 6ms/step - loss: 0.2311 - val_loss: 0.1448\n",
            "Epoch 5/10\n",
            "800/800 [==============================] - 4s 5ms/step - loss: 0.2336 - val_loss: 0.1352\n",
            "Epoch 6/10\n",
            "800/800 [==============================] - 4s 5ms/step - loss: 0.2328 - val_loss: 0.1452\n",
            "Epoch 7/10\n",
            "800/800 [==============================] - 5s 6ms/step - loss: 0.2308 - val_loss: 0.1496\n",
            "Epoch 8/10\n",
            "800/800 [==============================] - 4s 5ms/step - loss: 0.2331 - val_loss: 0.1417\n",
            "Epoch 9/10\n",
            "800/800 [==============================] - 4s 6ms/step - loss: 0.2313 - val_loss: 0.1551\n",
            "Epoch 10/10\n",
            "800/800 [==============================] - 5s 6ms/step - loss: 0.2328 - val_loss: 0.1452\n",
            "=======================\n",
            "Model: \"sequential\"\n",
            "_________________________________________________________________\n",
            " Layer (type)                Output Shape              Param #   \n",
            "=================================================================\n",
            " bidirectional (Bidirectiona  (None, 128)              33792     \n",
            " l)                                                              \n",
            "                                                                 \n",
            " dense (Dense)               (None, 64)                8256      \n",
            "                                                                 \n",
            " dense_1 (Dense)             (None, 1)                 65        \n",
            "                                                                 \n",
            "=================================================================\n",
            "Total params: 42,113\n",
            "Trainable params: 42,113\n",
            "Non-trainable params: 0\n",
            "_________________________________________________________________\n"
          ]
        }
      ]
    },
    {
      "cell_type": "code",
      "source": [
        "# epochs = 10\n",
        "# steps_per_epoch = 800\n",
        "# validation_steps = 80\n",
        "# # Train with an infinite dataset\n",
        "# x_train = np.array(x_train)\n",
        "# x_train = x_train.reshape((x_train.shape[0], x_train.shape[1], 1))\n",
        "# history = model.fit(x_train, y_train,epochs=epochs,\n",
        "#                     steps_per_epoch=steps_per_epoch\n",
        "#                    )\n",
        "# print('=======================')\n",
        "# model.summary()"
      ],
      "metadata": {
        "application/vnd.databricks.v1+cell": {
          "title": "",
          "showTitle": false,
          "inputWidgets": {},
          "nuid": "5fdc9bd2-4e22-48cb-ab4e-7973d931306c"
        },
        "id": "faWbtxVzQhgW"
      },
      "outputs": [],
      "execution_count": 11
    },
    {
      "cell_type": "code",
      "source": [
        "\n",
        "#for batch_num, (x, y) in enumerate(test_iterator.take(3)):\n",
        "  \n",
        "len(model.predict(np.array(x_test)).reshape(-1))"
      ],
      "metadata": {
        "colab": {
          "base_uri": "https://localhost:8080/"
        },
        "id": "29j0cx5duex5",
        "outputId": "07bb8c2c-5893-4b38-c551-62c0a26a0566"
      },
      "execution_count": 12,
      "outputs": [
        {
          "output_type": "execute_result",
          "data": {
            "text/plain": [
              "3566"
            ]
          },
          "metadata": {},
          "execution_count": 12
        }
      ]
    },
    {
      "cell_type": "code",
      "source": [
        "\n",
        "# yhat = model.predict(np.array(x_test), verbose=0).reshape(-1)\n"
      ],
      "metadata": {
        "id": "OvV7DyHMueha"
      },
      "execution_count": 13,
      "outputs": []
    },
    {
      "cell_type": "code",
      "source": [
        "x_test.shape"
      ],
      "metadata": {
        "colab": {
          "base_uri": "https://localhost:8080/"
        },
        "id": "RH_hm4NH4T3C",
        "outputId": "1e6a5403-d62c-416b-dfbb-ba7d2abb483c"
      },
      "execution_count": 14,
      "outputs": [
        {
          "output_type": "execute_result",
          "data": {
            "text/plain": [
              "(3566, 3, 1)"
            ]
          },
          "metadata": {},
          "execution_count": 14
        }
      ]
    },
    {
      "cell_type": "code",
      "source": [
        "df_final = df_test.copy()\n",
        "df_final['yhat']=model.predict(np.array(x_test)).reshape(-1)"
      ],
      "metadata": {
        "id": "7gNO8veDxH27"
      },
      "execution_count": 15,
      "outputs": []
    },
    {
      "cell_type": "code",
      "source": [
        "df_final.head()"
      ],
      "metadata": {
        "colab": {
          "base_uri": "https://localhost:8080/",
          "height": 237
        },
        "id": "fEI_x4bd4rIA",
        "outputId": "946c29d3-2566-451c-bf42-bab4d33834d3"
      },
      "execution_count": 16,
      "outputs": [
        {
          "output_type": "execute_result",
          "data": {
            "text/plain": [
              "                                  latitude  longitude   depth  mag      yhat\n",
              "time                                                                        \n",
              "2016-10-20 02:49:53.120000+00:00   35.8196   140.5082   18.91  5.3  4.601982\n",
              "2016-10-20 19:07:26.450000+00:00   41.9161   140.8357  154.05  4.2  4.244403\n",
              "2016-10-21 05:07:22.990000+00:00   35.3743   133.8092    5.63  6.2  4.448021\n",
              "2016-10-21 05:30:07.340000+00:00   35.5001   133.5914   10.00  4.1  4.448863\n",
              "2016-10-21 05:33:58.790000+00:00   35.3563   133.8545   10.00  4.0  4.445379"
            ],
            "text/html": [
              "\n",
              "  <div id=\"df-7f7da696-2859-4188-866c-4d5ff38bf092\">\n",
              "    <div class=\"colab-df-container\">\n",
              "      <div>\n",
              "<style scoped>\n",
              "    .dataframe tbody tr th:only-of-type {\n",
              "        vertical-align: middle;\n",
              "    }\n",
              "\n",
              "    .dataframe tbody tr th {\n",
              "        vertical-align: top;\n",
              "    }\n",
              "\n",
              "    .dataframe thead th {\n",
              "        text-align: right;\n",
              "    }\n",
              "</style>\n",
              "<table border=\"1\" class=\"dataframe\">\n",
              "  <thead>\n",
              "    <tr style=\"text-align: right;\">\n",
              "      <th></th>\n",
              "      <th>latitude</th>\n",
              "      <th>longitude</th>\n",
              "      <th>depth</th>\n",
              "      <th>mag</th>\n",
              "      <th>yhat</th>\n",
              "    </tr>\n",
              "    <tr>\n",
              "      <th>time</th>\n",
              "      <th></th>\n",
              "      <th></th>\n",
              "      <th></th>\n",
              "      <th></th>\n",
              "      <th></th>\n",
              "    </tr>\n",
              "  </thead>\n",
              "  <tbody>\n",
              "    <tr>\n",
              "      <th>2016-10-20 02:49:53.120000+00:00</th>\n",
              "      <td>35.8196</td>\n",
              "      <td>140.5082</td>\n",
              "      <td>18.91</td>\n",
              "      <td>5.3</td>\n",
              "      <td>4.601982</td>\n",
              "    </tr>\n",
              "    <tr>\n",
              "      <th>2016-10-20 19:07:26.450000+00:00</th>\n",
              "      <td>41.9161</td>\n",
              "      <td>140.8357</td>\n",
              "      <td>154.05</td>\n",
              "      <td>4.2</td>\n",
              "      <td>4.244403</td>\n",
              "    </tr>\n",
              "    <tr>\n",
              "      <th>2016-10-21 05:07:22.990000+00:00</th>\n",
              "      <td>35.3743</td>\n",
              "      <td>133.8092</td>\n",
              "      <td>5.63</td>\n",
              "      <td>6.2</td>\n",
              "      <td>4.448021</td>\n",
              "    </tr>\n",
              "    <tr>\n",
              "      <th>2016-10-21 05:30:07.340000+00:00</th>\n",
              "      <td>35.5001</td>\n",
              "      <td>133.5914</td>\n",
              "      <td>10.00</td>\n",
              "      <td>4.1</td>\n",
              "      <td>4.448863</td>\n",
              "    </tr>\n",
              "    <tr>\n",
              "      <th>2016-10-21 05:33:58.790000+00:00</th>\n",
              "      <td>35.3563</td>\n",
              "      <td>133.8545</td>\n",
              "      <td>10.00</td>\n",
              "      <td>4.0</td>\n",
              "      <td>4.445379</td>\n",
              "    </tr>\n",
              "  </tbody>\n",
              "</table>\n",
              "</div>\n",
              "      <button class=\"colab-df-convert\" onclick=\"convertToInteractive('df-7f7da696-2859-4188-866c-4d5ff38bf092')\"\n",
              "              title=\"Convert this dataframe to an interactive table.\"\n",
              "              style=\"display:none;\">\n",
              "        \n",
              "  <svg xmlns=\"http://www.w3.org/2000/svg\" height=\"24px\"viewBox=\"0 0 24 24\"\n",
              "       width=\"24px\">\n",
              "    <path d=\"M0 0h24v24H0V0z\" fill=\"none\"/>\n",
              "    <path d=\"M18.56 5.44l.94 2.06.94-2.06 2.06-.94-2.06-.94-.94-2.06-.94 2.06-2.06.94zm-11 1L8.5 8.5l.94-2.06 2.06-.94-2.06-.94L8.5 2.5l-.94 2.06-2.06.94zm10 10l.94 2.06.94-2.06 2.06-.94-2.06-.94-.94-2.06-.94 2.06-2.06.94z\"/><path d=\"M17.41 7.96l-1.37-1.37c-.4-.4-.92-.59-1.43-.59-.52 0-1.04.2-1.43.59L10.3 9.45l-7.72 7.72c-.78.78-.78 2.05 0 2.83L4 21.41c.39.39.9.59 1.41.59.51 0 1.02-.2 1.41-.59l7.78-7.78 2.81-2.81c.8-.78.8-2.07 0-2.86zM5.41 20L4 18.59l7.72-7.72 1.47 1.35L5.41 20z\"/>\n",
              "  </svg>\n",
              "      </button>\n",
              "      \n",
              "  <style>\n",
              "    .colab-df-container {\n",
              "      display:flex;\n",
              "      flex-wrap:wrap;\n",
              "      gap: 12px;\n",
              "    }\n",
              "\n",
              "    .colab-df-convert {\n",
              "      background-color: #E8F0FE;\n",
              "      border: none;\n",
              "      border-radius: 50%;\n",
              "      cursor: pointer;\n",
              "      display: none;\n",
              "      fill: #1967D2;\n",
              "      height: 32px;\n",
              "      padding: 0 0 0 0;\n",
              "      width: 32px;\n",
              "    }\n",
              "\n",
              "    .colab-df-convert:hover {\n",
              "      background-color: #E2EBFA;\n",
              "      box-shadow: 0px 1px 2px rgba(60, 64, 67, 0.3), 0px 1px 3px 1px rgba(60, 64, 67, 0.15);\n",
              "      fill: #174EA6;\n",
              "    }\n",
              "\n",
              "    [theme=dark] .colab-df-convert {\n",
              "      background-color: #3B4455;\n",
              "      fill: #D2E3FC;\n",
              "    }\n",
              "\n",
              "    [theme=dark] .colab-df-convert:hover {\n",
              "      background-color: #434B5C;\n",
              "      box-shadow: 0px 1px 3px 1px rgba(0, 0, 0, 0.15);\n",
              "      filter: drop-shadow(0px 1px 2px rgba(0, 0, 0, 0.3));\n",
              "      fill: #FFFFFF;\n",
              "    }\n",
              "  </style>\n",
              "\n",
              "      <script>\n",
              "        const buttonEl =\n",
              "          document.querySelector('#df-7f7da696-2859-4188-866c-4d5ff38bf092 button.colab-df-convert');\n",
              "        buttonEl.style.display =\n",
              "          google.colab.kernel.accessAllowed ? 'block' : 'none';\n",
              "\n",
              "        async function convertToInteractive(key) {\n",
              "          const element = document.querySelector('#df-7f7da696-2859-4188-866c-4d5ff38bf092');\n",
              "          const dataTable =\n",
              "            await google.colab.kernel.invokeFunction('convertToInteractive',\n",
              "                                                     [key], {});\n",
              "          if (!dataTable) return;\n",
              "\n",
              "          const docLinkHtml = 'Like what you see? Visit the ' +\n",
              "            '<a target=\"_blank\" href=https://colab.research.google.com/notebooks/data_table.ipynb>data table notebook</a>'\n",
              "            + ' to learn more about interactive tables.';\n",
              "          element.innerHTML = '';\n",
              "          dataTable['output_type'] = 'display_data';\n",
              "          await google.colab.output.renderOutput(dataTable, element);\n",
              "          const docLink = document.createElement('div');\n",
              "          docLink.innerHTML = docLinkHtml;\n",
              "          element.appendChild(docLink);\n",
              "        }\n",
              "      </script>\n",
              "    </div>\n",
              "  </div>\n",
              "  "
            ]
          },
          "metadata": {},
          "execution_count": 16
        }
      ]
    },
    {
      "cell_type": "code",
      "source": [
        "# # univariate lstm example\n",
        "# from numpy import array\n",
        "# from keras.models import Sequential\n",
        "# from keras.layers import LSTM\n",
        "# from keras.layers import Dense\n",
        " \n",
        "# # split a univariate sequence into samples\n",
        "# def split_sequence(sequence, n_steps):\n",
        "# \tX, y = list(), list()\n",
        "# \tfor i in range(len(sequence)):\n",
        "# \t\t# find the end of this pattern\n",
        "# \t\tend_ix = i + n_steps\n",
        "# \t\t# check if we are beyond the sequence\n",
        "# \t\tif end_ix > len(sequence)-1:\n",
        "# \t\t\tbreak\n",
        "# \t\t# gather input and output parts of the pattern\n",
        "# \t\tseq_x, seq_y = sequence[i:end_ix], sequence[end_ix]\n",
        "    \n",
        "# \t\tX.append(seq_x)\n",
        "# \t\ty.append(seq_y)\n",
        "# \treturn array(X), array(y)\n",
        " \n",
        "# # define input sequence\n",
        "# raw_seq = [10, 20, 30, 40, 50, 60, 70, 80, 90]\n",
        "# # choose a number of time steps\n",
        "# n_steps = 3\n",
        "# # split into samples\n",
        "# X, y = split_sequence(raw_seq, n_steps)\n",
        "\n",
        "# # reshape from [samples, timesteps] into [samples, timesteps, features]\n",
        "# n_features = 1\n",
        "# print('++++++++++++++++++++++++++++++++++++++++++++++++')\n",
        "# print(X.shape)\n",
        "# X = X.reshape((X.shape[0], X.shape[1], n_features))\n",
        "# print(X.ndim)\n",
        "# # define model\n",
        "# model = Sequential()\n",
        "# model.add(LSTM(50, activation='relu', input_shape=(n_steps, n_features)))\n",
        "# model.add(Dense(1))\n",
        "# model.compile(optimizer='adam', loss='mse')\n",
        "# # fit model\n",
        "# model.fit(X, y, epochs=200, verbose=0)\n",
        "# # demonstrate prediction\n",
        "# x_input = array([70, 80, 90])\n",
        "# x_input = x_input.reshape((1, n_steps, n_features))\n",
        "# yhat = model.predict(x_input, verbose=0)\n",
        "# print(yhat)"
      ],
      "metadata": {
        "application/vnd.databricks.v1+cell": {
          "title": "",
          "showTitle": false,
          "inputWidgets": {},
          "nuid": "691456b4-64dd-42bd-b51e-2f2e22fefcfc"
        },
        "id": "lkt9oSILQhgZ"
      },
      "outputs": [],
      "execution_count": 17
    },
    {
      "cell_type": "code",
      "source": [
        "from sklearn.cluster import AgglomerativeClustering"
      ],
      "metadata": {
        "id": "YwYqr5xuWj84"
      },
      "execution_count": 18,
      "outputs": []
    },
    {
      "cell_type": "code",
      "source": [
        "import scipy.cluster.hierarchy as shc\n",
        "from matplotlib import pyplot\n",
        "pyplot.figure(figsize=(10, 7))  \n",
        "pyplot.title(\"Dendrograms\")  \n",
        "df_dend = df_final.drop(['mag'],axis=1) \n",
        "dend = shc.dendrogram(shc.linkage(df_dend, method='ward'))"
      ],
      "metadata": {
        "id": "ECs_4L7Q_8nu",
        "colab": {
          "base_uri": "https://localhost:8080/",
          "height": 447
        },
        "outputId": "b38acd28-75e2-432c-b4ce-b67adf17050c"
      },
      "execution_count": 21,
      "outputs": [
        {
          "output_type": "display_data",
          "data": {
            "text/plain": [
              "<Figure size 720x504 with 1 Axes>"
            ],
            "image/png": "[encoded data removed]"
          },
          "metadata": {
            "needs_background": "light"
          }
        }
      ]
    },
    {
      "cell_type": "code",
      "source": [
        "cluster = AgglomerativeClustering(n_clusters=4).fit(df_dend)\n",
        "df_dend['labels'] = cluster.labels_"
      ],
      "metadata": {
        "id": "foumK4dV-1lG"
      },
      "execution_count": 24,
      "outputs": []
    },
    {
      "cell_type": "code",
      "source": [],
      "metadata": {
        "id": "j8zhMVjdVGAS"
      },
      "execution_count": null,
      "outputs": []
    }
  ],
  "metadata": {
    "application/vnd.databricks.v1+notebook": {
      "notebookName": "earthquake",
      "dashboards": [],
      "notebookMetadata": {
        "pythonIndentUnit": 2
      },
      "language": "python",
      "widgets": {},
      "notebookOrigID": 3669214884002908
    },
    "colab": {
      "provenance": [],
      "collapsed_sections": [],
      "include_colab_link": true
    },
    "language_info": {
      "name": "python"
    },
    "kernelspec": {
      "name": "python3",
      "display_name": "Python 3"
    }
  },
  "nbformat": 4,
  "nbformat_minor": 0
}