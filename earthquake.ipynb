{
  "cells": [
    {
      "cell_type": "markdown",
      "metadata": {
        "id": "view-in-github",
        "colab_type": "text"
      },
      "source": [
        "<a href=\"https://colab.research.google.com/github/someshkr/Geo-Copula/blob/main/earthquake.ipynb\" target=\"_parent\"><img src=\"https://colab.research.google.com/assets/colab-badge.svg\" alt=\"Open In Colab\"/></a>"
      ]
    },
    {
      "cell_type": "code",
      "source": [
        "from google.colab import drive\n",
        "drive.mount('/content/drive',force_remount=True)"
      ],
      "metadata": {
        "colab": {
          "base_uri": "https://localhost:8080/"
        },
        "id": "dZ8ieBCoFams",
        "outputId": "ab15fcc6-6cba-4164-8f82-a1a9624b5c21"
      },
      "execution_count": 3,
      "outputs": [
        {
          "output_type": "stream",
          "name": "stdout",
          "text": [
            "Mounted at /content/drive\n"
          ]
        }
      ]
    },
    {
      "cell_type": "code",
      "source": [
        "!pip install geopy\n",
        "!pip install geopandas\n",
        "!pip install shapely\n",
        "!pip install fiona\n",
        "!pip install pyproj \n",
        "!pip install rtree\n",
        "!pip install cartopy"
      ],
      "metadata": {
        "application/vnd.databricks.v1+cell": {
          "title": "",
          "showTitle": false,
          "inputWidgets": {},
          "nuid": "645d555f-c809-478a-8a4d-aa09bdde835e"
        },
        "colab": {
          "base_uri": "https://localhost:8080/"
        },
        "id": "_BIY_g4CQhfm",
        "outputId": "d507b31b-c403-4fba-f9e1-d003d07bfd30"
      },
      "outputs": [
        {
          "output_type": "stream",
          "name": "stdout",
          "text": [
            "Looking in indexes: https://pypi.org/simple, https://us-python.pkg.dev/colab-wheels/public/simple/\n",
            "Requirement already satisfied: geopy in /usr/local/lib/python3.7/dist-packages (1.17.0)\n",
            "Requirement already satisfied: geographiclib<2,>=1.49 in /usr/local/lib/python3.7/dist-packages (from geopy) (1.52)\n",
            "Looking in indexes: https://pypi.org/simple, https://us-python.pkg.dev/colab-wheels/public/simple/\n",
            "Collecting geopandas\n",
            "  Downloading geopandas-0.10.2-py2.py3-none-any.whl (1.0 MB)\n",
            "\u001b[K     |████████████████████████████████| 1.0 MB 5.3 MB/s \n",
            "\u001b[?25hCollecting pyproj>=2.2.0\n",
            "  Downloading pyproj-3.2.1-cp37-cp37m-manylinux2010_x86_64.whl (6.3 MB)\n",
            "\u001b[K     |████████████████████████████████| 6.3 MB 38.3 MB/s \n",
            "\u001b[?25hRequirement already satisfied: pandas>=0.25.0 in /usr/local/lib/python3.7/dist-packages (from geopandas) (1.3.5)\n",
            "Collecting fiona>=1.8\n",
            "  Downloading Fiona-1.8.22-cp37-cp37m-manylinux2014_x86_64.whl (16.7 MB)\n",
            "\u001b[K     |████████████████████████████████| 16.7 MB 511 kB/s \n",
            "\u001b[?25hRequirement already satisfied: shapely>=1.6 in /usr/local/lib/python3.7/dist-packages (from geopandas) (1.8.5.post1)\n",
            "Requirement already satisfied: six>=1.7 in /usr/local/lib/python3.7/dist-packages (from fiona>=1.8->geopandas) (1.15.0)\n",
            "Collecting cligj>=0.5\n",
            "  Downloading cligj-0.7.2-py3-none-any.whl (7.1 kB)\n",
            "Collecting click-plugins>=1.0\n",
            "  Downloading click_plugins-1.1.1-py2.py3-none-any.whl (7.5 kB)\n",
            "Requirement already satisfied: click>=4.0 in /usr/local/lib/python3.7/dist-packages (from fiona>=1.8->geopandas) (7.1.2)\n",
            "Requirement already satisfied: setuptools in /usr/local/lib/python3.7/dist-packages (from fiona>=1.8->geopandas) (57.4.0)\n",
            "Collecting munch\n",
            "  Downloading munch-2.5.0-py2.py3-none-any.whl (10 kB)\n",
            "Requirement already satisfied: attrs>=17 in /usr/local/lib/python3.7/dist-packages (from fiona>=1.8->geopandas) (22.1.0)\n",
            "Requirement already satisfied: certifi in /usr/local/lib/python3.7/dist-packages (from fiona>=1.8->geopandas) (2022.9.24)\n",
            "Requirement already satisfied: pytz>=2017.3 in /usr/local/lib/python3.7/dist-packages (from pandas>=0.25.0->geopandas) (2022.5)\n",
            "Requirement already satisfied: python-dateutil>=2.7.3 in /usr/local/lib/python3.7/dist-packages (from pandas>=0.25.0->geopandas) (2.8.2)\n",
            "Requirement already satisfied: numpy>=1.17.3 in /usr/local/lib/python3.7/dist-packages (from pandas>=0.25.0->geopandas) (1.21.6)\n",
            "Installing collected packages: munch, cligj, click-plugins, pyproj, fiona, geopandas\n",
            "Successfully installed click-plugins-1.1.1 cligj-0.7.2 fiona-1.8.22 geopandas-0.10.2 munch-2.5.0 pyproj-3.2.1\n",
            "Looking in indexes: https://pypi.org/simple, https://us-python.pkg.dev/colab-wheels/public/simple/\n",
            "Requirement already satisfied: shapely in /usr/local/lib/python3.7/dist-packages (1.8.5.post1)\n",
            "Looking in indexes: https://pypi.org/simple, https://us-python.pkg.dev/colab-wheels/public/simple/\n",
            "Requirement already satisfied: fiona in /usr/local/lib/python3.7/dist-packages (1.8.22)\n",
            "Requirement already satisfied: cligj>=0.5 in /usr/local/lib/python3.7/dist-packages (from fiona) (0.7.2)\n",
            "Requirement already satisfied: click-plugins>=1.0 in /usr/local/lib/python3.7/dist-packages (from fiona) (1.1.1)\n",
            "Requirement already satisfied: setuptools in /usr/local/lib/python3.7/dist-packages (from fiona) (57.4.0)\n",
            "Requirement already satisfied: attrs>=17 in /usr/local/lib/python3.7/dist-packages (from fiona) (22.1.0)\n",
            "Requirement already satisfied: click>=4.0 in /usr/local/lib/python3.7/dist-packages (from fiona) (7.1.2)\n",
            "Requirement already satisfied: munch in /usr/local/lib/python3.7/dist-packages (from fiona) (2.5.0)\n",
            "Requirement already satisfied: six>=1.7 in /usr/local/lib/python3.7/dist-packages (from fiona) (1.15.0)\n",
            "Requirement already satisfied: certifi in /usr/local/lib/python3.7/dist-packages (from fiona) (2022.9.24)\n",
            "Looking in indexes: https://pypi.org/simple, https://us-python.pkg.dev/colab-wheels/public/simple/\n",
            "Requirement already satisfied: pyproj in /usr/local/lib/python3.7/dist-packages (3.2.1)\n",
            "Requirement already satisfied: certifi in /usr/local/lib/python3.7/dist-packages (from pyproj) (2022.9.24)\n",
            "Looking in indexes: https://pypi.org/simple, https://us-python.pkg.dev/colab-wheels/public/simple/\n",
            "Collecting rtree\n",
            "  Downloading Rtree-1.0.1-cp37-cp37m-manylinux_2_17_x86_64.manylinux2014_x86_64.whl (1.0 MB)\n",
            "\u001b[K     |████████████████████████████████| 1.0 MB 5.1 MB/s \n",
            "\u001b[?25hRequirement already satisfied: typing-extensions>=3.7 in /usr/local/lib/python3.7/dist-packages (from rtree) (4.1.1)\n",
            "Installing collected packages: rtree\n",
            "Successfully installed rtree-1.0.1\n",
            "Looking in indexes: https://pypi.org/simple, https://us-python.pkg.dev/colab-wheels/public/simple/\n",
            "Collecting cartopy\n",
            "  Downloading Cartopy-0.20.3.tar.gz (10.8 MB)\n",
            "\u001b[K     |████████████████████████████████| 10.8 MB 5.1 MB/s \n",
            "\u001b[?25h  Installing build dependencies ... \u001b[?25l\u001b[?25hdone\n",
            "  Getting requirements to build wheel ... \u001b[?25l\u001b[?25herror\n",
            "\u001b[33mWARNING: Discarding https://files.pythonhosted.org/packages/98/a9/0e4000eabadfcff6373c0fec790863b543b919cbfec18aed60d71ba67d5d/Cartopy-0.20.3.tar.gz#sha256=0d60fa2e2fbd77c4d1f6b1f9d3b588966147f07c1b179d2d34570ac1e1b49006 (from https://pypi.org/simple/cartopy/) (requires-python:>=3.7). Command errored out with exit status 1: /usr/bin/python3 /usr/local/lib/python3.7/dist-packages/pip/_vendor/pep517/in_process/_in_process.py get_requires_for_build_wheel /tmp/tmpvmbvqukp Check the logs for full command output.\u001b[0m\n",
            "  Downloading Cartopy-0.20.2.tar.gz (10.8 MB)\n",
            "\u001b[K     |████████████████████████████████| 10.8 MB 39.5 MB/s \n",
            "\u001b[?25h  Installing build dependencies ... \u001b[?25l\u001b[?25hdone\n",
            "  Getting requirements to build wheel ... \u001b[?25l\u001b[?25herror\n",
            "\u001b[33mWARNING: Discarding https://files.pythonhosted.org/packages/f6/55/1e1c737dc9436b320deead73d1c455ddbb74b8b6992081863492f6f6378a/Cartopy-0.20.2.tar.gz#sha256=4d08c198ecaa50a6a6b109d0f14c070e813defc046a83ac5d7ab494f85599e35 (from https://pypi.org/simple/cartopy/) (requires-python:>=3.7). Command errored out with exit status 1: /usr/bin/python3 /usr/local/lib/python3.7/dist-packages/pip/_vendor/pep517/in_process/_in_process.py get_requires_for_build_wheel /tmp/tmp7pm1flhd Check the logs for full command output.\u001b[0m\n",
            "  Downloading Cartopy-0.20.1.tar.gz (10.8 MB)\n",
            "\u001b[K     |████████████████████████████████| 10.8 MB 40.2 MB/s \n",
            "\u001b[?25h  Installing build dependencies ... \u001b[?25l\u001b[?25hdone\n",
            "  Getting requirements to build wheel ... \u001b[?25l\u001b[?25herror\n",
            "\u001b[33mWARNING: Discarding https://files.pythonhosted.org/packages/fc/59/aa52698e3838f4cd0e7eaa75bd86837e9e0b05041dbdaee3cda2fffced06/Cartopy-0.20.1.tar.gz#sha256=91f87b130e2574547a20cd634498df97d797abd12dcfd0235bc0cdbcec8b05e3 (from https://pypi.org/simple/cartopy/) (requires-python:>=3.7). Command errored out with exit status 1: /usr/bin/python3 /usr/local/lib/python3.7/dist-packages/pip/_vendor/pep517/in_process/_in_process.py get_requires_for_build_wheel /tmp/tmppga21qbu Check the logs for full command output.\u001b[0m\n",
            "  Downloading Cartopy-0.20.0.tar.gz (10.8 MB)\n",
            "\u001b[K     |████████████████████████████████| 10.8 MB 42.3 MB/s \n",
            "\u001b[?25h  Installing build dependencies ... \u001b[?25l\u001b[?25hdone\n",
            "  Getting requirements to build wheel ... \u001b[?25l\u001b[?25herror\n",
            "\u001b[33mWARNING: Discarding https://files.pythonhosted.org/packages/0f/c0/58453b036e79046d211f083880d58dcce787e7e07647ac25dc46c6555099/Cartopy-0.20.0.tar.gz#sha256=eae58aff26806e63cf115b2bce9477cedc4aa9f578c5e477b2c25cfa404f2b7a (from https://pypi.org/simple/cartopy/) (requires-python:>=3.7). Command errored out with exit status 1: /usr/bin/python3 /usr/local/lib/python3.7/dist-packages/pip/_vendor/pep517/in_process/_in_process.py get_requires_for_build_wheel /tmp/tmpfmrfbv5c Check the logs for full command output.\u001b[0m\n",
            "  Downloading Cartopy-0.19.0.post1.tar.gz (12.1 MB)\n",
            "\u001b[K     |████████████████████████████████| 12.1 MB 50.5 MB/s \n",
            "\u001b[?25h  Installing build dependencies ... \u001b[?25l\u001b[?25hdone\n",
            "  Getting requirements to build wheel ... \u001b[?25l\u001b[?25hdone\n",
            "    Preparing wheel metadata ... \u001b[?25l\u001b[?25hdone\n",
            "Collecting pyshp>=2\n",
            "  Downloading pyshp-2.3.1-py2.py3-none-any.whl (46 kB)\n",
            "\u001b[K     |████████████████████████████████| 46 kB 4.3 MB/s \n",
            "\u001b[?25hRequirement already satisfied: shapely>=1.5.6 in /usr/local/lib/python3.7/dist-packages (from cartopy) (1.8.5.post1)\n",
            "Requirement already satisfied: numpy>=1.13.3 in /usr/local/lib/python3.7/dist-packages (from cartopy) (1.21.6)\n",
            "Building wheels for collected packages: cartopy\n",
            "  Building wheel for cartopy (PEP 517) ... \u001b[?25l\u001b[?25hdone\n",
            "  Created wheel for cartopy: filename=Cartopy-0.19.0.post1-cp37-cp37m-linux_x86_64.whl size=12516302 sha256=399c104946e109465a954e3dde79e1a83a2babeb7cb97e9c2505f75c9c30606e\n",
            "  Stored in directory: /root/.cache/pip/wheels/98/01/f7/bd10aeb96fe4b518cde5f7c4f5e12c7202f85b7353a5017847\n",
            "Successfully built cartopy\n",
            "Installing collected packages: pyshp, cartopy\n",
            "Successfully installed cartopy-0.19.0.post1 pyshp-2.3.1\n"
          ]
        }
      ],
      "execution_count": 4
    },
    {
      "cell_type": "markdown",
      "source": [
        "\n",
        "**Importing the libraries**"
      ],
      "metadata": {
        "id": "-V-HQIVUmDdd"
      }
    },
    {
      "cell_type": "code",
      "source": [
        "import tensorflow as tf\n",
        "import numpy as np\n",
        "np.set_printoptions(threshold=np.inf)\n",
        "import matplotlib.pyplot as plt\n",
        "import pandas as pd\n",
        "pd.set_option('display.max_columns', None)\n",
        "pd.set_option('display.max_rows', None)\n",
        "import math\n",
        "from keras.models import Sequential\n",
        "from keras.layers import LSTM, Bidirectional, Dense\n",
        "\n",
        "from keras.layers import Flatten\n",
        "from keras.layers import TimeDistributed\n",
        "from keras.layers.convolutional import Conv1D\n",
        "from keras.layers.convolutional import MaxPooling1D\n",
        "from keras.layers import ConvLSTM2D\n",
        "\n",
        "from shapely.geometry import Point\n",
        "import geopandas as gpd\n",
        "from geopandas import GeoDataFrame\n",
        "import rtree\n",
        "import shapely\n",
        "import fiona\n",
        "import pyproj\n"
      ],
      "metadata": {
        "application/vnd.databricks.v1+cell": {
          "title": "",
          "showTitle": false,
          "inputWidgets": {},
          "nuid": "db233d17-92ad-4c2a-b508-2a6c376e2f63"
        },
        "id": "eiHpLnk2QhgD"
      },
      "outputs": [],
      "execution_count": 5
    },
    {
      "cell_type": "code",
      "source": [
        "# df = pd.read_excel(\"/content/query.xlsx\")\n",
        "\n",
        "df = pd.read_excel(\"/content/drive/MyDrive/geocopula/query.xlsx\")\n",
        "# df = pd.read_csv(\"/dbfs/FileStore/data/Indian_earthquake_data.csv\")\n",
        "df['time'] = pd.to_datetime(df['time'],utc=True)\n",
        "df = df[['time','latitude','longitude','depth','mag']]\n",
        "df = df.sort_values(by='time',ascending=True)\n",
        "df.head()"
      ],
      "metadata": {
        "application/vnd.databricks.v1+cell": {
          "title": "",
          "showTitle": false,
          "inputWidgets": {},
          "nuid": "6ae1ef6c-6f4a-44b0-8b5f-bd1001405bbf"
        },
        "colab": {
          "base_uri": "https://localhost:8080/",
          "height": 206
        },
        "id": "U57FrCEBQhgF",
        "outputId": "d1d6568e-f250-401b-ef01-73cec6c78711"
      },
      "outputs": [
        {
          "output_type": "execute_result",
          "data": {
            "text/plain": [
              "                                  time  latitude  longitude  depth  mag\n",
              "17836 2000-09-17 05:18:04.270000+00:00    38.006    140.670  105.1  4.5\n",
              "17835 2000-09-17 21:04:24.900000+00:00    30.257    138.392  445.6  4.3\n",
              "17834 2000-09-21 22:43:24.770000+00:00    35.811    140.837   45.2  4.8\n",
              "17833 2000-09-23 17:42:10.600000+00:00    41.444    142.217   63.9  4.3\n",
              "17832 2000-09-25 16:22:01.020000+00:00    32.167    142.461   33.0  4.1"
            ],
            "text/html": [
              "\n",
              "  <div id=\"df-1ca35827-1be1-4c9f-94cf-1abbee2355dc\">\n",
              "    <div class=\"colab-df-container\">\n",
              "      <div>\n",
              "<style scoped>\n",
              "    .dataframe tbody tr th:only-of-type {\n",
              "        vertical-align: middle;\n",
              "    }\n",
              "\n",
              "    .dataframe tbody tr th {\n",
              "        vertical-align: top;\n",
              "    }\n",
              "\n",
              "    .dataframe thead th {\n",
              "        text-align: right;\n",
              "    }\n",
              "</style>\n",
              "<table border=\"1\" class=\"dataframe\">\n",
              "  <thead>\n",
              "    <tr style=\"text-align: right;\">\n",
              "      <th></th>\n",
              "      <th>time</th>\n",
              "      <th>latitude</th>\n",
              "      <th>longitude</th>\n",
              "      <th>depth</th>\n",
              "      <th>mag</th>\n",
              "    </tr>\n",
              "  </thead>\n",
              "  <tbody>\n",
              "    <tr>\n",
              "      <th>17836</th>\n",
              "      <td>2000-09-17 05:18:04.270000+00:00</td>\n",
              "      <td>38.006</td>\n",
              "      <td>140.670</td>\n",
              "      <td>105.1</td>\n",
              "      <td>4.5</td>\n",
              "    </tr>\n",
              "    <tr>\n",
              "      <th>17835</th>\n",
              "      <td>2000-09-17 21:04:24.900000+00:00</td>\n",
              "      <td>30.257</td>\n",
              "      <td>138.392</td>\n",
              "      <td>445.6</td>\n",
              "      <td>4.3</td>\n",
              "    </tr>\n",
              "    <tr>\n",
              "      <th>17834</th>\n",
              "      <td>2000-09-21 22:43:24.770000+00:00</td>\n",
              "      <td>35.811</td>\n",
              "      <td>140.837</td>\n",
              "      <td>45.2</td>\n",
              "      <td>4.8</td>\n",
              "    </tr>\n",
              "    <tr>\n",
              "      <th>17833</th>\n",
              "      <td>2000-09-23 17:42:10.600000+00:00</td>\n",
              "      <td>41.444</td>\n",
              "      <td>142.217</td>\n",
              "      <td>63.9</td>\n",
              "      <td>4.3</td>\n",
              "    </tr>\n",
              "    <tr>\n",
              "      <th>17832</th>\n",
              "      <td>2000-09-25 16:22:01.020000+00:00</td>\n",
              "      <td>32.167</td>\n",
              "      <td>142.461</td>\n",
              "      <td>33.0</td>\n",
              "      <td>4.1</td>\n",
              "    </tr>\n",
              "  </tbody>\n",
              "</table>\n",
              "</div>\n",
              "      <button class=\"colab-df-convert\" onclick=\"convertToInteractive('df-1ca35827-1be1-4c9f-94cf-1abbee2355dc')\"\n",
              "              title=\"Convert this dataframe to an interactive table.\"\n",
              "              style=\"display:none;\">\n",
              "        \n",
              "  <svg xmlns=\"http://www.w3.org/2000/svg\" height=\"24px\"viewBox=\"0 0 24 24\"\n",
              "       width=\"24px\">\n",
              "    <path d=\"M0 0h24v24H0V0z\" fill=\"none\"/>\n",
              "    <path d=\"M18.56 5.44l.94 2.06.94-2.06 2.06-.94-2.06-.94-.94-2.06-.94 2.06-2.06.94zm-11 1L8.5 8.5l.94-2.06 2.06-.94-2.06-.94L8.5 2.5l-.94 2.06-2.06.94zm10 10l.94 2.06.94-2.06 2.06-.94-2.06-.94-.94-2.06-.94 2.06-2.06.94z\"/><path d=\"M17.41 7.96l-1.37-1.37c-.4-.4-.92-.59-1.43-.59-.52 0-1.04.2-1.43.59L10.3 9.45l-7.72 7.72c-.78.78-.78 2.05 0 2.83L4 21.41c.39.39.9.59 1.41.59.51 0 1.02-.2 1.41-.59l7.78-7.78 2.81-2.81c.8-.78.8-2.07 0-2.86zM5.41 20L4 18.59l7.72-7.72 1.47 1.35L5.41 20z\"/>\n",
              "  </svg>\n",
              "      </button>\n",
              "      \n",
              "  <style>\n",
              "    .colab-df-container {\n",
              "      display:flex;\n",
              "      flex-wrap:wrap;\n",
              "      gap: 12px;\n",
              "    }\n",
              "\n",
              "    .colab-df-convert {\n",
              "      background-color: #E8F0FE;\n",
              "      border: none;\n",
              "      border-radius: 50%;\n",
              "      cursor: pointer;\n",
              "      display: none;\n",
              "      fill: #1967D2;\n",
              "      height: 32px;\n",
              "      padding: 0 0 0 0;\n",
              "      width: 32px;\n",
              "    }\n",
              "\n",
              "    .colab-df-convert:hover {\n",
              "      background-color: #E2EBFA;\n",
              "      box-shadow: 0px 1px 2px rgba(60, 64, 67, 0.3), 0px 1px 3px 1px rgba(60, 64, 67, 0.15);\n",
              "      fill: #174EA6;\n",
              "    }\n",
              "\n",
              "    [theme=dark] .colab-df-convert {\n",
              "      background-color: #3B4455;\n",
              "      fill: #D2E3FC;\n",
              "    }\n",
              "\n",
              "    [theme=dark] .colab-df-convert:hover {\n",
              "      background-color: #434B5C;\n",
              "      box-shadow: 0px 1px 3px 1px rgba(0, 0, 0, 0.15);\n",
              "      filter: drop-shadow(0px 1px 2px rgba(0, 0, 0, 0.3));\n",
              "      fill: #FFFFFF;\n",
              "    }\n",
              "  </style>\n",
              "\n",
              "      <script>\n",
              "        const buttonEl =\n",
              "          document.querySelector('#df-1ca35827-1be1-4c9f-94cf-1abbee2355dc button.colab-df-convert');\n",
              "        buttonEl.style.display =\n",
              "          google.colab.kernel.accessAllowed ? 'block' : 'none';\n",
              "\n",
              "        async function convertToInteractive(key) {\n",
              "          const element = document.querySelector('#df-1ca35827-1be1-4c9f-94cf-1abbee2355dc');\n",
              "          const dataTable =\n",
              "            await google.colab.kernel.invokeFunction('convertToInteractive',\n",
              "                                                     [key], {});\n",
              "          if (!dataTable) return;\n",
              "\n",
              "          const docLinkHtml = 'Like what you see? Visit the ' +\n",
              "            '<a target=\"_blank\" href=https://colab.research.google.com/notebooks/data_table.ipynb>data table notebook</a>'\n",
              "            + ' to learn more about interactive tables.';\n",
              "          element.innerHTML = '';\n",
              "          dataTable['output_type'] = 'display_data';\n",
              "          await google.colab.output.renderOutput(dataTable, element);\n",
              "          const docLink = document.createElement('div');\n",
              "          docLink.innerHTML = docLinkHtml;\n",
              "          element.appendChild(docLink);\n",
              "        }\n",
              "      </script>\n",
              "    </div>\n",
              "  </div>\n",
              "  "
            ]
          },
          "metadata": {},
          "execution_count": 6
        }
      ],
      "execution_count": 6
    },
    {
      "cell_type": "code",
      "source": [
        "df_train = df.iloc[:12512]\n",
        "df_val = df.iloc[12512:14271]\n",
        "df_test = df.iloc[14271:]\n",
        "df_train = df_train.set_index('time')\n",
        "df_val = df_val.set_index('time')\n",
        "df_test = df_test.set_index('time')"
      ],
      "metadata": {
        "application/vnd.databricks.v1+cell": {
          "title": "",
          "showTitle": false,
          "inputWidgets": {},
          "nuid": "3d490be5-c60b-4662-9b8d-bb13c3c65cb2"
        },
        "id": "en5fvKsjQhgH"
      },
      "outputs": [],
      "execution_count": 96
    },
    {
      "cell_type": "code",
      "source": [
        "x_train,y_train= df_train[['latitude','longitude','depth']],df_train[['mag']]\n",
        "x_test,y_test= df_test[['latitude','longitude','depth']],df_test[['mag']]\n",
        "x_val,y_val  = df_val[['latitude','longitude','depth']],df_val[['mag']]"
      ],
      "metadata": {
        "application/vnd.databricks.v1+cell": {
          "title": "",
          "showTitle": false,
          "inputWidgets": {},
          "nuid": "fa903ca8-3c7b-45c6-8ec1-197b8525ce11"
        },
        "id": "6HamPXFKQhgJ"
      },
      "outputs": [],
      "execution_count": 97
    },
    {
      "cell_type": "code",
      "source": [
        "x_train.shape"
      ],
      "metadata": {
        "colab": {
          "base_uri": "https://localhost:8080/"
        },
        "id": "gf513-gbWBI4",
        "outputId": "7d271639-2a91-4e93-a2d3-4a5f4922e947"
      },
      "execution_count": 98,
      "outputs": [
        {
          "output_type": "execute_result",
          "data": {
            "text/plain": [
              "(12512, 3)"
            ]
          },
          "metadata": {},
          "execution_count": 98
        }
      ]
    },
    {
      "cell_type": "code",
      "source": [
        "batch_size = 32\n",
        "buffer_size = x_train.shape[0]\n",
        "# Provide an infinite dataset\n",
        "x_train = np.array(x_train)\n",
        "x_test = np.array(x_test)\n",
        "x_val = np.array(x_val)\n",
        "\n",
        "x_train = x_train.reshape((x_train.shape[0], x_train.shape[1], 1))\n",
        "x_test = x_test.reshape((x_test.shape[0], x_test.shape[1], 1))\n",
        "x_val = x_val.reshape((x_val.shape[0], x_val.shape[1], 1))\n",
        "train_iterator = tf.data.Dataset.from_tensor_slices((np.array(x_train), np.array(y_train))).shuffle(buffer_size).batch(batch_size).repeat()\n",
        "# Provide an infinite dataset\n",
        "val_iterator = tf.data.Dataset.from_tensor_slices((np.array(x_val), np.array(y_val))).batch(batch_size).repeat()\n",
        "test_iterator = tf.data.Dataset.from_tensor_slices((np.array(x_test), np.array(y_test))).batch(batch_size).repeat()"
      ],
      "metadata": {
        "application/vnd.databricks.v1+cell": {
          "title": "",
          "showTitle": false,
          "inputWidgets": {},
          "nuid": "f3882135-3008-42f5-b0d0-bb6cc021405a"
        },
        "id": "FvzaC2cLQhgL"
      },
      "outputs": [],
      "execution_count": 99
    },
    {
      "cell_type": "code",
      "source": [
        "print(\"x_train shape \",x_train.shape)\n",
        "print(\"x_test shape \",x_test.shape)\n",
        "print(\"x_val shape \",x_val.shape)\n",
        "print(\"y_train shape \",y_train.shape)\n",
        "print(\"y_test shape \",y_test.shape)\n",
        "print(\"y_val shape \",y_val.shape)\n",
        "print(val_iterator)\n",
        "print(test_iterator)"
      ],
      "metadata": {
        "colab": {
          "base_uri": "https://localhost:8080/"
        },
        "id": "l3wO8otiUODE",
        "outputId": "bb0c0945-fa48-4f30-9f01-242b3cf1f2fe"
      },
      "execution_count": 100,
      "outputs": [
        {
          "output_type": "stream",
          "name": "stdout",
          "text": [
            "x_train shape  (12512, 3, 1)\n",
            "x_test shape  (3566, 3, 1)\n",
            "x_val shape  (1759, 3, 1)\n",
            "y_train shape  (12512, 1)\n",
            "y_test shape  (3566, 1)\n",
            "y_val shape  (1759, 1)\n",
            "<RepeatDataset element_spec=(TensorSpec(shape=(None, 3, 1), dtype=tf.float64, name=None), TensorSpec(shape=(None, 1), dtype=tf.float64, name=None))>\n",
            "<RepeatDataset element_spec=(TensorSpec(shape=(None, 3, 1), dtype=tf.float64, name=None), TensorSpec(shape=(None, 1), dtype=tf.float64, name=None))>\n"
          ]
        }
      ]
    },
    {
      "cell_type": "markdown",
      "source": [
        "# **Bi-directional LSTM**"
      ],
      "metadata": {
        "id": "5aXPzsseOFu-"
      }
    },
    {
      "cell_type": "code",
      "source": [
        "n_steps = x_train.shape[-2]\n",
        "n_features = x_train.shape[-1]\n",
        "# Define the model\n",
        "model = Sequential()\n",
        "model.add(tf.keras.layers.Bidirectional(tf.keras.layers.LSTM(64)))\n",
        "#model.add(tf.keras.layers.Reshape((128, 1), input_shape = (128, )))\n",
        "model.add(tf.keras.layers.Dense(64, activation='relu'))\n",
        "model.add(Dense(1))\n",
        "# Compile the model\n",
        "model.compile(optimizer='adam', loss='mse')"
      ],
      "metadata": {
        "application/vnd.databricks.v1+cell": {
          "title": "",
          "showTitle": false,
          "inputWidgets": {},
          "nuid": "a4675db9-ff50-4d68-b61f-7c4a6b3d844e"
        },
        "id": "-S-2FOXaQhgQ"
      },
      "outputs": [],
      "execution_count": 101
    },
    {
      "cell_type": "code",
      "source": [
        "n_steps,n_features"
      ],
      "metadata": {
        "application/vnd.databricks.v1+cell": {
          "title": "",
          "showTitle": false,
          "inputWidgets": {},
          "nuid": "a1b4b186-5566-4c47-8a87-d7a4f573c52e"
        },
        "colab": {
          "base_uri": "https://localhost:8080/"
        },
        "id": "cfrBatycQhgN",
        "outputId": "7f0f4d27-37a2-4d40-af4f-dd86c209f92c"
      },
      "outputs": [
        {
          "output_type": "execute_result",
          "data": {
            "text/plain": [
              "(3, 1)"
            ]
          },
          "metadata": {},
          "execution_count": 102
        }
      ],
      "execution_count": 102
    },
    {
      "cell_type": "code",
      "source": [
        "# train_iterator\n",
        "# X = X.reshape((X.shape[0], X.shape[1], n_features))"
      ],
      "metadata": {
        "application/vnd.databricks.v1+cell": {
          "title": "",
          "showTitle": false,
          "inputWidgets": {},
          "nuid": "8980569c-d574-4d26-876c-d48dc36923e6"
        },
        "id": "74owTneAQhgU"
      },
      "outputs": [],
      "execution_count": 103
    },
    {
      "cell_type": "code",
      "source": [
        "epochs = 10\n",
        "steps_per_epoch = 800\n",
        "validation_steps = 80\n",
        "# Train with an infinite dataset\n",
        "history = model.fit(train_iterator, epochs=epochs,\n",
        "                    steps_per_epoch=steps_per_epoch,\n",
        "                    validation_data=val_iterator,\n",
        "                    validation_steps=validation_steps)\n",
        "print('=======================')\n",
        "model.summary()"
      ],
      "metadata": {
        "colab": {
          "base_uri": "https://localhost:8080/"
        },
        "id": "JBtl9RtZa_yE",
        "outputId": "e0c72228-ead6-4c68-9dd9-325bee9b0ff7"
      },
      "execution_count": 104,
      "outputs": [
        {
          "output_type": "stream",
          "name": "stdout",
          "text": [
            "Epoch 1/10\n",
            "800/800 [==============================] - 11s 8ms/step - loss: 0.4869 - val_loss: 0.1368\n",
            "Epoch 2/10\n",
            "800/800 [==============================] - 5s 7ms/step - loss: 0.2335 - val_loss: 0.1375\n",
            "Epoch 3/10\n",
            "800/800 [==============================] - 5s 7ms/step - loss: 0.2335 - val_loss: 0.1542\n",
            "Epoch 4/10\n",
            "800/800 [==============================] - 5s 6ms/step - loss: 0.2333 - val_loss: 0.1403\n",
            "Epoch 5/10\n",
            "800/800 [==============================] - 5s 6ms/step - loss: 0.2361 - val_loss: 0.1633\n",
            "Epoch 6/10\n",
            "800/800 [==============================] - 5s 6ms/step - loss: 0.2329 - val_loss: 0.1412\n",
            "Epoch 7/10\n",
            "800/800 [==============================] - 5s 6ms/step - loss: 0.2322 - val_loss: 0.1521\n",
            "Epoch 8/10\n",
            "800/800 [==============================] - 5s 6ms/step - loss: 0.2334 - val_loss: 0.1421\n",
            "Epoch 9/10\n",
            "800/800 [==============================] - 5s 6ms/step - loss: 0.2312 - val_loss: 0.1677\n",
            "Epoch 10/10\n",
            "800/800 [==============================] - 5s 6ms/step - loss: 0.2311 - val_loss: 0.1357\n",
            "=======================\n",
            "Model: \"sequential_3\"\n",
            "_________________________________________________________________\n",
            " Layer (type)                Output Shape              Param #   \n",
            "=================================================================\n",
            " bidirectional_1 (Bidirectio  (None, 128)              33792     \n",
            " nal)                                                            \n",
            "                                                                 \n",
            " dense_4 (Dense)             (None, 64)                8256      \n",
            "                                                                 \n",
            " dense_5 (Dense)             (None, 1)                 65        \n",
            "                                                                 \n",
            "=================================================================\n",
            "Total params: 42,113\n",
            "Trainable params: 42,113\n",
            "Non-trainable params: 0\n",
            "_________________________________________________________________\n"
          ]
        }
      ]
    },
    {
      "cell_type": "code",
      "source": [
        "len(model.predict(np.array(x_test)).reshape(-1))"
      ],
      "metadata": {
        "colab": {
          "base_uri": "https://localhost:8080/"
        },
        "id": "OVlSPY8wHMUg",
        "outputId": "ba97b96b-5eda-42e0-ab5d-5079b7b55d01"
      },
      "execution_count": 105,
      "outputs": [
        {
          "output_type": "stream",
          "name": "stdout",
          "text": [
            "112/112 [==============================] - 1s 2ms/step\n"
          ]
        },
        {
          "output_type": "execute_result",
          "data": {
            "text/plain": [
              "3566"
            ]
          },
          "metadata": {},
          "execution_count": 105
        }
      ]
    },
    {
      "cell_type": "code",
      "source": [
        "x_test.shape"
      ],
      "metadata": {
        "colab": {
          "base_uri": "https://localhost:8080/"
        },
        "id": "1oGGTlhmHMRm",
        "outputId": "d20b79bf-14ab-4966-8c10-679b404df294"
      },
      "execution_count": 106,
      "outputs": [
        {
          "output_type": "execute_result",
          "data": {
            "text/plain": [
              "(3566, 3, 1)"
            ]
          },
          "metadata": {},
          "execution_count": 106
        }
      ]
    },
    {
      "cell_type": "code",
      "source": [
        "df_final = df_test.copy()\n",
        "df_final['yhat']=model.predict(np.array(x_test)).reshape(-1)"
      ],
      "metadata": {
        "colab": {
          "base_uri": "https://localhost:8080/"
        },
        "id": "fD2JPsr4HL_5",
        "outputId": "fc09064f-1644-4745-8fd8-4b6f1c59b0c8"
      },
      "execution_count": 107,
      "outputs": [
        {
          "output_type": "stream",
          "name": "stdout",
          "text": [
            "112/112 [==============================] - 0s 2ms/step\n"
          ]
        }
      ]
    },
    {
      "cell_type": "code",
      "source": [],
      "metadata": {
        "id": "iOx5aAfnIhWT"
      },
      "execution_count": 107,
      "outputs": []
    },
    {
      "cell_type": "code",
      "source": [],
      "metadata": {
        "id": "yw9bFACqIhSs"
      },
      "execution_count": 107,
      "outputs": []
    },
    {
      "cell_type": "code",
      "source": [],
      "metadata": {
        "id": "eyVaH9y3IhJb"
      },
      "execution_count": 107,
      "outputs": []
    },
    {
      "cell_type": "markdown",
      "source": [
        "# **CNN LSTM**"
      ],
      "metadata": {
        "id": "l2KQW8p6OQfI"
      }
    },
    {
      "cell_type": "code",
      "source": [
        "x_train,y_train= df_train[['latitude','longitude','depth']],df_train[['mag']]\n",
        "x_test,y_test= df_test[['latitude','longitude','depth']],df_test[['mag']]\n",
        "x_val,y_val  = df_val[['latitude','longitude','depth']],df_val[['mag']]\n",
        "\n",
        "print(x_train.shape)\n",
        "\n",
        "batch_size = 32\n",
        "buffer_size = x_train.shape[0]\n",
        "# Provide an infinite dataset\n",
        "x_train = np.array(x_train)\n",
        "x_test = np.array(x_test)\n",
        "x_val = np.array(x_val)\n",
        "\n",
        "x_train = x_train.reshape((x_train.shape[0],1, x_train.shape[1], 1))\n",
        "x_test = x_test.reshape((x_test.shape[0],1, x_test.shape[1], 1))\n",
        "x_val = x_val.reshape((x_val.shape[0],1, x_val.shape[1], 1))\n",
        "train_iterator = tf.data.Dataset.from_tensor_slices((np.array(x_train), np.array(y_train))).shuffle(buffer_size).batch(batch_size).repeat()\n",
        "# Provide an infinite dataset\n",
        "val_iterator = tf.data.Dataset.from_tensor_slices((np.array(x_val), np.array(y_val))).batch(batch_size).repeat()\n",
        "test_iterator = tf.data.Dataset.from_tensor_slices((np.array(x_test), np.array(y_test))).batch(batch_size).repeat()\n",
        "\n",
        "print(train_iterator)\n",
        "\n"
      ],
      "metadata": {
        "colab": {
          "base_uri": "https://localhost:8080/"
        },
        "id": "ERaZjHv_bxrp",
        "outputId": "55d04904-f7fb-40cf-fa83-ed9aaca0cbbb"
      },
      "execution_count": 108,
      "outputs": [
        {
          "output_type": "stream",
          "name": "stdout",
          "text": [
            "(12512, 3)\n",
            "<RepeatDataset element_spec=(TensorSpec(shape=(None, 1, 3, 1), dtype=tf.float64, name=None), TensorSpec(shape=(None, 1), dtype=tf.float64, name=None))>\n"
          ]
        }
      ]
    },
    {
      "cell_type": "code",
      "source": [
        "n_steps = x_train.shape[-2]\n",
        "n_features = x_train.shape[-1]\n",
        "# Define the model\n",
        "model2 = Sequential()\n",
        "\n",
        "model2.add(TimeDistributed(Conv1D(filters=64, kernel_size=1, activation='relu',input_shape=(None,64,1))))\n",
        "model2.add(TimeDistributed(MaxPooling1D(pool_size=2)))\n",
        "model2.add(TimeDistributed(Flatten()))\n",
        "model2.add(LSTM(10, activation='relu'))\n",
        "model2.add(Dense(1))\n",
        "model2.compile(optimizer='adam', loss='mse')\n",
        "\n",
        "# model.fit(X, y, epochs=500, verbose=0)"
      ],
      "metadata": {
        "id": "0hisT2KrOqfS"
      },
      "execution_count": 109,
      "outputs": []
    },
    {
      "cell_type": "code",
      "source": [
        "print(n_steps,n_features)"
      ],
      "metadata": {
        "colab": {
          "base_uri": "https://localhost:8080/"
        },
        "id": "lL44vHF2T_QF",
        "outputId": "c7e4206d-4663-4cc6-ed47-2375fcff8c00"
      },
      "execution_count": 110,
      "outputs": [
        {
          "output_type": "stream",
          "name": "stdout",
          "text": [
            "3 1\n"
          ]
        }
      ]
    },
    {
      "cell_type": "code",
      "source": [
        "epochs = 5\n",
        "steps_per_epoch = 800\n",
        "validation_steps = 80\n",
        "# Train with an infinite dataset\n",
        "history = model2.fit(train_iterator, epochs=epochs,\n",
        "                    steps_per_epoch=steps_per_epoch,\n",
        "                    validation_data=val_iterator,\n",
        "                    validation_steps=validation_steps)\n",
        "print('=======================')\n",
        "model2.summary()"
      ],
      "metadata": {
        "colab": {
          "base_uri": "https://localhost:8080/"
        },
        "id": "OeC2WuqWQN8d",
        "outputId": "444dc658-713b-401d-b042-b11804df6a54"
      },
      "execution_count": 111,
      "outputs": [
        {
          "output_type": "stream",
          "name": "stdout",
          "text": [
            "Epoch 1/5\n",
            "800/800 [==============================] - 5s 4ms/step - loss: 0.3477 - val_loss: 0.1544\n",
            "Epoch 2/5\n",
            "800/800 [==============================] - 3s 3ms/step - loss: 0.2512 - val_loss: 0.1499\n",
            "Epoch 3/5\n",
            "800/800 [==============================] - 3s 3ms/step - loss: 0.2480 - val_loss: 0.1633\n",
            "Epoch 4/5\n",
            "800/800 [==============================] - 3s 3ms/step - loss: 0.2519 - val_loss: 0.1705\n",
            "Epoch 5/5\n",
            "800/800 [==============================] - 3s 4ms/step - loss: 0.2488 - val_loss: 0.1709\n",
            "=======================\n",
            "Model: \"sequential_4\"\n",
            "_________________________________________________________________\n",
            " Layer (type)                Output Shape              Param #   \n",
            "=================================================================\n",
            " time_distributed_3 (TimeDis  (None, 1, 3, 64)         128       \n",
            " tributed)                                                       \n",
            "                                                                 \n",
            " time_distributed_4 (TimeDis  (None, 1, 1, 64)         0         \n",
            " tributed)                                                       \n",
            "                                                                 \n",
            " time_distributed_5 (TimeDis  (None, 1, 64)            0         \n",
            " tributed)                                                       \n",
            "                                                                 \n",
            " lstm_3 (LSTM)               (None, 10)                3000      \n",
            "                                                                 \n",
            " dense_6 (Dense)             (None, 1)                 11        \n",
            "                                                                 \n",
            "=================================================================\n",
            "Total params: 3,139\n",
            "Trainable params: 3,139\n",
            "Non-trainable params: 0\n",
            "_________________________________________________________________\n"
          ]
        }
      ]
    },
    {
      "cell_type": "code",
      "source": [
        "len(model2.predict(np.array(x_test)).reshape(-1))"
      ],
      "metadata": {
        "colab": {
          "base_uri": "https://localhost:8080/"
        },
        "id": "pxNvXC33Ltgt",
        "outputId": "b907ffbc-088e-4deb-848b-8da24e1c40f5"
      },
      "execution_count": 112,
      "outputs": [
        {
          "output_type": "stream",
          "name": "stdout",
          "text": [
            "112/112 [==============================] - 1s 2ms/step\n"
          ]
        },
        {
          "output_type": "execute_result",
          "data": {
            "text/plain": [
              "3566"
            ]
          },
          "metadata": {},
          "execution_count": 112
        }
      ]
    },
    {
      "cell_type": "code",
      "source": [
        "x_test.shape"
      ],
      "metadata": {
        "colab": {
          "base_uri": "https://localhost:8080/"
        },
        "id": "wBw0_QsyLx50",
        "outputId": "7c69f65b-ca6b-4c2a-fc5e-39ede9d83bf9"
      },
      "execution_count": 113,
      "outputs": [
        {
          "output_type": "execute_result",
          "data": {
            "text/plain": [
              "(3566, 1, 3, 1)"
            ]
          },
          "metadata": {},
          "execution_count": 113
        }
      ]
    },
    {
      "cell_type": "code",
      "source": [
        "df_final2 = df_test.copy()\n",
        "df_final2['yhat']=model2.predict(np.array(x_test)).reshape(-1)"
      ],
      "metadata": {
        "colab": {
          "base_uri": "https://localhost:8080/"
        },
        "id": "nzaWTCgMLx01",
        "outputId": "ec02bf1c-4117-4738-d379-45703427c456"
      },
      "execution_count": 114,
      "outputs": [
        {
          "output_type": "stream",
          "name": "stdout",
          "text": [
            "112/112 [==============================] - 0s 3ms/step\n"
          ]
        }
      ]
    },
    {
      "cell_type": "code",
      "source": [],
      "metadata": {
        "id": "674Z0HCPLxxK"
      },
      "execution_count": 114,
      "outputs": []
    },
    {
      "cell_type": "markdown",
      "source": [
        "# **ConvLSTM**"
      ],
      "metadata": {
        "id": "_PjWcSKiMcM9"
      }
    },
    {
      "cell_type": "code",
      "source": [
        "x_train,y_train= df_train[['latitude','longitude','depth']],df_train[['mag']]\n",
        "x_test,y_test= df_test[['latitude','longitude','depth']],df_test[['mag']]\n",
        "x_val,y_val  = df_val[['latitude','longitude','depth']],df_val[['mag']]\n",
        "\n",
        "print(x_train.shape)\n",
        "\n",
        "batch_size = 32\n",
        "buffer_size = x_train.shape[0]\n",
        "# Provide an infinite dataset\n",
        "x_train = np.array(x_train)\n",
        "x_test = np.array(x_test)\n",
        "x_val = np.array(x_val)\n",
        "\n",
        "x_train = x_train.reshape((x_train.shape[0],1,1, x_train.shape[1], 1))\n",
        "x_test = x_test.reshape((x_test.shape[0],1,1, x_test.shape[1], 1))\n",
        "x_val = x_val.reshape((x_val.shape[0],1,1, x_val.shape[1], 1))\n",
        "train_iterator = tf.data.Dataset.from_tensor_slices((np.array(x_train), np.array(y_train))).shuffle(buffer_size).batch(batch_size).repeat()\n",
        "# Provide an infinite dataset\n",
        "val_iterator = tf.data.Dataset.from_tensor_slices((np.array(x_val), np.array(y_val))).batch(batch_size).repeat()\n",
        "test_iterator = tf.data.Dataset.from_tensor_slices((np.array(x_test), np.array(y_test))).batch(batch_size).repeat()\n",
        "\n",
        "print(train_iterator)\n",
        "\n",
        "'''\n",
        "n_features = 1\n",
        "n_seq = 2\n",
        "n_steps = 2\n",
        "X = X.reshape((X.shape[0], n_seq, 1, n_steps, n_features))\n",
        "\n",
        "X = X.reshape((X.shape[0], 2, 1, x_train.shape[-2], x_train.shape[-1]))\n",
        "\n",
        "n_steps = x_train.shape[-2]\n",
        "n_features = x_train.shape[-1]\n",
        "print(n_steps,n_features)\n",
        "\n",
        "'''\n",
        "\n"
      ],
      "metadata": {
        "colab": {
          "base_uri": "https://localhost:8080/",
          "height": 91
        },
        "id": "ryrahDQSLtdR",
        "outputId": "8b660f66-8872-4cbe-cd9d-bbf40ccdf042"
      },
      "execution_count": 115,
      "outputs": [
        {
          "output_type": "stream",
          "name": "stdout",
          "text": [
            "(12512, 3)\n",
            "<RepeatDataset element_spec=(TensorSpec(shape=(None, 1, 1, 3, 1), dtype=tf.float64, name=None), TensorSpec(shape=(None, 1), dtype=tf.float64, name=None))>\n"
          ]
        },
        {
          "output_type": "execute_result",
          "data": {
            "text/plain": [
              "'\\nn_features = 1\\nn_seq = 2\\nn_steps = 2\\nX = X.reshape((X.shape[0], n_seq, 1, n_steps, n_features))\\n\\nX = X.reshape((X.shape[0], 2, 1, x_train.shape[-2], x_train.shape[-1]))\\n\\nn_steps = x_train.shape[-2]\\nn_features = x_train.shape[-1]\\nprint(n_steps,n_features)\\n\\n'"
            ],
            "application/vnd.google.colaboratory.intrinsic+json": {
              "type": "string"
            }
          },
          "metadata": {},
          "execution_count": 115
        }
      ]
    },
    {
      "cell_type": "code",
      "source": [
        "\n",
        "# define model\n",
        "model3 = Sequential()\n",
        "model3.add(ConvLSTM2D(filters=8, kernel_size=(1,2), activation='relu', input_shape=(1, 1,  x_train.shape[-2], x_train.shape[-1])))\n",
        "model3.add(Flatten())\n",
        "model3.add(Dense(1))\n",
        "model3.compile(optimizer='adam', loss='mse')\n",
        "# # fit model\n",
        "# model.fit(X, y, epochs=500, verbose=0)\n",
        "# # demonstrate prediction\n",
        "# x_input = array([60, 70, 80, 90])\n",
        "# x_input = x_input.reshape((1, n_seq, 1, n_steps, n_features))\n",
        "# yhat = model.predict(x_input, verbose=0)\n",
        "# print(yhat)"
      ],
      "metadata": {
        "id": "IuhKjuhvLtKJ"
      },
      "execution_count": 116,
      "outputs": []
    },
    {
      "cell_type": "code",
      "source": [
        "n_steps = x_train.shape[-2]\n",
        "n_features = x_train.shape[-1]\n",
        "print(n_steps,n_features)"
      ],
      "metadata": {
        "colab": {
          "base_uri": "https://localhost:8080/"
        },
        "id": "GmyIE6O_MWvu",
        "outputId": "e4742554-bd98-4485-c44b-c3e4ddfdf93f"
      },
      "execution_count": 117,
      "outputs": [
        {
          "output_type": "stream",
          "name": "stdout",
          "text": [
            "3 1\n"
          ]
        }
      ]
    },
    {
      "cell_type": "code",
      "source": [
        "epochs = 5\n",
        "steps_per_epoch = 800\n",
        "validation_steps = 80\n",
        "# Train with an infinite dataset\n",
        "history = model3.fit(train_iterator, epochs=epochs,\n",
        "                    steps_per_epoch=steps_per_epoch,\n",
        "                    validation_data=val_iterator,\n",
        "                    validation_steps=validation_steps)\n",
        "print('=======================')\n",
        "model3.summary()"
      ],
      "metadata": {
        "colab": {
          "base_uri": "https://localhost:8080/"
        },
        "id": "hU6hGhp5MWr1",
        "outputId": "a8947dae-2728-4b1d-d922-3091b650dd06"
      },
      "execution_count": 118,
      "outputs": [
        {
          "output_type": "stream",
          "name": "stdout",
          "text": [
            "Epoch 1/5\n",
            "800/800 [==============================] - 7s 5ms/step - loss: 5.6698 - val_loss: 0.5425\n",
            "Epoch 2/5\n",
            "800/800 [==============================] - 3s 4ms/step - loss: 0.6891 - val_loss: 0.3440\n",
            "Epoch 3/5\n",
            "800/800 [==============================] - 3s 4ms/step - loss: 0.4437 - val_loss: 0.2361\n",
            "Epoch 4/5\n",
            "800/800 [==============================] - 4s 4ms/step - loss: 0.3226 - val_loss: 0.1682\n",
            "Epoch 5/5\n",
            "800/800 [==============================] - 4s 5ms/step - loss: 0.2699 - val_loss: 0.1489\n",
            "=======================\n",
            "Model: \"sequential_5\"\n",
            "_________________________________________________________________\n",
            " Layer (type)                Output Shape              Param #   \n",
            "=================================================================\n",
            " conv_lstm2d_1 (ConvLSTM2D)  (None, 1, 2, 8)           608       \n",
            "                                                                 \n",
            " flatten_3 (Flatten)         (None, 16)                0         \n",
            "                                                                 \n",
            " dense_7 (Dense)             (None, 1)                 17        \n",
            "                                                                 \n",
            "=================================================================\n",
            "Total params: 625\n",
            "Trainable params: 625\n",
            "Non-trainable params: 0\n",
            "_________________________________________________________________\n"
          ]
        }
      ]
    },
    {
      "cell_type": "markdown",
      "source": [
        "# **LSTM**"
      ],
      "metadata": {
        "id": "NYMWramRUaRZ"
      }
    },
    {
      "cell_type": "code",
      "source": [
        "x_train,y_train= df_train[['latitude','longitude','depth']],df_train[['mag']]\n",
        "x_test,y_test= df_test[['latitude','longitude','depth']],df_test[['mag']]\n",
        "x_val,y_val  = df_val[['latitude','longitude','depth']],df_val[['mag']]\n",
        "\n",
        "print(x_train.shape)\n",
        "\n",
        "batch_size = 32\n",
        "buffer_size = x_train.shape[0]\n",
        "# Provide an infinite dataset\n",
        "x_train = np.array(x_train)\n",
        "x_test = np.array(x_test)\n",
        "x_val = np.array(x_val)\n",
        "\n",
        "x_train = x_train.reshape((x_train.shape[0],1,1, x_train.shape[1], 1))\n",
        "x_test = x_test.reshape((x_test.shape[0],1,1, x_test.shape[1], 1))\n",
        "x_val = x_val.reshape((x_val.shape[0],1,1, x_val.shape[1], 1))\n",
        "train_iterator = tf.data.Dataset.from_tensor_slices((np.array(x_train), np.array(y_train))).shuffle(buffer_size).batch(batch_size).repeat()\n",
        "# Provide an infinite dataset\n",
        "val_iterator = tf.data.Dataset.from_tensor_slices((np.array(x_val), np.array(y_val))).batch(batch_size).repeat()\n",
        "test_iterator = tf.data.Dataset.from_tensor_slices((np.array(x_test), np.array(y_test))).batch(batch_size).repeat()\n",
        "\n",
        "print(train_iterator)\n"
      ],
      "metadata": {
        "id": "iVd0iYZJMWn4",
        "colab": {
          "base_uri": "https://localhost:8080/"
        },
        "outputId": "3e6276f5-1437-4e9b-e350-c47c854fdb16"
      },
      "execution_count": 30,
      "outputs": [
        {
          "output_type": "stream",
          "name": "stdout",
          "text": [
            "(12512, 3)\n",
            "<RepeatDataset element_spec=(TensorSpec(shape=(None, 1, 1, 3, 1), dtype=tf.float64, name=None), TensorSpec(shape=(None, 1), dtype=tf.float64, name=None))>\n"
          ]
        }
      ]
    },
    {
      "cell_type": "code",
      "source": [],
      "metadata": {
        "id": "a-qRaYS8MWia"
      },
      "execution_count": 30,
      "outputs": []
    },
    {
      "cell_type": "code",
      "source": [],
      "metadata": {
        "id": "yNlzviBKMWeF"
      },
      "execution_count": 30,
      "outputs": []
    },
    {
      "cell_type": "code",
      "source": [
        "\n",
        "# # split a univariate sequence\n",
        "# def split_sequence(sequence, n_steps):\n",
        "# \tX, y = list(), list()\n",
        "# \tfor i in range(len(sequence)):\n",
        "# \t\t# find the end of this pattern\n",
        "# \t\tend_ix = i + n_steps\n",
        "# \t\t# check if we are beyond the sequence\n",
        "# \t\tif end_ix > len(sequence)-1:\n",
        "# \t\t\tbreak\n",
        "# \t\t# gather input and output parts of the pattern\n",
        "# \t\tseq_x, seq_y = sequence[i:end_ix], sequence[end_ix]\n",
        "# \t\tX.append(seq_x)\n",
        "# \t\ty.append(seq_y)\n",
        "# \treturn array(X), array(y)\n",
        "\n",
        "# # define input sequence\n",
        "# raw_seq = [10, 20, 30, 40, 50, 60, 70, 80, 90]\n",
        "# # choose a number of time steps\n",
        "# n_steps = 3\n",
        "# # split into samples\n",
        "# X, y = split_sequence(raw_seq, n_steps)\n",
        "# # reshape from [samples, timesteps] into [samples, timesteps, features]\n",
        "# n_features = 1\n",
        "# print(X.shape)\n",
        "# X = X.reshape((X.shape[0], X.shape[1], n_features))\n",
        "# print(X.shape)"
      ],
      "metadata": {
        "id": "mGVlw0v-WpiR"
      },
      "execution_count": 31,
      "outputs": []
    },
    {
      "cell_type": "code",
      "source": [
        "# # univariate cnn lstm example\n",
        "# from numpy import array\n",
        "# from keras.models import Sequential\n",
        "# from keras.layers import LSTM\n",
        "# from keras.layers import Dense\n",
        "# from keras.layers import Flatten\n",
        "# from keras.layers import TimeDistributed\n",
        "# from keras.layers.convolutional import Conv1D\n",
        "# from keras.layers.convolutional import MaxPooling1D\n",
        "\n",
        "# # split a univariate sequence into samples\n",
        "# def split_sequence(sequence, n_steps):\n",
        "# \tX, y = list(), list()\n",
        "# \tfor i in range(len(sequence)):\n",
        "# \t\t# find the end of this pattern\n",
        "# \t\tend_ix = i + n_steps\n",
        "# \t\t# check if we are beyond the sequence\n",
        "# \t\tif end_ix > len(sequence)-1:\n",
        "# \t\t\tbreak\n",
        "# \t\t# gather input and output parts of the pattern\n",
        "# \t\tseq_x, seq_y = sequence[i:end_ix], sequence[end_ix]\n",
        "# \t\tX.append(seq_x)\n",
        "# \t\ty.append(seq_y)\n",
        "# \treturn array(X), array(y)\n",
        "\n",
        "# # define input sequence\n",
        "# raw_seq = [10, 20, 30, 40, 50, 60, 70, 80, 90]\n",
        "# # choose a number of time steps\n",
        "# n_steps = 4\n",
        "# # split into samples\n",
        "# X, y = split_sequence(raw_seq, n_steps)\n",
        "# # reshape from [samples, timesteps] into [samples, subsequences, timesteps, features]\n",
        "# n_features = 1\n",
        "# n_seq = 2\n",
        "# n_steps = 2\n",
        "# print(X.shape[0], n_seq, n_steps, n_features)\n",
        "# print(X.shape)\n",
        "# print(X)\n",
        "# X = X.reshape((X.shape[0], n_seq, n_steps, n_features))\n",
        "\n",
        "\n",
        "# # define model\n",
        "# model = Sequential()\n",
        "# model.add(TimeDistributed(Conv1D(filters=64, kernel_size=1, activation='relu'), input_shape=(None, n_steps, n_features)))\n",
        "# model.add(TimeDistributed(MaxPooling1D(pool_size=2)))\n",
        "# model.add(TimeDistributed(Flatten()))\n",
        "# model.add(LSTM(50, activation='relu'))\n",
        "# model.add(Dense(1))\n",
        "# model.compile(optimizer='adam', loss='mse')\n",
        "# # # fit model\n",
        "# # model.fit(X, y, epochs=500)\n",
        "# # # demonstrate prediction\n",
        "# # x_input = array([60, 70, 80, 90])\n",
        "# # x_input = x_input.reshape((1, n_seq, n_steps, n_features))\n",
        "# # yhat = model.predict(x_input, verbose=0)\n",
        "# # print(yhat)\n"
      ],
      "metadata": {
        "id": "5io0Iq7dVdnb"
      },
      "execution_count": 32,
      "outputs": []
    },
    {
      "cell_type": "code",
      "source": [
        "# epochs = 10\n",
        "# steps_per_epoch = 800\n",
        "# validation_steps = 80\n",
        "# # Train with an infinite dataset\n",
        "# x_train = np.array(x_train)\n",
        "# x_train = x_train.reshape((x_train.shape[0], x_train.shape[1], 1))\n",
        "# history = model.fit(x_train, y_train,epochs=epochs,\n",
        "#                     steps_per_epoch=steps_per_epoch\n",
        "#                    )\n",
        "# print('=======================')\n",
        "# model.summary()"
      ],
      "metadata": {
        "application/vnd.databricks.v1+cell": {
          "title": "",
          "showTitle": false,
          "inputWidgets": {},
          "nuid": "5fdc9bd2-4e22-48cb-ab4e-7973d931306c"
        },
        "id": "faWbtxVzQhgW"
      },
      "outputs": [],
      "execution_count": 33
    },
    {
      "cell_type": "code",
      "source": [
        "\n",
        "#for batch_num, (x, y) in enumerate(test_iterator.take(3)):\n",
        "  \n",
        "len(model3.predict(np.array(x_test)).reshape(-1))"
      ],
      "metadata": {
        "id": "29j0cx5duex5",
        "colab": {
          "base_uri": "https://localhost:8080/"
        },
        "outputId": "0404cd5d-8480-4833-fac4-5d2560482721"
      },
      "execution_count": 34,
      "outputs": [
        {
          "output_type": "stream",
          "name": "stdout",
          "text": [
            "112/112 [==============================] - 0s 2ms/step\n"
          ]
        },
        {
          "output_type": "execute_result",
          "data": {
            "text/plain": [
              "3566"
            ]
          },
          "metadata": {},
          "execution_count": 34
        }
      ]
    },
    {
      "cell_type": "code",
      "source": [
        "\n",
        "# yhat = model.predict(np.array(x_test), verbose=0).reshape(-1)\n"
      ],
      "metadata": {
        "id": "OvV7DyHMueha"
      },
      "execution_count": 35,
      "outputs": []
    },
    {
      "cell_type": "code",
      "source": [
        "# x_test.shape"
      ],
      "metadata": {
        "id": "RH_hm4NH4T3C"
      },
      "execution_count": 36,
      "outputs": []
    },
    {
      "cell_type": "code",
      "source": [
        "# df_final = df_test.copy()\n",
        "# df_final['yhat']=model.predict(np.array(x_test)).reshape(-1)"
      ],
      "metadata": {
        "id": "7gNO8veDxH27"
      },
      "execution_count": 37,
      "outputs": []
    },
    {
      "cell_type": "code",
      "source": [
        "df_final.head()"
      ],
      "metadata": {
        "colab": {
          "base_uri": "https://localhost:8080/",
          "height": 237
        },
        "id": "fEI_x4bd4rIA",
        "outputId": "db1a4fbd-dca3-4348-83b8-3194b700a7f1"
      },
      "execution_count": 38,
      "outputs": [
        {
          "output_type": "execute_result",
          "data": {
            "text/plain": [
              "                                  latitude  longitude   depth  mag      yhat\n",
              "time                                                                        \n",
              "2016-10-20 02:49:53.120000+00:00   35.8196   140.5082   18.91  5.3  4.749015\n",
              "2016-10-20 19:07:26.450000+00:00   41.9161   140.8357  154.05  4.2  4.392121\n",
              "2016-10-21 05:07:22.990000+00:00   35.3743   133.8092    5.63  6.2  4.630065\n",
              "2016-10-21 05:30:07.340000+00:00   35.5001   133.5914   10.00  4.1  4.597799\n",
              "2016-10-21 05:33:58.790000+00:00   35.3563   133.8545   10.00  4.0  4.594878"
            ],
            "text/html": [
              "\n",
              "  <div id=\"df-2c5bf6b8-45c9-4c29-bcbb-e7e9e75daeb7\">\n",
              "    <div class=\"colab-df-container\">\n",
              "      <div>\n",
              "<style scoped>\n",
              "    .dataframe tbody tr th:only-of-type {\n",
              "        vertical-align: middle;\n",
              "    }\n",
              "\n",
              "    .dataframe tbody tr th {\n",
              "        vertical-align: top;\n",
              "    }\n",
              "\n",
              "    .dataframe thead th {\n",
              "        text-align: right;\n",
              "    }\n",
              "</style>\n",
              "<table border=\"1\" class=\"dataframe\">\n",
              "  <thead>\n",
              "    <tr style=\"text-align: right;\">\n",
              "      <th></th>\n",
              "      <th>latitude</th>\n",
              "      <th>longitude</th>\n",
              "      <th>depth</th>\n",
              "      <th>mag</th>\n",
              "      <th>yhat</th>\n",
              "    </tr>\n",
              "    <tr>\n",
              "      <th>time</th>\n",
              "      <th></th>\n",
              "      <th></th>\n",
              "      <th></th>\n",
              "      <th></th>\n",
              "      <th></th>\n",
              "    </tr>\n",
              "  </thead>\n",
              "  <tbody>\n",
              "    <tr>\n",
              "      <th>2016-10-20 02:49:53.120000+00:00</th>\n",
              "      <td>35.8196</td>\n",
              "      <td>140.5082</td>\n",
              "      <td>18.91</td>\n",
              "      <td>5.3</td>\n",
              "      <td>4.749015</td>\n",
              "    </tr>\n",
              "    <tr>\n",
              "      <th>2016-10-20 19:07:26.450000+00:00</th>\n",
              "      <td>41.9161</td>\n",
              "      <td>140.8357</td>\n",
              "      <td>154.05</td>\n",
              "      <td>4.2</td>\n",
              "      <td>4.392121</td>\n",
              "    </tr>\n",
              "    <tr>\n",
              "      <th>2016-10-21 05:07:22.990000+00:00</th>\n",
              "      <td>35.3743</td>\n",
              "      <td>133.8092</td>\n",
              "      <td>5.63</td>\n",
              "      <td>6.2</td>\n",
              "      <td>4.630065</td>\n",
              "    </tr>\n",
              "    <tr>\n",
              "      <th>2016-10-21 05:30:07.340000+00:00</th>\n",
              "      <td>35.5001</td>\n",
              "      <td>133.5914</td>\n",
              "      <td>10.00</td>\n",
              "      <td>4.1</td>\n",
              "      <td>4.597799</td>\n",
              "    </tr>\n",
              "    <tr>\n",
              "      <th>2016-10-21 05:33:58.790000+00:00</th>\n",
              "      <td>35.3563</td>\n",
              "      <td>133.8545</td>\n",
              "      <td>10.00</td>\n",
              "      <td>4.0</td>\n",
              "      <td>4.594878</td>\n",
              "    </tr>\n",
              "  </tbody>\n",
              "</table>\n",
              "</div>\n",
              "      <button class=\"colab-df-convert\" onclick=\"convertToInteractive('df-2c5bf6b8-45c9-4c29-bcbb-e7e9e75daeb7')\"\n",
              "              title=\"Convert this dataframe to an interactive table.\"\n",
              "              style=\"display:none;\">\n",
              "        \n",
              "  <svg xmlns=\"http://www.w3.org/2000/svg\" height=\"24px\"viewBox=\"0 0 24 24\"\n",
              "       width=\"24px\">\n",
              "    <path d=\"M0 0h24v24H0V0z\" fill=\"none\"/>\n",
              "    <path d=\"M18.56 5.44l.94 2.06.94-2.06 2.06-.94-2.06-.94-.94-2.06-.94 2.06-2.06.94zm-11 1L8.5 8.5l.94-2.06 2.06-.94-2.06-.94L8.5 2.5l-.94 2.06-2.06.94zm10 10l.94 2.06.94-2.06 2.06-.94-2.06-.94-.94-2.06-.94 2.06-2.06.94z\"/><path d=\"M17.41 7.96l-1.37-1.37c-.4-.4-.92-.59-1.43-.59-.52 0-1.04.2-1.43.59L10.3 9.45l-7.72 7.72c-.78.78-.78 2.05 0 2.83L4 21.41c.39.39.9.59 1.41.59.51 0 1.02-.2 1.41-.59l7.78-7.78 2.81-2.81c.8-.78.8-2.07 0-2.86zM5.41 20L4 18.59l7.72-7.72 1.47 1.35L5.41 20z\"/>\n",
              "  </svg>\n",
              "      </button>\n",
              "      \n",
              "  <style>\n",
              "    .colab-df-container {\n",
              "      display:flex;\n",
              "      flex-wrap:wrap;\n",
              "      gap: 12px;\n",
              "    }\n",
              "\n",
              "    .colab-df-convert {\n",
              "      background-color: #E8F0FE;\n",
              "      border: none;\n",
              "      border-radius: 50%;\n",
              "      cursor: pointer;\n",
              "      display: none;\n",
              "      fill: #1967D2;\n",
              "      height: 32px;\n",
              "      padding: 0 0 0 0;\n",
              "      width: 32px;\n",
              "    }\n",
              "\n",
              "    .colab-df-convert:hover {\n",
              "      background-color: #E2EBFA;\n",
              "      box-shadow: 0px 1px 2px rgba(60, 64, 67, 0.3), 0px 1px 3px 1px rgba(60, 64, 67, 0.15);\n",
              "      fill: #174EA6;\n",
              "    }\n",
              "\n",
              "    [theme=dark] .colab-df-convert {\n",
              "      background-color: #3B4455;\n",
              "      fill: #D2E3FC;\n",
              "    }\n",
              "\n",
              "    [theme=dark] .colab-df-convert:hover {\n",
              "      background-color: #434B5C;\n",
              "      box-shadow: 0px 1px 3px 1px rgba(0, 0, 0, 0.15);\n",
              "      filter: drop-shadow(0px 1px 2px rgba(0, 0, 0, 0.3));\n",
              "      fill: #FFFFFF;\n",
              "    }\n",
              "  </style>\n",
              "\n",
              "      <script>\n",
              "        const buttonEl =\n",
              "          document.querySelector('#df-2c5bf6b8-45c9-4c29-bcbb-e7e9e75daeb7 button.colab-df-convert');\n",
              "        buttonEl.style.display =\n",
              "          google.colab.kernel.accessAllowed ? 'block' : 'none';\n",
              "\n",
              "        async function convertToInteractive(key) {\n",
              "          const element = document.querySelector('#df-2c5bf6b8-45c9-4c29-bcbb-e7e9e75daeb7');\n",
              "          const dataTable =\n",
              "            await google.colab.kernel.invokeFunction('convertToInteractive',\n",
              "                                                     [key], {});\n",
              "          if (!dataTable) return;\n",
              "\n",
              "          const docLinkHtml = 'Like what you see? Visit the ' +\n",
              "            '<a target=\"_blank\" href=https://colab.research.google.com/notebooks/data_table.ipynb>data table notebook</a>'\n",
              "            + ' to learn more about interactive tables.';\n",
              "          element.innerHTML = '';\n",
              "          dataTable['output_type'] = 'display_data';\n",
              "          await google.colab.output.renderOutput(dataTable, element);\n",
              "          const docLink = document.createElement('div');\n",
              "          docLink.innerHTML = docLinkHtml;\n",
              "          element.appendChild(docLink);\n",
              "        }\n",
              "      </script>\n",
              "    </div>\n",
              "  </div>\n",
              "  "
            ]
          },
          "metadata": {},
          "execution_count": 38
        }
      ]
    },
    {
      "cell_type": "code",
      "source": [
        "# # univariate lstm example\n",
        "# from numpy import array\n",
        "# from keras.models import Sequential\n",
        "# from keras.layers import LSTM\n",
        "# from keras.layers import Dense\n",
        " \n",
        "# # split a univariate sequence into samples\n",
        "# def split_sequence(sequence, n_steps):\n",
        "# \tX, y = list(), list()\n",
        "# \tfor i in range(len(sequence)):\n",
        "# \t\t# find the end of this pattern\n",
        "# \t\tend_ix = i + n_steps\n",
        "# \t\t# check if we are beyond the sequence\n",
        "# \t\tif end_ix > len(sequence)-1:\n",
        "# \t\t\tbreak\n",
        "# \t\t# gather input and output parts of the pattern\n",
        "# \t\tseq_x, seq_y = sequence[i:end_ix], sequence[end_ix]\n",
        "    \n",
        "# \t\tX.append(seq_x)\n",
        "# \t\ty.append(seq_y)\n",
        "# \treturn array(X), array(y)\n",
        " \n",
        "# # define input sequence\n",
        "# raw_seq = [10, 20, 30, 40, 50, 60, 70, 80, 90]\n",
        "# # choose a number of time steps\n",
        "# n_steps = 3\n",
        "# # split into samples\n",
        "# X, y = split_sequence(raw_seq, n_steps)\n",
        "\n",
        "# # reshape from [samples, timesteps] into [samples, timesteps, features]\n",
        "# n_features = 1\n",
        "# print('++++++++++++++++++++++++++++++++++++++++++++++++')\n",
        "# print(X.shape)\n",
        "# X = X.reshape((X.shape[0], X.shape[1], n_features))\n",
        "# print(X.ndim)\n",
        "# # define model\n",
        "# model = Sequential()\n",
        "# model.add(LSTM(50, activation='relu', input_shape=(n_steps, n_features)))\n",
        "# model.add(Dense(1))\n",
        "# model.compile(optimizer='adam', loss='mse')\n",
        "# # fit model\n",
        "# model.fit(X, y, epochs=200, verbose=0)\n",
        "# # demonstrate prediction\n",
        "# x_input = array([70, 80, 90])\n",
        "# x_input = x_input.reshape((1, n_steps, n_features))\n",
        "# yhat = model.predict(x_input, verbose=0)\n",
        "# print(yhat)"
      ],
      "metadata": {
        "application/vnd.databricks.v1+cell": {
          "title": "",
          "showTitle": false,
          "inputWidgets": {},
          "nuid": "691456b4-64dd-42bd-b51e-2f2e22fefcfc"
        },
        "id": "lkt9oSILQhgZ"
      },
      "outputs": [],
      "execution_count": 39
    },
    {
      "cell_type": "code",
      "source": [
        "from sklearn.cluster import AgglomerativeClustering"
      ],
      "metadata": {
        "id": "YwYqr5xuWj84"
      },
      "execution_count": 119,
      "outputs": []
    },
    {
      "cell_type": "code",
      "source": [
        "len(df_dend.index)"
      ],
      "metadata": {
        "colab": {
          "base_uri": "https://localhost:8080/"
        },
        "id": "waW4fWD9A_tw",
        "outputId": "6a65b35c-4c14-426f-ee22-77d10982c241"
      },
      "execution_count": 127,
      "outputs": [
        {
          "output_type": "execute_result",
          "data": {
            "text/plain": [
              "3566"
            ]
          },
          "metadata": {},
          "execution_count": 127
        }
      ]
    },
    {
      "cell_type": "code",
      "source": [
        "import scipy.cluster.hierarchy as shc\n",
        "from matplotlib import pyplot\n",
        "pyplot.figure(figsize=(30, 15))  \n",
        "pyplot.title(\"Dendrograms\")  \n",
        "df_dend = df_final.drop(['mag'],axis=1) \n",
        "dend = shc.dendrogram(shc.linkage(df_dend, method='ward'),leaf_rotation=90,leaf_font_size=18,color_threshold=1500)\n",
        "pyplot.axhline(y=1500,c='gray',lw=1,linestyle='dashed')\n",
        "#pyplot.set_xticklabels(np.arange(len(df_dend.index),100))\n",
        "pyplot.xlabel(\"data points\")\n",
        "pyplot.ylabel(\"height\")"
      ],
      "metadata": {
        "id": "ECs_4L7Q_8nu",
        "colab": {
          "base_uri": "https://localhost:8080/",
          "height": 707
        },
        "outputId": "7e2a0ffc-2fcc-4840-e6c5-b21a5ad0d82a"
      },
      "execution_count": 131,
      "outputs": [
        {
          "output_type": "execute_result",
          "data": {
            "text/plain": [
              "Text(0, 0.5, 'height')"
            ]
          },
          "metadata": {},
          "execution_count": 131
        },
        {
          "output_type": "display_data",
          "data": {
            "text/plain": [
              "<Figure size 2160x1080 with 1 Axes>"
            ],
            "image/png": "[encoded data removed]"
          },
          "metadata": {
            "needs_background": "light"
          }
        }
      ]
    },
    {
      "cell_type": "code",
      "source": [
        "cluster = AgglomerativeClustering(n_clusters=2).fit(df_dend)\n",
        "df_dend['labels'] = cluster.labels_"
      ],
      "metadata": {
        "id": "foumK4dV-1lG"
      },
      "execution_count": 42,
      "outputs": []
    },
    {
      "cell_type": "code",
      "source": [
        "df_dend.head()"
      ],
      "metadata": {
        "colab": {
          "base_uri": "https://localhost:8080/",
          "height": 237
        },
        "id": "IZ0QSQ0X-zB2",
        "outputId": "5b00ddcc-e03d-4504-d40f-efe1e3d98a23"
      },
      "execution_count": 43,
      "outputs": [
        {
          "output_type": "execute_result",
          "data": {
            "text/plain": [
              "                                  latitude  longitude   depth      yhat  \\\n",
              "time                                                                      \n",
              "2016-10-20 02:49:53.120000+00:00   35.8196   140.5082   18.91  4.749015   \n",
              "2016-10-20 19:07:26.450000+00:00   41.9161   140.8357  154.05  4.392121   \n",
              "2016-10-21 05:07:22.990000+00:00   35.3743   133.8092    5.63  4.630065   \n",
              "2016-10-21 05:30:07.340000+00:00   35.5001   133.5914   10.00  4.597799   \n",
              "2016-10-21 05:33:58.790000+00:00   35.3563   133.8545   10.00  4.594878   \n",
              "\n",
              "                                  labels  \n",
              "time                                      \n",
              "2016-10-20 02:49:53.120000+00:00       0  \n",
              "2016-10-20 19:07:26.450000+00:00       0  \n",
              "2016-10-21 05:07:22.990000+00:00       0  \n",
              "2016-10-21 05:30:07.340000+00:00       0  \n",
              "2016-10-21 05:33:58.790000+00:00       0  "
            ],
            "text/html": [
              "\n",
              "  <div id=\"df-982341a3-93a2-4297-af5d-2c647c917407\">\n",
              "    <div class=\"colab-df-container\">\n",
              "      <div>\n",
              "<style scoped>\n",
              "    .dataframe tbody tr th:only-of-type {\n",
              "        vertical-align: middle;\n",
              "    }\n",
              "\n",
              "    .dataframe tbody tr th {\n",
              "        vertical-align: top;\n",
              "    }\n",
              "\n",
              "    .dataframe thead th {\n",
              "        text-align: right;\n",
              "    }\n",
              "</style>\n",
              "<table border=\"1\" class=\"dataframe\">\n",
              "  <thead>\n",
              "    <tr style=\"text-align: right;\">\n",
              "      <th></th>\n",
              "      <th>latitude</th>\n",
              "      <th>longitude</th>\n",
              "      <th>depth</th>\n",
              "      <th>yhat</th>\n",
              "      <th>labels</th>\n",
              "    </tr>\n",
              "    <tr>\n",
              "      <th>time</th>\n",
              "      <th></th>\n",
              "      <th></th>\n",
              "      <th></th>\n",
              "      <th></th>\n",
              "      <th></th>\n",
              "    </tr>\n",
              "  </thead>\n",
              "  <tbody>\n",
              "    <tr>\n",
              "      <th>2016-10-20 02:49:53.120000+00:00</th>\n",
              "      <td>35.8196</td>\n",
              "      <td>140.5082</td>\n",
              "      <td>18.91</td>\n",
              "      <td>4.749015</td>\n",
              "      <td>0</td>\n",
              "    </tr>\n",
              "    <tr>\n",
              "      <th>2016-10-20 19:07:26.450000+00:00</th>\n",
              "      <td>41.9161</td>\n",
              "      <td>140.8357</td>\n",
              "      <td>154.05</td>\n",
              "      <td>4.392121</td>\n",
              "      <td>0</td>\n",
              "    </tr>\n",
              "    <tr>\n",
              "      <th>2016-10-21 05:07:22.990000+00:00</th>\n",
              "      <td>35.3743</td>\n",
              "      <td>133.8092</td>\n",
              "      <td>5.63</td>\n",
              "      <td>4.630065</td>\n",
              "      <td>0</td>\n",
              "    </tr>\n",
              "    <tr>\n",
              "      <th>2016-10-21 05:30:07.340000+00:00</th>\n",
              "      <td>35.5001</td>\n",
              "      <td>133.5914</td>\n",
              "      <td>10.00</td>\n",
              "      <td>4.597799</td>\n",
              "      <td>0</td>\n",
              "    </tr>\n",
              "    <tr>\n",
              "      <th>2016-10-21 05:33:58.790000+00:00</th>\n",
              "      <td>35.3563</td>\n",
              "      <td>133.8545</td>\n",
              "      <td>10.00</td>\n",
              "      <td>4.594878</td>\n",
              "      <td>0</td>\n",
              "    </tr>\n",
              "  </tbody>\n",
              "</table>\n",
              "</div>\n",
              "      <button class=\"colab-df-convert\" onclick=\"convertToInteractive('df-982341a3-93a2-4297-af5d-2c647c917407')\"\n",
              "              title=\"Convert this dataframe to an interactive table.\"\n",
              "              style=\"display:none;\">\n",
              "        \n",
              "  <svg xmlns=\"http://www.w3.org/2000/svg\" height=\"24px\"viewBox=\"0 0 24 24\"\n",
              "       width=\"24px\">\n",
              "    <path d=\"M0 0h24v24H0V0z\" fill=\"none\"/>\n",
              "    <path d=\"M18.56 5.44l.94 2.06.94-2.06 2.06-.94-2.06-.94-.94-2.06-.94 2.06-2.06.94zm-11 1L8.5 8.5l.94-2.06 2.06-.94-2.06-.94L8.5 2.5l-.94 2.06-2.06.94zm10 10l.94 2.06.94-2.06 2.06-.94-2.06-.94-.94-2.06-.94 2.06-2.06.94z\"/><path d=\"M17.41 7.96l-1.37-1.37c-.4-.4-.92-.59-1.43-.59-.52 0-1.04.2-1.43.59L10.3 9.45l-7.72 7.72c-.78.78-.78 2.05 0 2.83L4 21.41c.39.39.9.59 1.41.59.51 0 1.02-.2 1.41-.59l7.78-7.78 2.81-2.81c.8-.78.8-2.07 0-2.86zM5.41 20L4 18.59l7.72-7.72 1.47 1.35L5.41 20z\"/>\n",
              "  </svg>\n",
              "      </button>\n",
              "      \n",
              "  <style>\n",
              "    .colab-df-container {\n",
              "      display:flex;\n",
              "      flex-wrap:wrap;\n",
              "      gap: 12px;\n",
              "    }\n",
              "\n",
              "    .colab-df-convert {\n",
              "      background-color: #E8F0FE;\n",
              "      border: none;\n",
              "      border-radius: 50%;\n",
              "      cursor: pointer;\n",
              "      display: none;\n",
              "      fill: #1967D2;\n",
              "      height: 32px;\n",
              "      padding: 0 0 0 0;\n",
              "      width: 32px;\n",
              "    }\n",
              "\n",
              "    .colab-df-convert:hover {\n",
              "      background-color: #E2EBFA;\n",
              "      box-shadow: 0px 1px 2px rgba(60, 64, 67, 0.3), 0px 1px 3px 1px rgba(60, 64, 67, 0.15);\n",
              "      fill: #174EA6;\n",
              "    }\n",
              "\n",
              "    [theme=dark] .colab-df-convert {\n",
              "      background-color: #3B4455;\n",
              "      fill: #D2E3FC;\n",
              "    }\n",
              "\n",
              "    [theme=dark] .colab-df-convert:hover {\n",
              "      background-color: #434B5C;\n",
              "      box-shadow: 0px 1px 3px 1px rgba(0, 0, 0, 0.15);\n",
              "      filter: drop-shadow(0px 1px 2px rgba(0, 0, 0, 0.3));\n",
              "      fill: #FFFFFF;\n",
              "    }\n",
              "  </style>\n",
              "\n",
              "      <script>\n",
              "        const buttonEl =\n",
              "          document.querySelector('#df-982341a3-93a2-4297-af5d-2c647c917407 button.colab-df-convert');\n",
              "        buttonEl.style.display =\n",
              "          google.colab.kernel.accessAllowed ? 'block' : 'none';\n",
              "\n",
              "        async function convertToInteractive(key) {\n",
              "          const element = document.querySelector('#df-982341a3-93a2-4297-af5d-2c647c917407');\n",
              "          const dataTable =\n",
              "            await google.colab.kernel.invokeFunction('convertToInteractive',\n",
              "                                                     [key], {});\n",
              "          if (!dataTable) return;\n",
              "\n",
              "          const docLinkHtml = 'Like what you see? Visit the ' +\n",
              "            '<a target=\"_blank\" href=https://colab.research.google.com/notebooks/data_table.ipynb>data table notebook</a>'\n",
              "            + ' to learn more about interactive tables.';\n",
              "          element.innerHTML = '';\n",
              "          dataTable['output_type'] = 'display_data';\n",
              "          await google.colab.output.renderOutput(dataTable, element);\n",
              "          const docLink = document.createElement('div');\n",
              "          docLink.innerHTML = docLinkHtml;\n",
              "          element.appendChild(docLink);\n",
              "        }\n",
              "      </script>\n",
              "    </div>\n",
              "  </div>\n",
              "  "
            ]
          },
          "metadata": {},
          "execution_count": 43
        }
      ]
    },
    {
      "cell_type": "code",
      "source": [
        "df_dend['labels'].unique()"
      ],
      "metadata": {
        "colab": {
          "base_uri": "https://localhost:8080/"
        },
        "id": "D9Ws_AaBs7aO",
        "outputId": "e33c9530-d0a1-44af-97b3-a1f3b5a76451"
      },
      "execution_count": 44,
      "outputs": [
        {
          "output_type": "execute_result",
          "data": {
            "text/plain": [
              "array([0, 1])"
            ]
          },
          "metadata": {},
          "execution_count": 44
        }
      ]
    },
    {
      "cell_type": "code",
      "source": [
        "df_1 = df_dend.loc[(df_dend['labels']==0)]\n",
        "df_2 = df_dend.loc[(df_dend['labels']==1)]\n",
        "# df_3 = df_dend.loc[(df_dend['labels']==2)]\n",
        "# df_4 = df_dend.loc[(df_dend['labels']==3)]"
      ],
      "metadata": {
        "id": "WDOVMcikBAp-"
      },
      "execution_count": 45,
      "outputs": []
    },
    {
      "cell_type": "markdown",
      "source": [
        "# *Plotting the coordinates based on the above cluster*"
      ],
      "metadata": {
        "id": "6MzZuoPgQM2H"
      }
    },
    {
      "cell_type": "code",
      "source": [
        "import fsspec\n",
        "\n",
        "\n",
        "# with fsspec.open(\"/content/data.zip\") as file:\n",
        "with fsspec.open(\"/content/drive/MyDrive/geocopula/japan_data.zip\") as file:\n",
        "    jap = gpd.read_file(file)\n",
        "\n",
        "\n",
        "# geometry = [Point(xy) for xy in zip(df_1['longitude'],df_1['latitude'])]\n",
        "# gdf = GeoDataFrame(df_1,geometry=geometry)\n",
        "# gdf.plot(ax=jap.plot(figsize=(25, 25)), marker='o', color='red', markersize=15);"
      ],
      "metadata": {
        "id": "_CqTrbu7Beat"
      },
      "execution_count": 46,
      "outputs": []
    },
    {
      "cell_type": "code",
      "source": [
        "\n",
        "gdf1 = GeoDataFrame(df_1,geometry=[Point(xy) for xy in zip(df_1['longitude'],df_1['latitude'])])\n",
        "gdf2 = GeoDataFrame(df_2,geometry=[Point(xy) for xy in zip(df_2['longitude'],df_2['latitude'])])\n",
        "\n",
        "bb = gdf1[[\"geometry\"]].copy()\n",
        "bb.reset_index(level=0, inplace=True)\n",
        "label_1_centroid = bb.dissolve().centroid\n",
        "print(label_1_centroid)\n",
        "cc = gdf2[[\"geometry\"]].copy()\n",
        "cc.reset_index(level=0, inplace=True)\n",
        "label_2_centroid = cc.dissolve().centroid\n",
        "print(label_2_centroid)"
      ],
      "metadata": {
        "colab": {
          "base_uri": "https://localhost:8080/"
        },
        "id": "jruMqzdwyPRy",
        "outputId": "4f064004-d98e-4c6b-85cb-76973e27a3b6"
      },
      "execution_count": 47,
      "outputs": [
        {
          "output_type": "stream",
          "name": "stdout",
          "text": [
            "0    POINT (140.61858 36.09951)\n",
            "dtype: geometry\n",
            "0    POINT (137.00146 33.83995)\n",
            "dtype: geometry\n"
          ]
        }
      ]
    },
    {
      "cell_type": "code",
      "source": [
        "print(np.concatenate((np.array(label_1_centroid.x),np.array(label_1_centroid.y)), axis=0))\n",
        "print(np.concatenate((np.array(label_2_centroid.x),np.array(label_2_centroid.y)), axis=0))"
      ],
      "metadata": {
        "colab": {
          "base_uri": "https://localhost:8080/"
        },
        "id": "GjU1xQc7W5g2",
        "outputId": "bc442156-90ec-4fb8-a7be-b05a6e056f5d"
      },
      "execution_count": 48,
      "outputs": [
        {
          "output_type": "stream",
          "name": "stdout",
          "text": [
            "[140.61857535  36.09950948]\n",
            "[137.00146174  33.83994621]\n"
          ]
        }
      ]
    },
    {
      "cell_type": "code",
      "source": [
        "from matplotlib.patches import Circle\n",
        "import cartopy\n",
        "from cartopy.geodesic import Geodesic\n",
        "import cartopy.crs as ccrs\n",
        "import shapely.geometry as sgeom"
      ],
      "metadata": {
        "id": "11rxASK_diZ8"
      },
      "execution_count": 49,
      "outputs": []
    },
    {
      "cell_type": "code",
      "source": [
        "X1 = np.concatenate((np.array(label_1_centroid.x),np.array(label_1_centroid.y)), axis=0)\n",
        "X2 = np.concatenate((np.array(label_2_centroid.x),np.array(label_2_centroid.y)), axis=0)\n",
        "print(X1,X2)"
      ],
      "metadata": {
        "colab": {
          "base_uri": "https://localhost:8080/"
        },
        "id": "likVoIfffKeE",
        "outputId": "b02e7aaf-9270-4449-c64d-8b5b1b33e85a"
      },
      "execution_count": 51,
      "outputs": [
        {
          "output_type": "stream",
          "name": "stdout",
          "text": [
            "[140.61857535  36.09950948] [137.00146174  33.83994621]\n"
          ]
        }
      ]
    },
    {
      "cell_type": "code",
      "source": [
        "pdf = pd.DataFrame({\n",
        "    \"centroids\":[\"label_0\",\"label_1\"],\n",
        "    \"Latitude\":[np.array(label_1_centroid.y)[0],np.array(label_2_centroid.y)[0]],\n",
        "    \"Longitude\":[np.array(label_1_centroid.x)[0],np.array(label_2_centroid.x)[0]]\n",
        "})\n",
        "\n",
        "centroid_df = gpd.GeoDataFrame(pdf, geometry=gpd.points_from_xy(pdf.Longitude, pdf.Latitude))\n",
        "centroid_df"
      ],
      "metadata": {
        "colab": {
          "base_uri": "https://localhost:8080/",
          "height": 112
        },
        "id": "0hN_49XdxWhi",
        "outputId": "3163fa13-cc7a-4969-ea41-604fa755e9c9"
      },
      "execution_count": 65,
      "outputs": [
        {
          "output_type": "execute_result",
          "data": {
            "text/plain": [
              "  centroids   Latitude   Longitude                    geometry\n",
              "0   label_0  36.099509  140.618575  POINT (140.61858 36.09951)\n",
              "1   label_1  33.839946  137.001462  POINT (137.00146 33.83995)"
            ],
            "text/html": [
              "\n",
              "  <div id=\"df-5574abb9-7ef5-4ff2-a0e2-dea79002cf61\">\n",
              "    <div class=\"colab-df-container\">\n",
              "      <div>\n",
              "<style scoped>\n",
              "    .dataframe tbody tr th:only-of-type {\n",
              "        vertical-align: middle;\n",
              "    }\n",
              "\n",
              "    .dataframe tbody tr th {\n",
              "        vertical-align: top;\n",
              "    }\n",
              "\n",
              "    .dataframe thead th {\n",
              "        text-align: right;\n",
              "    }\n",
              "</style>\n",
              "<table border=\"1\" class=\"dataframe\">\n",
              "  <thead>\n",
              "    <tr style=\"text-align: right;\">\n",
              "      <th></th>\n",
              "      <th>centroids</th>\n",
              "      <th>Latitude</th>\n",
              "      <th>Longitude</th>\n",
              "      <th>geometry</th>\n",
              "    </tr>\n",
              "  </thead>\n",
              "  <tbody>\n",
              "    <tr>\n",
              "      <th>0</th>\n",
              "      <td>label_0</td>\n",
              "      <td>36.099509</td>\n",
              "      <td>140.618575</td>\n",
              "      <td>POINT (140.61858 36.09951)</td>\n",
              "    </tr>\n",
              "    <tr>\n",
              "      <th>1</th>\n",
              "      <td>label_1</td>\n",
              "      <td>33.839946</td>\n",
              "      <td>137.001462</td>\n",
              "      <td>POINT (137.00146 33.83995)</td>\n",
              "    </tr>\n",
              "  </tbody>\n",
              "</table>\n",
              "</div>\n",
              "      <button class=\"colab-df-convert\" onclick=\"convertToInteractive('df-5574abb9-7ef5-4ff2-a0e2-dea79002cf61')\"\n",
              "              title=\"Convert this dataframe to an interactive table.\"\n",
              "              style=\"display:none;\">\n",
              "        \n",
              "  <svg xmlns=\"http://www.w3.org/2000/svg\" height=\"24px\"viewBox=\"0 0 24 24\"\n",
              "       width=\"24px\">\n",
              "    <path d=\"M0 0h24v24H0V0z\" fill=\"none\"/>\n",
              "    <path d=\"M18.56 5.44l.94 2.06.94-2.06 2.06-.94-2.06-.94-.94-2.06-.94 2.06-2.06.94zm-11 1L8.5 8.5l.94-2.06 2.06-.94-2.06-.94L8.5 2.5l-.94 2.06-2.06.94zm10 10l.94 2.06.94-2.06 2.06-.94-2.06-.94-.94-2.06-.94 2.06-2.06.94z\"/><path d=\"M17.41 7.96l-1.37-1.37c-.4-.4-.92-.59-1.43-.59-.52 0-1.04.2-1.43.59L10.3 9.45l-7.72 7.72c-.78.78-.78 2.05 0 2.83L4 21.41c.39.39.9.59 1.41.59.51 0 1.02-.2 1.41-.59l7.78-7.78 2.81-2.81c.8-.78.8-2.07 0-2.86zM5.41 20L4 18.59l7.72-7.72 1.47 1.35L5.41 20z\"/>\n",
              "  </svg>\n",
              "      </button>\n",
              "      \n",
              "  <style>\n",
              "    .colab-df-container {\n",
              "      display:flex;\n",
              "      flex-wrap:wrap;\n",
              "      gap: 12px;\n",
              "    }\n",
              "\n",
              "    .colab-df-convert {\n",
              "      background-color: #E8F0FE;\n",
              "      border: none;\n",
              "      border-radius: 50%;\n",
              "      cursor: pointer;\n",
              "      display: none;\n",
              "      fill: #1967D2;\n",
              "      height: 32px;\n",
              "      padding: 0 0 0 0;\n",
              "      width: 32px;\n",
              "    }\n",
              "\n",
              "    .colab-df-convert:hover {\n",
              "      background-color: #E2EBFA;\n",
              "      box-shadow: 0px 1px 2px rgba(60, 64, 67, 0.3), 0px 1px 3px 1px rgba(60, 64, 67, 0.15);\n",
              "      fill: #174EA6;\n",
              "    }\n",
              "\n",
              "    [theme=dark] .colab-df-convert {\n",
              "      background-color: #3B4455;\n",
              "      fill: #D2E3FC;\n",
              "    }\n",
              "\n",
              "    [theme=dark] .colab-df-convert:hover {\n",
              "      background-color: #434B5C;\n",
              "      box-shadow: 0px 1px 3px 1px rgba(0, 0, 0, 0.15);\n",
              "      filter: drop-shadow(0px 1px 2px rgba(0, 0, 0, 0.3));\n",
              "      fill: #FFFFFF;\n",
              "    }\n",
              "  </style>\n",
              "\n",
              "      <script>\n",
              "        const buttonEl =\n",
              "          document.querySelector('#df-5574abb9-7ef5-4ff2-a0e2-dea79002cf61 button.colab-df-convert');\n",
              "        buttonEl.style.display =\n",
              "          google.colab.kernel.accessAllowed ? 'block' : 'none';\n",
              "\n",
              "        async function convertToInteractive(key) {\n",
              "          const element = document.querySelector('#df-5574abb9-7ef5-4ff2-a0e2-dea79002cf61');\n",
              "          const dataTable =\n",
              "            await google.colab.kernel.invokeFunction('convertToInteractive',\n",
              "                                                     [key], {});\n",
              "          if (!dataTable) return;\n",
              "\n",
              "          const docLinkHtml = 'Like what you see? Visit the ' +\n",
              "            '<a target=\"_blank\" href=https://colab.research.google.com/notebooks/data_table.ipynb>data table notebook</a>'\n",
              "            + ' to learn more about interactive tables.';\n",
              "          element.innerHTML = '';\n",
              "          dataTable['output_type'] = 'display_data';\n",
              "          await google.colab.output.renderOutput(dataTable, element);\n",
              "          const docLink = document.createElement('div');\n",
              "          docLink.innerHTML = docLinkHtml;\n",
              "          element.appendChild(docLink);\n",
              "        }\n",
              "      </script>\n",
              "    </div>\n",
              "  </div>\n",
              "  "
            ]
          },
          "metadata": {},
          "execution_count": 65
        }
      ]
    },
    {
      "cell_type": "code",
      "source": [
        "\n",
        "# gdf3 = GeoDataFrame(df_3,geometry=[Point(xy) for xy in zip(df_3['longitude'],df_3['latitude'])])\n",
        "a = gdf1.plot(ax=jap.plot(figsize=(25, 25)), marker='o', color='Red', markersize=15);\n",
        "b = gdf2.plot(ax=a, marker='o', color='Green', markersize=15);\n",
        "c = centroid_df.plot(ax=b, marker='o', color='Black', markersize=300000,facecolors='none', edgecolors=\"Black\");\n",
        "# X1 = np.concatenate((np.array(label_1_centroid.x),np.array(label_1_centroid.y)), axis=0)\n",
        "# X2 = np.concatenate((np.array(label_2_centroid.x),np.array(label_2_centroid.y)), axis=0)\n",
        "\n",
        "\n",
        "#fc1.plot(label_2_centroid.x,label_2_centroid.y,'black')\n",
        "# c = gdf3.plot(ax=b, marker='o', color='Yellow', markersize=15);\n"
      ],
      "metadata": {
        "colab": {
          "base_uri": "https://localhost:8080/",
          "height": 912
        },
        "id": "60S75CnAQLyt",
        "outputId": "ccd4e401-f375-4c9d-ebc2-f7a35ac56ea1"
      },
      "execution_count": 94,
      "outputs": [
        {
          "output_type": "display_data",
          "data": {
            "text/plain": [
              "<Figure size 1800x1800 with 1 Axes>"
            ],
            "image/png": "[encoded data removed]"
          },
          "metadata": {
            "needs_background": "light"
          }
        }
      ]
    },
    {
      "cell_type": "code",
      "source": [
        "# centroid_df.plot(ax=b, marker='o', color='Red', markersize=80000,facecolors='none', edgecolors=\"red\");"
      ],
      "metadata": {
        "colab": {
          "base_uri": "https://localhost:8080/",
          "height": 35
        },
        "id": "WEwHXGGMz2RK",
        "outputId": "7549c7b2-2ade-4657-fafd-2710d43a4717"
      },
      "execution_count": 87,
      "outputs": [
        {
          "output_type": "display_data",
          "data": {
            "text/plain": [
              "<Figure size 432x288 with 0 Axes>"
            ]
          },
          "metadata": {}
        }
      ]
    },
    {
      "cell_type": "code",
      "source": [
        "# circle = plt.Circle((X1[0],X1[1]), 2)\n",
        "# b.add_artist(circle)"
      ],
      "metadata": {
        "colab": {
          "base_uri": "https://localhost:8080/"
        },
        "id": "A61mbYu7fWt-",
        "outputId": "33ab8c5c-07a4-448b-fed9-c8cefba1f28c"
      },
      "execution_count": 65,
      "outputs": [
        {
          "output_type": "execute_result",
          "data": {
            "text/plain": [
              "<matplotlib.patches.Circle at 0x7f2a6fb9a4d0>"
            ]
          },
          "metadata": {},
          "execution_count": 65
        }
      ]
    },
    {
      "cell_type": "code",
      "source": [],
      "metadata": {
        "colab": {
          "base_uri": "https://localhost:8080/"
        },
        "id": "qJYVy0uXHcH7",
        "outputId": "971dc05f-1be0-4d72-cb54-bdc5bf9394d9"
      },
      "execution_count": 59,
      "outputs": [
        {
          "output_type": "execute_result",
          "data": {
            "text/plain": [
              "<matplotlib.axes._subplots.AxesSubplot at 0x7f18b7f9dfd0>"
            ]
          },
          "metadata": {},
          "execution_count": 59
        }
      ]
    },
    {
      "cell_type": "code",
      "source": [],
      "metadata": {
        "id": "Jwdwr-34Hb9Z"
      },
      "execution_count": null,
      "outputs": []
    },
    {
      "cell_type": "code",
      "source": [
        "# geometry = [Point(xy) for xy in zip(df_2['longitude'],df_2['latitude'])]\n",
        "# gdf = GeoDataFrame(df_2,geometry=geometry)\n",
        "# gdf.plot(ax=jap.plot(figsize=(25, 25)), marker='o', color='Green', markersize=15);"
      ],
      "metadata": {
        "id": "5CpbKrThE3zp"
      },
      "execution_count": null,
      "outputs": []
    },
    {
      "cell_type": "code",
      "source": [
        "# fig, gax = plt.subplots(figsize=(25,25))\n",
        "# b.plot(ax=gax, color='red', alpha = 0.5)\n",
        "\n",
        "# gax.set_xlabel('longitude')\n",
        "# gax.set_ylabel('latitude')\n",
        "# gax.set_title('Japan')\n",
        "\n",
        "# gax.spines['top'].set_visible(False)\n",
        "# gax.spines['right'].set_visible(False)\n",
        "\n",
        "# plt.show()\n"
      ],
      "metadata": {
        "id": "FfWjKK9EM764"
      },
      "execution_count": 90,
      "outputs": []
    },
    {
      "cell_type": "code",
      "source": [],
      "metadata": {
        "id": "o42qruaBQ2oQ"
      },
      "execution_count": null,
      "outputs": []
    },
    {
      "cell_type": "code",
      "source": [],
      "metadata": {
        "id": "PQDXL_UtQ2kY"
      },
      "execution_count": null,
      "outputs": []
    },
    {
      "cell_type": "code",
      "source": [],
      "metadata": {
        "id": "DQiqXnxTQ2gD"
      },
      "execution_count": null,
      "outputs": []
    },
    {
      "cell_type": "code",
      "source": [
        "# import matplotlib.pyplot as plt\n",
        "# from shapely.geometry import Polygon, Point\n",
        "\n",
        "# # LON, LAT\n",
        "# vertices = [(i,j) for i in df_1['longitude'].values for j in df_1['latitude'].values]\n",
        "\n",
        "# p1 = Polygon(vertices)\n",
        "# print(p1)\n",
        "# print(p1.area)\n",
        "# print(p1.bounds)\n",
        "# print(p1.centroid)\n",
        "\n",
        "# plt.plot( [v[0] for v in vertices], [v[1] for v in vertices] )\n",
        "# plt.show()"
      ],
      "metadata": {
        "id": "zewnA3V1RaHg"
      },
      "execution_count": 91,
      "outputs": []
    },
    {
      "cell_type": "code",
      "source": [
        "#https://github.com/Soroush98/LSTM-CNN_Stock/blob/master/LSTM_CNN.py"
      ],
      "metadata": {
        "id": "ypLKCc8fdtW5"
      },
      "execution_count": null,
      "outputs": []
    }
  ],
  "metadata": {
    "application/vnd.databricks.v1+notebook": {
      "notebookName": "earthquake",
      "dashboards": [],
      "notebookMetadata": {
        "pythonIndentUnit": 2
      },
      "language": "python",
      "widgets": {},
      "notebookOrigID": 3669214884002908
    },
    "colab": {
      "provenance": [],
      "collapsed_sections": [],
      "include_colab_link": true
    },
    "language_info": {
      "name": "python"
    },
    "kernelspec": {
      "name": "python3",
      "display_name": "Python 3"
    }
  },
  "nbformat": 4,
  "nbformat_minor": 0
}